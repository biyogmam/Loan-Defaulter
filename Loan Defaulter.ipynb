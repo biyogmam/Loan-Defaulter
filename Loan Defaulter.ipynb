{
 "cells": [
  {
   "cell_type": "markdown",
   "id": "bbc77a33",
   "metadata": {},
   "source": [
    "# PREDICTING LOAN DEFAULTS"
   ]
  },
  {
   "cell_type": "markdown",
   "id": "40c8da5a",
   "metadata": {},
   "source": [
    "## TABLE OF CONTENTS\n",
    "0. [Introduction](#0.-Introduction)\n",
    "1. [Dependencies and Libraries](#1.-Dependencies-and-Libraries)\n",
    "2. [Loading the data](#2.-Loading-the-data)\n",
    "3. [Basic Information of the Dataset](#3.-Basic-Information-of-the-Dataset)  \n",
    " \n",
    "4. [Data Visiualization](#4.-Data-Visiualization)\n",
    "\n",
    "\n",
    "5. [Data Cleaning](#5.-Data-Cleaning)\n",
    "\n",
    "\n",
    "   \n",
    "6. [Feature Engeniering](#6.-Feature-Engeniering)\n",
    "\n",
    "    \n",
    "   \n",
    "7. [Building Models](#7.-Building-Models)\n",
    "\n",
    "      7.1 [Logistic Regression](#7.1-Logistic-Regression)\n",
    "     \n",
    "      7.2 [Decision Tree Classifier](#7.2-Decision-Tree-Classifier)\n",
    "     \n",
    "      7.3 [KNeighbors Classifier](#7.3-KNeighbors-Classifier)\n",
    "     \n",
    "      7.4 [AdaBoost Classifier](#7.4-AdaBoost-Classifier)\n",
    "     \n",
    "      7.5 [Gradient Boosting Classifier](#7.5-Gradient-Boosting-Classifier)\n",
    "     \n",
    "      7.6 [Bagging Classifier](#7.6-Bagging-Classifier)\n",
    "      \n",
    "      7.7 [Random Forest classifier](#7.7-Random-Forest-classifier)\n",
    "     \n",
    "8. [Model Comparison](#8.-Model-Comparison)\n",
    "9. [Using the Best Model for Predictions](#9.-Using-the-Best-Model-for-Predictions)\n",
    "     \n",
    "     "
   ]
  },
  {
   "cell_type": "markdown",
   "id": "3356ebf9",
   "metadata": {},
   "source": [
    "## 0. Introduction"
   ]
  },
  {
   "cell_type": "markdown",
   "id": "48c27823",
   "metadata": {},
   "source": [
    "This project analyses a large dataset available on Kaggle.com. The goal of the project is to use some machine learning algorithms along with information provided by a client at the time of a loan application to predict whether or not they will default on the Loan. \n",
    "\n"
   ]
  },
  {
   "cell_type": "markdown",
   "id": "0d6b5921",
   "metadata": {},
   "source": [
    "## 1. Dependencies and Libraries"
   ]
  },
  {
   "cell_type": "code",
   "execution_count": 112,
   "id": "44f5841a",
   "metadata": {},
   "outputs": [],
   "source": [
    "import pandas as pd #for data frame for date processing\n",
    "import seaborn as sb #for plotting\n",
    "import numpy as np #for making arrays \n",
    "import matplotlib.pyplot as plt\n",
    "from sklearn.model_selection import train_test_split #split model into test and strain data\n",
    "#from sklearn import svm #support vector machine\n",
    "from sklearn.svm import SVC\n",
    "from sklearn.metrics import accuracy_score #used to evaluate the model how it perform on the data set\n",
    "#pd.set_option('display.max_columns', 300) # to display all the columns\n",
    "pd.set_option('display.max_rows', 300) # to display all the rows\n",
    "pd.set_option('display.width', 1000)\n",
    "import warnings\n",
    "warnings.filterwarnings('ignore')"
   ]
  },
  {
   "cell_type": "markdown",
   "id": "513bce6b",
   "metadata": {},
   "source": [
    "## 2. Loading the data"
   ]
  },
  {
   "cell_type": "markdown",
   "id": "ac3711c2",
   "metadata": {},
   "source": [
    "The following table shows the description of all the features used to make predictions."
   ]
  },
  {
   "cell_type": "code",
   "execution_count": 2,
   "id": "f6001837",
   "metadata": {},
   "outputs": [
    {
     "data": {
      "text/html": [
       "<div>\n",
       "<style scoped>\n",
       "    .dataframe tbody tr th:only-of-type {\n",
       "        vertical-align: middle;\n",
       "    }\n",
       "\n",
       "    .dataframe tbody tr th {\n",
       "        vertical-align: top;\n",
       "    }\n",
       "\n",
       "    .dataframe thead th {\n",
       "        text-align: right;\n",
       "    }\n",
       "</style>\n",
       "<table border=\"1\" class=\"dataframe\">\n",
       "  <thead>\n",
       "    <tr style=\"text-align: right;\">\n",
       "      <th></th>\n",
       "      <th>Row</th>\n",
       "      <th>Description</th>\n",
       "    </tr>\n",
       "  </thead>\n",
       "  <tbody>\n",
       "    <tr>\n",
       "      <th>0</th>\n",
       "      <td>SK_ID_CURR</td>\n",
       "      <td>ID of loan in our sample</td>\n",
       "    </tr>\n",
       "    <tr>\n",
       "      <th>1</th>\n",
       "      <td>TARGET</td>\n",
       "      <td>Target variable (1 - client with payment diffi...</td>\n",
       "    </tr>\n",
       "    <tr>\n",
       "      <th>2</th>\n",
       "      <td>NAME_CONTRACT_TYPE</td>\n",
       "      <td>Identification if loan is cash or revolving</td>\n",
       "    </tr>\n",
       "    <tr>\n",
       "      <th>3</th>\n",
       "      <td>CODE_GENDER</td>\n",
       "      <td>Gender of the client</td>\n",
       "    </tr>\n",
       "    <tr>\n",
       "      <th>4</th>\n",
       "      <td>FLAG_OWN_CAR</td>\n",
       "      <td>Flag if the client owns a car</td>\n",
       "    </tr>\n",
       "    <tr>\n",
       "      <th>5</th>\n",
       "      <td>FLAG_OWN_REALTY</td>\n",
       "      <td>Flag if client owns a house or flat</td>\n",
       "    </tr>\n",
       "    <tr>\n",
       "      <th>6</th>\n",
       "      <td>CNT_CHILDREN</td>\n",
       "      <td>Number of children the client has</td>\n",
       "    </tr>\n",
       "    <tr>\n",
       "      <th>7</th>\n",
       "      <td>AMT_INCOME_TOTAL</td>\n",
       "      <td>Income of the client</td>\n",
       "    </tr>\n",
       "    <tr>\n",
       "      <th>8</th>\n",
       "      <td>AMT_CREDIT</td>\n",
       "      <td>Credit amount of the loan</td>\n",
       "    </tr>\n",
       "    <tr>\n",
       "      <th>9</th>\n",
       "      <td>AMT_ANNUITY</td>\n",
       "      <td>Loan annuity</td>\n",
       "    </tr>\n",
       "    <tr>\n",
       "      <th>10</th>\n",
       "      <td>AMT_GOODS_PRICE</td>\n",
       "      <td>For consumer loans it is the price of the good...</td>\n",
       "    </tr>\n",
       "    <tr>\n",
       "      <th>11</th>\n",
       "      <td>NAME_TYPE_SUITE</td>\n",
       "      <td>Who was accompanying client when he was applyi...</td>\n",
       "    </tr>\n",
       "    <tr>\n",
       "      <th>12</th>\n",
       "      <td>NAME_INCOME_TYPE</td>\n",
       "      <td>Clients income type (businessman, working, mat...</td>\n",
       "    </tr>\n",
       "    <tr>\n",
       "      <th>13</th>\n",
       "      <td>NAME_EDUCATION_TYPE</td>\n",
       "      <td>Level of highest education the client achieved</td>\n",
       "    </tr>\n",
       "    <tr>\n",
       "      <th>14</th>\n",
       "      <td>NAME_FAMILY_STATUS</td>\n",
       "      <td>Family status of the client</td>\n",
       "    </tr>\n",
       "    <tr>\n",
       "      <th>15</th>\n",
       "      <td>NAME_HOUSING_TYPE</td>\n",
       "      <td>What is the housing situation of the client (r...</td>\n",
       "    </tr>\n",
       "    <tr>\n",
       "      <th>16</th>\n",
       "      <td>REGION_POPULATION_RELATIVE</td>\n",
       "      <td>Normalized population of region where client l...</td>\n",
       "    </tr>\n",
       "    <tr>\n",
       "      <th>17</th>\n",
       "      <td>DAYS_BIRTH</td>\n",
       "      <td>Client's age in days at the time of application</td>\n",
       "    </tr>\n",
       "    <tr>\n",
       "      <th>18</th>\n",
       "      <td>DAYS_EMPLOYED</td>\n",
       "      <td>How many days before the application the perso...</td>\n",
       "    </tr>\n",
       "    <tr>\n",
       "      <th>19</th>\n",
       "      <td>DAYS_REGISTRATION</td>\n",
       "      <td>How many days before the application did clien...</td>\n",
       "    </tr>\n",
       "    <tr>\n",
       "      <th>20</th>\n",
       "      <td>DAYS_ID_PUBLISH</td>\n",
       "      <td>How many days before the application did clien...</td>\n",
       "    </tr>\n",
       "    <tr>\n",
       "      <th>21</th>\n",
       "      <td>OWN_CAR_AGE</td>\n",
       "      <td>Age of client's car</td>\n",
       "    </tr>\n",
       "    <tr>\n",
       "      <th>22</th>\n",
       "      <td>FLAG_MOBIL</td>\n",
       "      <td>Did client provide mobile phone (1=YES, 0=NO)</td>\n",
       "    </tr>\n",
       "    <tr>\n",
       "      <th>23</th>\n",
       "      <td>FLAG_EMP_PHONE</td>\n",
       "      <td>Did client provide work phone (1=YES, 0=NO)</td>\n",
       "    </tr>\n",
       "    <tr>\n",
       "      <th>24</th>\n",
       "      <td>FLAG_WORK_PHONE</td>\n",
       "      <td>Did client provide home phone (1=YES, 0=NO)</td>\n",
       "    </tr>\n",
       "    <tr>\n",
       "      <th>25</th>\n",
       "      <td>FLAG_CONT_MOBILE</td>\n",
       "      <td>Was mobile phone reachable (1=YES, 0=NO)</td>\n",
       "    </tr>\n",
       "    <tr>\n",
       "      <th>26</th>\n",
       "      <td>FLAG_PHONE</td>\n",
       "      <td>Did client provide home phone (1=YES, 0=NO)</td>\n",
       "    </tr>\n",
       "    <tr>\n",
       "      <th>27</th>\n",
       "      <td>FLAG_EMAIL</td>\n",
       "      <td>Did client provide email (1=YES, 0=NO)</td>\n",
       "    </tr>\n",
       "    <tr>\n",
       "      <th>28</th>\n",
       "      <td>OCCUPATION_TYPE</td>\n",
       "      <td>What kind of occupation does the client have</td>\n",
       "    </tr>\n",
       "    <tr>\n",
       "      <th>29</th>\n",
       "      <td>CNT_FAM_MEMBERS</td>\n",
       "      <td>How many family members does client have</td>\n",
       "    </tr>\n",
       "    <tr>\n",
       "      <th>30</th>\n",
       "      <td>REGION_RATING_CLIENT</td>\n",
       "      <td>Our rating of the region where client lives (1...</td>\n",
       "    </tr>\n",
       "    <tr>\n",
       "      <th>31</th>\n",
       "      <td>REGION_RATING_CLIENT_W_CITY</td>\n",
       "      <td>Our rating of the region where client lives wi...</td>\n",
       "    </tr>\n",
       "    <tr>\n",
       "      <th>32</th>\n",
       "      <td>WEEKDAY_APPR_PROCESS_START</td>\n",
       "      <td>On which day of the week did the client apply ...</td>\n",
       "    </tr>\n",
       "    <tr>\n",
       "      <th>33</th>\n",
       "      <td>HOUR_APPR_PROCESS_START</td>\n",
       "      <td>Approximately at what hour did the client appl...</td>\n",
       "    </tr>\n",
       "    <tr>\n",
       "      <th>34</th>\n",
       "      <td>REG_REGION_NOT_LIVE_REGION</td>\n",
       "      <td>Flag if client's permanent address does not ma...</td>\n",
       "    </tr>\n",
       "    <tr>\n",
       "      <th>35</th>\n",
       "      <td>REG_REGION_NOT_WORK_REGION</td>\n",
       "      <td>Flag if client's permanent address does not ma...</td>\n",
       "    </tr>\n",
       "    <tr>\n",
       "      <th>36</th>\n",
       "      <td>LIVE_REGION_NOT_WORK_REGION</td>\n",
       "      <td>Flag if client's contact address does not matc...</td>\n",
       "    </tr>\n",
       "    <tr>\n",
       "      <th>37</th>\n",
       "      <td>REG_CITY_NOT_LIVE_CITY</td>\n",
       "      <td>Flag if client's permanent address does not ma...</td>\n",
       "    </tr>\n",
       "    <tr>\n",
       "      <th>38</th>\n",
       "      <td>REG_CITY_NOT_WORK_CITY</td>\n",
       "      <td>Flag if client's permanent address does not ma...</td>\n",
       "    </tr>\n",
       "    <tr>\n",
       "      <th>39</th>\n",
       "      <td>LIVE_CITY_NOT_WORK_CITY</td>\n",
       "      <td>Flag if client's contact address does not matc...</td>\n",
       "    </tr>\n",
       "    <tr>\n",
       "      <th>40</th>\n",
       "      <td>ORGANIZATION_TYPE</td>\n",
       "      <td>Type of organization where client works</td>\n",
       "    </tr>\n",
       "    <tr>\n",
       "      <th>41</th>\n",
       "      <td>EXT_SOURCE_1</td>\n",
       "      <td>Normalized score from external data source</td>\n",
       "    </tr>\n",
       "    <tr>\n",
       "      <th>42</th>\n",
       "      <td>EXT_SOURCE_2</td>\n",
       "      <td>Normalized score from external data source</td>\n",
       "    </tr>\n",
       "    <tr>\n",
       "      <th>43</th>\n",
       "      <td>EXT_SOURCE_3</td>\n",
       "      <td>Normalized score from external data source</td>\n",
       "    </tr>\n",
       "    <tr>\n",
       "      <th>44</th>\n",
       "      <td>APARTMENTS_AVG</td>\n",
       "      <td>Normalized information about building where th...</td>\n",
       "    </tr>\n",
       "    <tr>\n",
       "      <th>45</th>\n",
       "      <td>BASEMENTAREA_AVG</td>\n",
       "      <td>Normalized information about building where th...</td>\n",
       "    </tr>\n",
       "    <tr>\n",
       "      <th>46</th>\n",
       "      <td>YEARS_BEGINEXPLUATATION_AVG</td>\n",
       "      <td>Normalized information about building where th...</td>\n",
       "    </tr>\n",
       "    <tr>\n",
       "      <th>47</th>\n",
       "      <td>YEARS_BUILD_AVG</td>\n",
       "      <td>Normalized information about building where th...</td>\n",
       "    </tr>\n",
       "    <tr>\n",
       "      <th>48</th>\n",
       "      <td>COMMONAREA_AVG</td>\n",
       "      <td>Normalized information about building where th...</td>\n",
       "    </tr>\n",
       "    <tr>\n",
       "      <th>49</th>\n",
       "      <td>ELEVATORS_AVG</td>\n",
       "      <td>Normalized information about building where th...</td>\n",
       "    </tr>\n",
       "    <tr>\n",
       "      <th>50</th>\n",
       "      <td>ENTRANCES_AVG</td>\n",
       "      <td>Normalized information about building where th...</td>\n",
       "    </tr>\n",
       "    <tr>\n",
       "      <th>51</th>\n",
       "      <td>FLOORSMAX_AVG</td>\n",
       "      <td>Normalized information about building where th...</td>\n",
       "    </tr>\n",
       "    <tr>\n",
       "      <th>52</th>\n",
       "      <td>FLOORSMIN_AVG</td>\n",
       "      <td>Normalized information about building where th...</td>\n",
       "    </tr>\n",
       "    <tr>\n",
       "      <th>53</th>\n",
       "      <td>LANDAREA_AVG</td>\n",
       "      <td>Normalized information about building where th...</td>\n",
       "    </tr>\n",
       "    <tr>\n",
       "      <th>54</th>\n",
       "      <td>LIVINGAPARTMENTS_AVG</td>\n",
       "      <td>Normalized information about building where th...</td>\n",
       "    </tr>\n",
       "    <tr>\n",
       "      <th>55</th>\n",
       "      <td>LIVINGAREA_AVG</td>\n",
       "      <td>Normalized information about building where th...</td>\n",
       "    </tr>\n",
       "    <tr>\n",
       "      <th>56</th>\n",
       "      <td>NONLIVINGAPARTMENTS_AVG</td>\n",
       "      <td>Normalized information about building where th...</td>\n",
       "    </tr>\n",
       "    <tr>\n",
       "      <th>57</th>\n",
       "      <td>NONLIVINGAREA_AVG</td>\n",
       "      <td>Normalized information about building where th...</td>\n",
       "    </tr>\n",
       "    <tr>\n",
       "      <th>58</th>\n",
       "      <td>APARTMENTS_MODE</td>\n",
       "      <td>Normalized information about building where th...</td>\n",
       "    </tr>\n",
       "    <tr>\n",
       "      <th>59</th>\n",
       "      <td>BASEMENTAREA_MODE</td>\n",
       "      <td>Normalized information about building where th...</td>\n",
       "    </tr>\n",
       "    <tr>\n",
       "      <th>60</th>\n",
       "      <td>YEARS_BEGINEXPLUATATION_MODE</td>\n",
       "      <td>Normalized information about building where th...</td>\n",
       "    </tr>\n",
       "    <tr>\n",
       "      <th>61</th>\n",
       "      <td>YEARS_BUILD_MODE</td>\n",
       "      <td>Normalized information about building where th...</td>\n",
       "    </tr>\n",
       "    <tr>\n",
       "      <th>62</th>\n",
       "      <td>COMMONAREA_MODE</td>\n",
       "      <td>Normalized information about building where th...</td>\n",
       "    </tr>\n",
       "    <tr>\n",
       "      <th>63</th>\n",
       "      <td>ELEVATORS_MODE</td>\n",
       "      <td>Normalized information about building where th...</td>\n",
       "    </tr>\n",
       "    <tr>\n",
       "      <th>64</th>\n",
       "      <td>ENTRANCES_MODE</td>\n",
       "      <td>Normalized information about building where th...</td>\n",
       "    </tr>\n",
       "    <tr>\n",
       "      <th>65</th>\n",
       "      <td>FLOORSMAX_MODE</td>\n",
       "      <td>Normalized information about building where th...</td>\n",
       "    </tr>\n",
       "    <tr>\n",
       "      <th>66</th>\n",
       "      <td>FLOORSMIN_MODE</td>\n",
       "      <td>Normalized information about building where th...</td>\n",
       "    </tr>\n",
       "    <tr>\n",
       "      <th>67</th>\n",
       "      <td>LANDAREA_MODE</td>\n",
       "      <td>Normalized information about building where th...</td>\n",
       "    </tr>\n",
       "    <tr>\n",
       "      <th>68</th>\n",
       "      <td>LIVINGAPARTMENTS_MODE</td>\n",
       "      <td>Normalized information about building where th...</td>\n",
       "    </tr>\n",
       "    <tr>\n",
       "      <th>69</th>\n",
       "      <td>LIVINGAREA_MODE</td>\n",
       "      <td>Normalized information about building where th...</td>\n",
       "    </tr>\n",
       "    <tr>\n",
       "      <th>70</th>\n",
       "      <td>NONLIVINGAPARTMENTS_MODE</td>\n",
       "      <td>Normalized information about building where th...</td>\n",
       "    </tr>\n",
       "    <tr>\n",
       "      <th>71</th>\n",
       "      <td>NONLIVINGAREA_MODE</td>\n",
       "      <td>Normalized information about building where th...</td>\n",
       "    </tr>\n",
       "    <tr>\n",
       "      <th>72</th>\n",
       "      <td>APARTMENTS_MEDI</td>\n",
       "      <td>Normalized information about building where th...</td>\n",
       "    </tr>\n",
       "    <tr>\n",
       "      <th>73</th>\n",
       "      <td>BASEMENTAREA_MEDI</td>\n",
       "      <td>Normalized information about building where th...</td>\n",
       "    </tr>\n",
       "    <tr>\n",
       "      <th>74</th>\n",
       "      <td>YEARS_BEGINEXPLUATATION_MEDI</td>\n",
       "      <td>Normalized information about building where th...</td>\n",
       "    </tr>\n",
       "    <tr>\n",
       "      <th>75</th>\n",
       "      <td>YEARS_BUILD_MEDI</td>\n",
       "      <td>Normalized information about building where th...</td>\n",
       "    </tr>\n",
       "    <tr>\n",
       "      <th>76</th>\n",
       "      <td>COMMONAREA_MEDI</td>\n",
       "      <td>Normalized information about building where th...</td>\n",
       "    </tr>\n",
       "    <tr>\n",
       "      <th>77</th>\n",
       "      <td>ELEVATORS_MEDI</td>\n",
       "      <td>Normalized information about building where th...</td>\n",
       "    </tr>\n",
       "    <tr>\n",
       "      <th>78</th>\n",
       "      <td>ENTRANCES_MEDI</td>\n",
       "      <td>Normalized information about building where th...</td>\n",
       "    </tr>\n",
       "    <tr>\n",
       "      <th>79</th>\n",
       "      <td>FLOORSMAX_MEDI</td>\n",
       "      <td>Normalized information about building where th...</td>\n",
       "    </tr>\n",
       "    <tr>\n",
       "      <th>80</th>\n",
       "      <td>FLOORSMIN_MEDI</td>\n",
       "      <td>Normalized information about building where th...</td>\n",
       "    </tr>\n",
       "    <tr>\n",
       "      <th>81</th>\n",
       "      <td>LANDAREA_MEDI</td>\n",
       "      <td>Normalized information about building where th...</td>\n",
       "    </tr>\n",
       "    <tr>\n",
       "      <th>82</th>\n",
       "      <td>LIVINGAPARTMENTS_MEDI</td>\n",
       "      <td>Normalized information about building where th...</td>\n",
       "    </tr>\n",
       "    <tr>\n",
       "      <th>83</th>\n",
       "      <td>LIVINGAREA_MEDI</td>\n",
       "      <td>Normalized information about building where th...</td>\n",
       "    </tr>\n",
       "    <tr>\n",
       "      <th>84</th>\n",
       "      <td>NONLIVINGAPARTMENTS_MEDI</td>\n",
       "      <td>Normalized information about building where th...</td>\n",
       "    </tr>\n",
       "    <tr>\n",
       "      <th>85</th>\n",
       "      <td>NONLIVINGAREA_MEDI</td>\n",
       "      <td>Normalized information about building where th...</td>\n",
       "    </tr>\n",
       "    <tr>\n",
       "      <th>86</th>\n",
       "      <td>FONDKAPREMONT_MODE</td>\n",
       "      <td>Normalized information about building where th...</td>\n",
       "    </tr>\n",
       "    <tr>\n",
       "      <th>87</th>\n",
       "      <td>HOUSETYPE_MODE</td>\n",
       "      <td>Normalized information about building where th...</td>\n",
       "    </tr>\n",
       "    <tr>\n",
       "      <th>88</th>\n",
       "      <td>TOTALAREA_MODE</td>\n",
       "      <td>Normalized information about building where th...</td>\n",
       "    </tr>\n",
       "    <tr>\n",
       "      <th>89</th>\n",
       "      <td>WALLSMATERIAL_MODE</td>\n",
       "      <td>Normalized information about building where th...</td>\n",
       "    </tr>\n",
       "    <tr>\n",
       "      <th>90</th>\n",
       "      <td>EMERGENCYSTATE_MODE</td>\n",
       "      <td>Normalized information about building where th...</td>\n",
       "    </tr>\n",
       "    <tr>\n",
       "      <th>91</th>\n",
       "      <td>OBS_30_CNT_SOCIAL_CIRCLE</td>\n",
       "      <td>How many observation of client's social surrou...</td>\n",
       "    </tr>\n",
       "    <tr>\n",
       "      <th>92</th>\n",
       "      <td>DEF_30_CNT_SOCIAL_CIRCLE</td>\n",
       "      <td>How many observation of client's social surrou...</td>\n",
       "    </tr>\n",
       "    <tr>\n",
       "      <th>93</th>\n",
       "      <td>OBS_60_CNT_SOCIAL_CIRCLE</td>\n",
       "      <td>How many observation of client's social surrou...</td>\n",
       "    </tr>\n",
       "    <tr>\n",
       "      <th>94</th>\n",
       "      <td>DEF_60_CNT_SOCIAL_CIRCLE</td>\n",
       "      <td>How many observation of client's social surrou...</td>\n",
       "    </tr>\n",
       "    <tr>\n",
       "      <th>95</th>\n",
       "      <td>DAYS_LAST_PHONE_CHANGE</td>\n",
       "      <td>How many days before application did client ch...</td>\n",
       "    </tr>\n",
       "    <tr>\n",
       "      <th>96</th>\n",
       "      <td>FLAG_DOCUMENT_2</td>\n",
       "      <td>Did client provide document 2</td>\n",
       "    </tr>\n",
       "    <tr>\n",
       "      <th>97</th>\n",
       "      <td>FLAG_DOCUMENT_3</td>\n",
       "      <td>Did client provide document 3</td>\n",
       "    </tr>\n",
       "    <tr>\n",
       "      <th>98</th>\n",
       "      <td>FLAG_DOCUMENT_4</td>\n",
       "      <td>Did client provide document 4</td>\n",
       "    </tr>\n",
       "    <tr>\n",
       "      <th>99</th>\n",
       "      <td>FLAG_DOCUMENT_5</td>\n",
       "      <td>Did client provide document 5</td>\n",
       "    </tr>\n",
       "    <tr>\n",
       "      <th>100</th>\n",
       "      <td>FLAG_DOCUMENT_6</td>\n",
       "      <td>Did client provide document 6</td>\n",
       "    </tr>\n",
       "    <tr>\n",
       "      <th>101</th>\n",
       "      <td>FLAG_DOCUMENT_7</td>\n",
       "      <td>Did client provide document 7</td>\n",
       "    </tr>\n",
       "    <tr>\n",
       "      <th>102</th>\n",
       "      <td>FLAG_DOCUMENT_8</td>\n",
       "      <td>Did client provide document 8</td>\n",
       "    </tr>\n",
       "    <tr>\n",
       "      <th>103</th>\n",
       "      <td>FLAG_DOCUMENT_9</td>\n",
       "      <td>Did client provide document 9</td>\n",
       "    </tr>\n",
       "    <tr>\n",
       "      <th>104</th>\n",
       "      <td>FLAG_DOCUMENT_10</td>\n",
       "      <td>Did client provide document 10</td>\n",
       "    </tr>\n",
       "    <tr>\n",
       "      <th>105</th>\n",
       "      <td>FLAG_DOCUMENT_11</td>\n",
       "      <td>Did client provide document 11</td>\n",
       "    </tr>\n",
       "    <tr>\n",
       "      <th>106</th>\n",
       "      <td>FLAG_DOCUMENT_12</td>\n",
       "      <td>Did client provide document 12</td>\n",
       "    </tr>\n",
       "    <tr>\n",
       "      <th>107</th>\n",
       "      <td>FLAG_DOCUMENT_13</td>\n",
       "      <td>Did client provide document 13</td>\n",
       "    </tr>\n",
       "    <tr>\n",
       "      <th>108</th>\n",
       "      <td>FLAG_DOCUMENT_14</td>\n",
       "      <td>Did client provide document 14</td>\n",
       "    </tr>\n",
       "    <tr>\n",
       "      <th>109</th>\n",
       "      <td>FLAG_DOCUMENT_15</td>\n",
       "      <td>Did client provide document 15</td>\n",
       "    </tr>\n",
       "    <tr>\n",
       "      <th>110</th>\n",
       "      <td>FLAG_DOCUMENT_16</td>\n",
       "      <td>Did client provide document 16</td>\n",
       "    </tr>\n",
       "    <tr>\n",
       "      <th>111</th>\n",
       "      <td>FLAG_DOCUMENT_17</td>\n",
       "      <td>Did client provide document 17</td>\n",
       "    </tr>\n",
       "    <tr>\n",
       "      <th>112</th>\n",
       "      <td>FLAG_DOCUMENT_18</td>\n",
       "      <td>Did client provide document 18</td>\n",
       "    </tr>\n",
       "    <tr>\n",
       "      <th>113</th>\n",
       "      <td>FLAG_DOCUMENT_19</td>\n",
       "      <td>Did client provide document 19</td>\n",
       "    </tr>\n",
       "    <tr>\n",
       "      <th>114</th>\n",
       "      <td>FLAG_DOCUMENT_20</td>\n",
       "      <td>Did client provide document 20</td>\n",
       "    </tr>\n",
       "    <tr>\n",
       "      <th>115</th>\n",
       "      <td>FLAG_DOCUMENT_21</td>\n",
       "      <td>Did client provide document 21</td>\n",
       "    </tr>\n",
       "    <tr>\n",
       "      <th>116</th>\n",
       "      <td>AMT_REQ_CREDIT_BUREAU_HOUR</td>\n",
       "      <td>Number of enquiries to Credit Bureau about the...</td>\n",
       "    </tr>\n",
       "    <tr>\n",
       "      <th>117</th>\n",
       "      <td>AMT_REQ_CREDIT_BUREAU_DAY</td>\n",
       "      <td>Number of enquiries to Credit Bureau about the...</td>\n",
       "    </tr>\n",
       "    <tr>\n",
       "      <th>118</th>\n",
       "      <td>AMT_REQ_CREDIT_BUREAU_WEEK</td>\n",
       "      <td>Number of enquiries to Credit Bureau about the...</td>\n",
       "    </tr>\n",
       "    <tr>\n",
       "      <th>119</th>\n",
       "      <td>AMT_REQ_CREDIT_BUREAU_MON</td>\n",
       "      <td>Number of enquiries to Credit Bureau about the...</td>\n",
       "    </tr>\n",
       "    <tr>\n",
       "      <th>120</th>\n",
       "      <td>AMT_REQ_CREDIT_BUREAU_QRT</td>\n",
       "      <td>Number of enquiries to Credit Bureau about the...</td>\n",
       "    </tr>\n",
       "    <tr>\n",
       "      <th>121</th>\n",
       "      <td>AMT_REQ_CREDIT_BUREAU_YEAR</td>\n",
       "      <td>Number of enquiries to Credit Bureau about the...</td>\n",
       "    </tr>\n",
       "    <tr>\n",
       "      <th>122</th>\n",
       "      <td>SK_ID_PREV</td>\n",
       "      <td>ID of previous credit in Home credit related t...</td>\n",
       "    </tr>\n",
       "    <tr>\n",
       "      <th>123</th>\n",
       "      <td>SK_ID_CURR</td>\n",
       "      <td>ID of loan in our sample</td>\n",
       "    </tr>\n",
       "    <tr>\n",
       "      <th>124</th>\n",
       "      <td>NAME_CONTRACT_TYPE</td>\n",
       "      <td>Contract product type (Cash loan, consumer loa...</td>\n",
       "    </tr>\n",
       "    <tr>\n",
       "      <th>125</th>\n",
       "      <td>AMT_ANNUITY</td>\n",
       "      <td>Annuity of previous application</td>\n",
       "    </tr>\n",
       "    <tr>\n",
       "      <th>126</th>\n",
       "      <td>AMT_APPLICATION</td>\n",
       "      <td>For how much credit did client ask on the prev...</td>\n",
       "    </tr>\n",
       "    <tr>\n",
       "      <th>127</th>\n",
       "      <td>AMT_CREDIT</td>\n",
       "      <td>Final credit amount on the previous applicatio...</td>\n",
       "    </tr>\n",
       "    <tr>\n",
       "      <th>128</th>\n",
       "      <td>AMT_DOWN_PAYMENT</td>\n",
       "      <td>Down payment on the previous application</td>\n",
       "    </tr>\n",
       "    <tr>\n",
       "      <th>129</th>\n",
       "      <td>AMT_GOODS_PRICE</td>\n",
       "      <td>Goods price of good that client asked for (if ...</td>\n",
       "    </tr>\n",
       "    <tr>\n",
       "      <th>130</th>\n",
       "      <td>WEEKDAY_APPR_PROCESS_START</td>\n",
       "      <td>On which day of the week did the client apply ...</td>\n",
       "    </tr>\n",
       "    <tr>\n",
       "      <th>131</th>\n",
       "      <td>HOUR_APPR_PROCESS_START</td>\n",
       "      <td>Approximately at what day hour did the client ...</td>\n",
       "    </tr>\n",
       "    <tr>\n",
       "      <th>132</th>\n",
       "      <td>FLAG_LAST_APPL_PER_CONTRACT</td>\n",
       "      <td>Flag if it was last application for the previo...</td>\n",
       "    </tr>\n",
       "    <tr>\n",
       "      <th>133</th>\n",
       "      <td>NFLAG_LAST_APPL_IN_DAY</td>\n",
       "      <td>Flag if the application was the last applicati...</td>\n",
       "    </tr>\n",
       "    <tr>\n",
       "      <th>134</th>\n",
       "      <td>NFLAG_MICRO_CASH</td>\n",
       "      <td>Flag Micro finance loan</td>\n",
       "    </tr>\n",
       "    <tr>\n",
       "      <th>135</th>\n",
       "      <td>RATE_DOWN_PAYMENT</td>\n",
       "      <td>Down payment rate normalized on previous credit</td>\n",
       "    </tr>\n",
       "    <tr>\n",
       "      <th>136</th>\n",
       "      <td>RATE_INTEREST_PRIMARY</td>\n",
       "      <td>Interest rate normalized on previous credit</td>\n",
       "    </tr>\n",
       "    <tr>\n",
       "      <th>137</th>\n",
       "      <td>RATE_INTEREST_PRIVILEGED</td>\n",
       "      <td>Interest rate normalized on previous credit</td>\n",
       "    </tr>\n",
       "    <tr>\n",
       "      <th>138</th>\n",
       "      <td>NAME_CASH_LOAN_PURPOSE</td>\n",
       "      <td>Purpose of the cash loan</td>\n",
       "    </tr>\n",
       "    <tr>\n",
       "      <th>139</th>\n",
       "      <td>NAME_CONTRACT_STATUS</td>\n",
       "      <td>Contract status (approved, cancelled, ...) of ...</td>\n",
       "    </tr>\n",
       "    <tr>\n",
       "      <th>140</th>\n",
       "      <td>DAYS_DECISION</td>\n",
       "      <td>Relative to current application when was the d...</td>\n",
       "    </tr>\n",
       "    <tr>\n",
       "      <th>141</th>\n",
       "      <td>NAME_PAYMENT_TYPE</td>\n",
       "      <td>Payment method that client chose to pay for th...</td>\n",
       "    </tr>\n",
       "    <tr>\n",
       "      <th>142</th>\n",
       "      <td>CODE_REJECT_REASON</td>\n",
       "      <td>Why was the previous application rejected</td>\n",
       "    </tr>\n",
       "    <tr>\n",
       "      <th>143</th>\n",
       "      <td>NAME_TYPE_SUITE</td>\n",
       "      <td>Who accompanied client when applying for the p...</td>\n",
       "    </tr>\n",
       "    <tr>\n",
       "      <th>144</th>\n",
       "      <td>NAME_CLIENT_TYPE</td>\n",
       "      <td>Was the client old or new client when applying...</td>\n",
       "    </tr>\n",
       "    <tr>\n",
       "      <th>145</th>\n",
       "      <td>NAME_GOODS_CATEGORY</td>\n",
       "      <td>What kind of goods did the client apply for in...</td>\n",
       "    </tr>\n",
       "    <tr>\n",
       "      <th>146</th>\n",
       "      <td>NAME_PORTFOLIO</td>\n",
       "      <td>Was the previous application for CASH, POS, CA...</td>\n",
       "    </tr>\n",
       "    <tr>\n",
       "      <th>147</th>\n",
       "      <td>NAME_PRODUCT_TYPE</td>\n",
       "      <td>Was the previous application x-sell o walk-in</td>\n",
       "    </tr>\n",
       "    <tr>\n",
       "      <th>148</th>\n",
       "      <td>CHANNEL_TYPE</td>\n",
       "      <td>Through which channel we acquired the client o...</td>\n",
       "    </tr>\n",
       "    <tr>\n",
       "      <th>149</th>\n",
       "      <td>SELLERPLACE_AREA</td>\n",
       "      <td>Selling area of seller place of the previous a...</td>\n",
       "    </tr>\n",
       "    <tr>\n",
       "      <th>150</th>\n",
       "      <td>NAME_SELLER_INDUSTRY</td>\n",
       "      <td>The industry of the seller</td>\n",
       "    </tr>\n",
       "    <tr>\n",
       "      <th>151</th>\n",
       "      <td>CNT_PAYMENT</td>\n",
       "      <td>Term of previous credit at application of the ...</td>\n",
       "    </tr>\n",
       "    <tr>\n",
       "      <th>152</th>\n",
       "      <td>NAME_YIELD_GROUP</td>\n",
       "      <td>Grouped interest rate into small medium and hi...</td>\n",
       "    </tr>\n",
       "    <tr>\n",
       "      <th>153</th>\n",
       "      <td>PRODUCT_COMBINATION</td>\n",
       "      <td>Detailed product combination of the previous a...</td>\n",
       "    </tr>\n",
       "    <tr>\n",
       "      <th>154</th>\n",
       "      <td>DAYS_FIRST_DRAWING</td>\n",
       "      <td>Relative to application date of current applic...</td>\n",
       "    </tr>\n",
       "    <tr>\n",
       "      <th>155</th>\n",
       "      <td>DAYS_FIRST_DUE</td>\n",
       "      <td>Relative to application date of current applic...</td>\n",
       "    </tr>\n",
       "    <tr>\n",
       "      <th>156</th>\n",
       "      <td>DAYS_LAST_DUE_1ST_VERSION</td>\n",
       "      <td>Relative to application date of current applic...</td>\n",
       "    </tr>\n",
       "    <tr>\n",
       "      <th>157</th>\n",
       "      <td>DAYS_LAST_DUE</td>\n",
       "      <td>Relative to application date of current applic...</td>\n",
       "    </tr>\n",
       "    <tr>\n",
       "      <th>158</th>\n",
       "      <td>DAYS_TERMINATION</td>\n",
       "      <td>Relative to application date of current applic...</td>\n",
       "    </tr>\n",
       "    <tr>\n",
       "      <th>159</th>\n",
       "      <td>NFLAG_INSURED_ON_APPROVAL</td>\n",
       "      <td>Did the client requested insurance during the ...</td>\n",
       "    </tr>\n",
       "  </tbody>\n",
       "</table>\n",
       "</div>"
      ],
      "text/plain": [
       "                              Row                                        Description\n",
       "0                      SK_ID_CURR                           ID of loan in our sample\n",
       "1                          TARGET  Target variable (1 - client with payment diffi...\n",
       "2              NAME_CONTRACT_TYPE        Identification if loan is cash or revolving\n",
       "3                     CODE_GENDER                               Gender of the client\n",
       "4                    FLAG_OWN_CAR                      Flag if the client owns a car\n",
       "5                 FLAG_OWN_REALTY                Flag if client owns a house or flat\n",
       "6                    CNT_CHILDREN                  Number of children the client has\n",
       "7                AMT_INCOME_TOTAL                               Income of the client\n",
       "8                      AMT_CREDIT                          Credit amount of the loan\n",
       "9                     AMT_ANNUITY                                       Loan annuity\n",
       "10                AMT_GOODS_PRICE  For consumer loans it is the price of the good...\n",
       "11                NAME_TYPE_SUITE  Who was accompanying client when he was applyi...\n",
       "12               NAME_INCOME_TYPE  Clients income type (businessman, working, mat...\n",
       "13            NAME_EDUCATION_TYPE     Level of highest education the client achieved\n",
       "14             NAME_FAMILY_STATUS                        Family status of the client\n",
       "15              NAME_HOUSING_TYPE  What is the housing situation of the client (r...\n",
       "16     REGION_POPULATION_RELATIVE  Normalized population of region where client l...\n",
       "17                     DAYS_BIRTH    Client's age in days at the time of application\n",
       "18                  DAYS_EMPLOYED  How many days before the application the perso...\n",
       "19              DAYS_REGISTRATION  How many days before the application did clien...\n",
       "20                DAYS_ID_PUBLISH  How many days before the application did clien...\n",
       "21                    OWN_CAR_AGE                                Age of client's car\n",
       "22                     FLAG_MOBIL      Did client provide mobile phone (1=YES, 0=NO)\n",
       "23                 FLAG_EMP_PHONE        Did client provide work phone (1=YES, 0=NO)\n",
       "24                FLAG_WORK_PHONE        Did client provide home phone (1=YES, 0=NO)\n",
       "25               FLAG_CONT_MOBILE           Was mobile phone reachable (1=YES, 0=NO)\n",
       "26                     FLAG_PHONE        Did client provide home phone (1=YES, 0=NO)\n",
       "27                     FLAG_EMAIL             Did client provide email (1=YES, 0=NO)\n",
       "28                OCCUPATION_TYPE       What kind of occupation does the client have\n",
       "29                CNT_FAM_MEMBERS           How many family members does client have\n",
       "30           REGION_RATING_CLIENT  Our rating of the region where client lives (1...\n",
       "31    REGION_RATING_CLIENT_W_CITY  Our rating of the region where client lives wi...\n",
       "32     WEEKDAY_APPR_PROCESS_START  On which day of the week did the client apply ...\n",
       "33        HOUR_APPR_PROCESS_START  Approximately at what hour did the client appl...\n",
       "34     REG_REGION_NOT_LIVE_REGION  Flag if client's permanent address does not ma...\n",
       "35     REG_REGION_NOT_WORK_REGION  Flag if client's permanent address does not ma...\n",
       "36    LIVE_REGION_NOT_WORK_REGION  Flag if client's contact address does not matc...\n",
       "37         REG_CITY_NOT_LIVE_CITY  Flag if client's permanent address does not ma...\n",
       "38         REG_CITY_NOT_WORK_CITY  Flag if client's permanent address does not ma...\n",
       "39        LIVE_CITY_NOT_WORK_CITY  Flag if client's contact address does not matc...\n",
       "40              ORGANIZATION_TYPE            Type of organization where client works\n",
       "41                   EXT_SOURCE_1         Normalized score from external data source\n",
       "42                   EXT_SOURCE_2         Normalized score from external data source\n",
       "43                   EXT_SOURCE_3         Normalized score from external data source\n",
       "44                 APARTMENTS_AVG  Normalized information about building where th...\n",
       "45               BASEMENTAREA_AVG  Normalized information about building where th...\n",
       "46    YEARS_BEGINEXPLUATATION_AVG  Normalized information about building where th...\n",
       "47                YEARS_BUILD_AVG  Normalized information about building where th...\n",
       "48                 COMMONAREA_AVG  Normalized information about building where th...\n",
       "49                  ELEVATORS_AVG  Normalized information about building where th...\n",
       "50                  ENTRANCES_AVG  Normalized information about building where th...\n",
       "51                  FLOORSMAX_AVG  Normalized information about building where th...\n",
       "52                  FLOORSMIN_AVG  Normalized information about building where th...\n",
       "53                   LANDAREA_AVG  Normalized information about building where th...\n",
       "54           LIVINGAPARTMENTS_AVG  Normalized information about building where th...\n",
       "55                 LIVINGAREA_AVG  Normalized information about building where th...\n",
       "56        NONLIVINGAPARTMENTS_AVG  Normalized information about building where th...\n",
       "57              NONLIVINGAREA_AVG  Normalized information about building where th...\n",
       "58                APARTMENTS_MODE  Normalized information about building where th...\n",
       "59              BASEMENTAREA_MODE  Normalized information about building where th...\n",
       "60   YEARS_BEGINEXPLUATATION_MODE  Normalized information about building where th...\n",
       "61               YEARS_BUILD_MODE  Normalized information about building where th...\n",
       "62                COMMONAREA_MODE  Normalized information about building where th...\n",
       "63                 ELEVATORS_MODE  Normalized information about building where th...\n",
       "64                 ENTRANCES_MODE  Normalized information about building where th...\n",
       "65                 FLOORSMAX_MODE  Normalized information about building where th...\n",
       "66                 FLOORSMIN_MODE  Normalized information about building where th...\n",
       "67                  LANDAREA_MODE  Normalized information about building where th...\n",
       "68          LIVINGAPARTMENTS_MODE  Normalized information about building where th...\n",
       "69                LIVINGAREA_MODE  Normalized information about building where th...\n",
       "70       NONLIVINGAPARTMENTS_MODE  Normalized information about building where th...\n",
       "71             NONLIVINGAREA_MODE  Normalized information about building where th...\n",
       "72                APARTMENTS_MEDI  Normalized information about building where th...\n",
       "73              BASEMENTAREA_MEDI  Normalized information about building where th...\n",
       "74   YEARS_BEGINEXPLUATATION_MEDI  Normalized information about building where th...\n",
       "75               YEARS_BUILD_MEDI  Normalized information about building where th...\n",
       "76                COMMONAREA_MEDI  Normalized information about building where th...\n",
       "77                 ELEVATORS_MEDI  Normalized information about building where th...\n",
       "78                 ENTRANCES_MEDI  Normalized information about building where th...\n",
       "79                 FLOORSMAX_MEDI  Normalized information about building where th...\n",
       "80                 FLOORSMIN_MEDI  Normalized information about building where th...\n",
       "81                  LANDAREA_MEDI  Normalized information about building where th...\n",
       "82          LIVINGAPARTMENTS_MEDI  Normalized information about building where th...\n",
       "83                LIVINGAREA_MEDI  Normalized information about building where th...\n",
       "84       NONLIVINGAPARTMENTS_MEDI  Normalized information about building where th...\n",
       "85             NONLIVINGAREA_MEDI  Normalized information about building where th...\n",
       "86             FONDKAPREMONT_MODE  Normalized information about building where th...\n",
       "87                 HOUSETYPE_MODE  Normalized information about building where th...\n",
       "88                 TOTALAREA_MODE  Normalized information about building where th...\n",
       "89             WALLSMATERIAL_MODE  Normalized information about building where th...\n",
       "90            EMERGENCYSTATE_MODE  Normalized information about building where th...\n",
       "91       OBS_30_CNT_SOCIAL_CIRCLE  How many observation of client's social surrou...\n",
       "92       DEF_30_CNT_SOCIAL_CIRCLE  How many observation of client's social surrou...\n",
       "93       OBS_60_CNT_SOCIAL_CIRCLE  How many observation of client's social surrou...\n",
       "94       DEF_60_CNT_SOCIAL_CIRCLE  How many observation of client's social surrou...\n",
       "95         DAYS_LAST_PHONE_CHANGE  How many days before application did client ch...\n",
       "96                FLAG_DOCUMENT_2                      Did client provide document 2\n",
       "97                FLAG_DOCUMENT_3                      Did client provide document 3\n",
       "98                FLAG_DOCUMENT_4                      Did client provide document 4\n",
       "99                FLAG_DOCUMENT_5                      Did client provide document 5\n",
       "100               FLAG_DOCUMENT_6                      Did client provide document 6\n",
       "101               FLAG_DOCUMENT_7                      Did client provide document 7\n",
       "102               FLAG_DOCUMENT_8                      Did client provide document 8\n",
       "103               FLAG_DOCUMENT_9                      Did client provide document 9\n",
       "104              FLAG_DOCUMENT_10                     Did client provide document 10\n",
       "105              FLAG_DOCUMENT_11                     Did client provide document 11\n",
       "106              FLAG_DOCUMENT_12                     Did client provide document 12\n",
       "107              FLAG_DOCUMENT_13                     Did client provide document 13\n",
       "108              FLAG_DOCUMENT_14                     Did client provide document 14\n",
       "109              FLAG_DOCUMENT_15                     Did client provide document 15\n",
       "110              FLAG_DOCUMENT_16                     Did client provide document 16\n",
       "111              FLAG_DOCUMENT_17                     Did client provide document 17\n",
       "112              FLAG_DOCUMENT_18                     Did client provide document 18\n",
       "113              FLAG_DOCUMENT_19                     Did client provide document 19\n",
       "114              FLAG_DOCUMENT_20                     Did client provide document 20\n",
       "115              FLAG_DOCUMENT_21                     Did client provide document 21\n",
       "116    AMT_REQ_CREDIT_BUREAU_HOUR  Number of enquiries to Credit Bureau about the...\n",
       "117     AMT_REQ_CREDIT_BUREAU_DAY  Number of enquiries to Credit Bureau about the...\n",
       "118    AMT_REQ_CREDIT_BUREAU_WEEK  Number of enquiries to Credit Bureau about the...\n",
       "119     AMT_REQ_CREDIT_BUREAU_MON  Number of enquiries to Credit Bureau about the...\n",
       "120     AMT_REQ_CREDIT_BUREAU_QRT  Number of enquiries to Credit Bureau about the...\n",
       "121    AMT_REQ_CREDIT_BUREAU_YEAR  Number of enquiries to Credit Bureau about the...\n",
       "122                   SK_ID_PREV   ID of previous credit in Home credit related t...\n",
       "123                    SK_ID_CURR                           ID of loan in our sample\n",
       "124            NAME_CONTRACT_TYPE  Contract product type (Cash loan, consumer loa...\n",
       "125                   AMT_ANNUITY                    Annuity of previous application\n",
       "126               AMT_APPLICATION  For how much credit did client ask on the prev...\n",
       "127                    AMT_CREDIT  Final credit amount on the previous applicatio...\n",
       "128              AMT_DOWN_PAYMENT           Down payment on the previous application\n",
       "129               AMT_GOODS_PRICE  Goods price of good that client asked for (if ...\n",
       "130    WEEKDAY_APPR_PROCESS_START  On which day of the week did the client apply ...\n",
       "131       HOUR_APPR_PROCESS_START  Approximately at what day hour did the client ...\n",
       "132   FLAG_LAST_APPL_PER_CONTRACT  Flag if it was last application for the previo...\n",
       "133        NFLAG_LAST_APPL_IN_DAY  Flag if the application was the last applicati...\n",
       "134              NFLAG_MICRO_CASH                            Flag Micro finance loan\n",
       "135             RATE_DOWN_PAYMENT    Down payment rate normalized on previous credit\n",
       "136         RATE_INTEREST_PRIMARY        Interest rate normalized on previous credit\n",
       "137      RATE_INTEREST_PRIVILEGED        Interest rate normalized on previous credit\n",
       "138        NAME_CASH_LOAN_PURPOSE                           Purpose of the cash loan\n",
       "139          NAME_CONTRACT_STATUS  Contract status (approved, cancelled, ...) of ...\n",
       "140                 DAYS_DECISION  Relative to current application when was the d...\n",
       "141             NAME_PAYMENT_TYPE  Payment method that client chose to pay for th...\n",
       "142            CODE_REJECT_REASON          Why was the previous application rejected\n",
       "143               NAME_TYPE_SUITE  Who accompanied client when applying for the p...\n",
       "144              NAME_CLIENT_TYPE  Was the client old or new client when applying...\n",
       "145           NAME_GOODS_CATEGORY  What kind of goods did the client apply for in...\n",
       "146                NAME_PORTFOLIO  Was the previous application for CASH, POS, CA...\n",
       "147             NAME_PRODUCT_TYPE      Was the previous application x-sell o walk-in\n",
       "148                  CHANNEL_TYPE  Through which channel we acquired the client o...\n",
       "149              SELLERPLACE_AREA  Selling area of seller place of the previous a...\n",
       "150          NAME_SELLER_INDUSTRY                         The industry of the seller\n",
       "151                   CNT_PAYMENT  Term of previous credit at application of the ...\n",
       "152              NAME_YIELD_GROUP  Grouped interest rate into small medium and hi...\n",
       "153           PRODUCT_COMBINATION  Detailed product combination of the previous a...\n",
       "154            DAYS_FIRST_DRAWING  Relative to application date of current applic...\n",
       "155                DAYS_FIRST_DUE  Relative to application date of current applic...\n",
       "156     DAYS_LAST_DUE_1ST_VERSION  Relative to application date of current applic...\n",
       "157                 DAYS_LAST_DUE  Relative to application date of current applic...\n",
       "158              DAYS_TERMINATION  Relative to application date of current applic...\n",
       "159     NFLAG_INSURED_ON_APPROVAL  Did the client requested insurance during the ..."
      ]
     },
     "execution_count": 2,
     "metadata": {},
     "output_type": "execute_result"
    }
   ],
   "source": [
    "Cd = pd.read_csv(\"columns_description.csv\")\n",
    "Columns_description = Cd.drop(columns={'Unnamed: 0','Table', 'Special'}, axis=1)\n",
    "Columns_description.head(300)"
   ]
  },
  {
   "cell_type": "code",
   "execution_count": 3,
   "id": "38ecea41",
   "metadata": {},
   "outputs": [],
   "source": [
    "data=pd.read_csv(\"application_data.csv\")"
   ]
  },
  {
   "cell_type": "markdown",
   "id": "530a3d84",
   "metadata": {},
   "source": [
    "## 3. Basic Information of the Dataset"
   ]
  },
  {
   "cell_type": "markdown",
   "id": "b317819c",
   "metadata": {},
   "source": [
    "#### 3.1 Quick Look of the dataset(5 first rows) "
   ]
  },
  {
   "cell_type": "code",
   "execution_count": 4,
   "id": "aca19c62",
   "metadata": {},
   "outputs": [
    {
     "data": {
      "text/html": [
       "<div>\n",
       "<style scoped>\n",
       "    .dataframe tbody tr th:only-of-type {\n",
       "        vertical-align: middle;\n",
       "    }\n",
       "\n",
       "    .dataframe tbody tr th {\n",
       "        vertical-align: top;\n",
       "    }\n",
       "\n",
       "    .dataframe thead th {\n",
       "        text-align: right;\n",
       "    }\n",
       "</style>\n",
       "<table border=\"1\" class=\"dataframe\">\n",
       "  <thead>\n",
       "    <tr style=\"text-align: right;\">\n",
       "      <th></th>\n",
       "      <th>SK_ID_CURR</th>\n",
       "      <th>TARGET</th>\n",
       "      <th>NAME_CONTRACT_TYPE</th>\n",
       "      <th>CODE_GENDER</th>\n",
       "      <th>FLAG_OWN_CAR</th>\n",
       "      <th>FLAG_OWN_REALTY</th>\n",
       "      <th>CNT_CHILDREN</th>\n",
       "      <th>AMT_INCOME_TOTAL</th>\n",
       "      <th>AMT_CREDIT</th>\n",
       "      <th>AMT_ANNUITY</th>\n",
       "      <th>...</th>\n",
       "      <th>FLAG_DOCUMENT_18</th>\n",
       "      <th>FLAG_DOCUMENT_19</th>\n",
       "      <th>FLAG_DOCUMENT_20</th>\n",
       "      <th>FLAG_DOCUMENT_21</th>\n",
       "      <th>AMT_REQ_CREDIT_BUREAU_HOUR</th>\n",
       "      <th>AMT_REQ_CREDIT_BUREAU_DAY</th>\n",
       "      <th>AMT_REQ_CREDIT_BUREAU_WEEK</th>\n",
       "      <th>AMT_REQ_CREDIT_BUREAU_MON</th>\n",
       "      <th>AMT_REQ_CREDIT_BUREAU_QRT</th>\n",
       "      <th>AMT_REQ_CREDIT_BUREAU_YEAR</th>\n",
       "    </tr>\n",
       "  </thead>\n",
       "  <tbody>\n",
       "    <tr>\n",
       "      <th>0</th>\n",
       "      <td>100002</td>\n",
       "      <td>1</td>\n",
       "      <td>Cash loans</td>\n",
       "      <td>M</td>\n",
       "      <td>N</td>\n",
       "      <td>Y</td>\n",
       "      <td>0</td>\n",
       "      <td>202500.0</td>\n",
       "      <td>406597.5</td>\n",
       "      <td>24700.5</td>\n",
       "      <td>...</td>\n",
       "      <td>0</td>\n",
       "      <td>0</td>\n",
       "      <td>0</td>\n",
       "      <td>0</td>\n",
       "      <td>0.0</td>\n",
       "      <td>0.0</td>\n",
       "      <td>0.0</td>\n",
       "      <td>0.0</td>\n",
       "      <td>0.0</td>\n",
       "      <td>1.0</td>\n",
       "    </tr>\n",
       "    <tr>\n",
       "      <th>1</th>\n",
       "      <td>100003</td>\n",
       "      <td>0</td>\n",
       "      <td>Cash loans</td>\n",
       "      <td>F</td>\n",
       "      <td>N</td>\n",
       "      <td>N</td>\n",
       "      <td>0</td>\n",
       "      <td>270000.0</td>\n",
       "      <td>1293502.5</td>\n",
       "      <td>35698.5</td>\n",
       "      <td>...</td>\n",
       "      <td>0</td>\n",
       "      <td>0</td>\n",
       "      <td>0</td>\n",
       "      <td>0</td>\n",
       "      <td>0.0</td>\n",
       "      <td>0.0</td>\n",
       "      <td>0.0</td>\n",
       "      <td>0.0</td>\n",
       "      <td>0.0</td>\n",
       "      <td>0.0</td>\n",
       "    </tr>\n",
       "    <tr>\n",
       "      <th>2</th>\n",
       "      <td>100004</td>\n",
       "      <td>0</td>\n",
       "      <td>Revolving loans</td>\n",
       "      <td>M</td>\n",
       "      <td>Y</td>\n",
       "      <td>Y</td>\n",
       "      <td>0</td>\n",
       "      <td>67500.0</td>\n",
       "      <td>135000.0</td>\n",
       "      <td>6750.0</td>\n",
       "      <td>...</td>\n",
       "      <td>0</td>\n",
       "      <td>0</td>\n",
       "      <td>0</td>\n",
       "      <td>0</td>\n",
       "      <td>0.0</td>\n",
       "      <td>0.0</td>\n",
       "      <td>0.0</td>\n",
       "      <td>0.0</td>\n",
       "      <td>0.0</td>\n",
       "      <td>0.0</td>\n",
       "    </tr>\n",
       "    <tr>\n",
       "      <th>3</th>\n",
       "      <td>100006</td>\n",
       "      <td>0</td>\n",
       "      <td>Cash loans</td>\n",
       "      <td>F</td>\n",
       "      <td>N</td>\n",
       "      <td>Y</td>\n",
       "      <td>0</td>\n",
       "      <td>135000.0</td>\n",
       "      <td>312682.5</td>\n",
       "      <td>29686.5</td>\n",
       "      <td>...</td>\n",
       "      <td>0</td>\n",
       "      <td>0</td>\n",
       "      <td>0</td>\n",
       "      <td>0</td>\n",
       "      <td>NaN</td>\n",
       "      <td>NaN</td>\n",
       "      <td>NaN</td>\n",
       "      <td>NaN</td>\n",
       "      <td>NaN</td>\n",
       "      <td>NaN</td>\n",
       "    </tr>\n",
       "    <tr>\n",
       "      <th>4</th>\n",
       "      <td>100007</td>\n",
       "      <td>0</td>\n",
       "      <td>Cash loans</td>\n",
       "      <td>M</td>\n",
       "      <td>N</td>\n",
       "      <td>Y</td>\n",
       "      <td>0</td>\n",
       "      <td>121500.0</td>\n",
       "      <td>513000.0</td>\n",
       "      <td>21865.5</td>\n",
       "      <td>...</td>\n",
       "      <td>0</td>\n",
       "      <td>0</td>\n",
       "      <td>0</td>\n",
       "      <td>0</td>\n",
       "      <td>0.0</td>\n",
       "      <td>0.0</td>\n",
       "      <td>0.0</td>\n",
       "      <td>0.0</td>\n",
       "      <td>0.0</td>\n",
       "      <td>0.0</td>\n",
       "    </tr>\n",
       "  </tbody>\n",
       "</table>\n",
       "<p>5 rows × 122 columns</p>\n",
       "</div>"
      ],
      "text/plain": [
       "   SK_ID_CURR  TARGET NAME_CONTRACT_TYPE CODE_GENDER FLAG_OWN_CAR FLAG_OWN_REALTY  CNT_CHILDREN  AMT_INCOME_TOTAL  AMT_CREDIT  AMT_ANNUITY  ...  FLAG_DOCUMENT_18 FLAG_DOCUMENT_19 FLAG_DOCUMENT_20 FLAG_DOCUMENT_21 AMT_REQ_CREDIT_BUREAU_HOUR AMT_REQ_CREDIT_BUREAU_DAY  AMT_REQ_CREDIT_BUREAU_WEEK  AMT_REQ_CREDIT_BUREAU_MON  AMT_REQ_CREDIT_BUREAU_QRT  AMT_REQ_CREDIT_BUREAU_YEAR\n",
       "0      100002       1         Cash loans           M            N               Y             0          202500.0    406597.5      24700.5  ...                 0                0                0                0                        0.0                       0.0                         0.0                        0.0                        0.0                         1.0\n",
       "1      100003       0         Cash loans           F            N               N             0          270000.0   1293502.5      35698.5  ...                 0                0                0                0                        0.0                       0.0                         0.0                        0.0                        0.0                         0.0\n",
       "2      100004       0    Revolving loans           M            Y               Y             0           67500.0    135000.0       6750.0  ...                 0                0                0                0                        0.0                       0.0                         0.0                        0.0                        0.0                         0.0\n",
       "3      100006       0         Cash loans           F            N               Y             0          135000.0    312682.5      29686.5  ...                 0                0                0                0                        NaN                       NaN                         NaN                        NaN                        NaN                         NaN\n",
       "4      100007       0         Cash loans           M            N               Y             0          121500.0    513000.0      21865.5  ...                 0                0                0                0                        0.0                       0.0                         0.0                        0.0                        0.0                         0.0\n",
       "\n",
       "[5 rows x 122 columns]"
      ]
     },
     "execution_count": 4,
     "metadata": {},
     "output_type": "execute_result"
    }
   ],
   "source": [
    "data.head()"
   ]
  },
  {
   "cell_type": "markdown",
   "id": "ec05f22d",
   "metadata": {},
   "source": [
    "#### 3.2 Shape of the dataset"
   ]
  },
  {
   "cell_type": "code",
   "execution_count": 5,
   "id": "717a83ea",
   "metadata": {},
   "outputs": [
    {
     "data": {
      "text/plain": [
       "(307511, 122)"
      ]
     },
     "execution_count": 5,
     "metadata": {},
     "output_type": "execute_result"
    }
   ],
   "source": [
    "#number of rows and columns\n",
    "data.shape"
   ]
  },
  {
   "cell_type": "markdown",
   "id": "cb6d467e",
   "metadata": {},
   "source": [
    "#### 3.3 Information about variable datatypes\n"
   ]
  },
  {
   "cell_type": "code",
   "execution_count": 6,
   "id": "2fad40de",
   "metadata": {},
   "outputs": [
    {
     "name": "stdout",
     "output_type": "stream",
     "text": [
      "<class 'pandas.core.frame.DataFrame'>\n",
      "RangeIndex: 307511 entries, 0 to 307510\n",
      "Columns: 122 entries, SK_ID_CURR to AMT_REQ_CREDIT_BUREAU_YEAR\n",
      "dtypes: float64(65), int64(41), object(16)\n",
      "memory usage: 286.2+ MB\n"
     ]
    }
   ],
   "source": [
    "data.info()"
   ]
  },
  {
   "cell_type": "code",
   "execution_count": 7,
   "id": "d590c1c1",
   "metadata": {},
   "outputs": [
    {
     "data": {
      "text/plain": [
       "Index(['NAME_CONTRACT_TYPE', 'CODE_GENDER', 'FLAG_OWN_CAR', 'FLAG_OWN_REALTY', 'NAME_TYPE_SUITE', 'NAME_INCOME_TYPE', 'NAME_EDUCATION_TYPE', 'NAME_FAMILY_STATUS', 'NAME_HOUSING_TYPE', 'OCCUPATION_TYPE', 'WEEKDAY_APPR_PROCESS_START', 'ORGANIZATION_TYPE', 'FONDKAPREMONT_MODE', 'HOUSETYPE_MODE', 'WALLSMATERIAL_MODE', 'EMERGENCYSTATE_MODE'], dtype='object')"
      ]
     },
     "execution_count": 7,
     "metadata": {},
     "output_type": "execute_result"
    }
   ],
   "source": [
    "data.select_dtypes(include='object').columns"
   ]
  },
  {
   "cell_type": "code",
   "execution_count": 8,
   "id": "0ecfa207",
   "metadata": {},
   "outputs": [
    {
     "data": {
      "text/plain": [
       "Index(['SK_ID_CURR', 'TARGET', 'CNT_CHILDREN', 'AMT_INCOME_TOTAL', 'AMT_CREDIT', 'AMT_ANNUITY', 'AMT_GOODS_PRICE', 'REGION_POPULATION_RELATIVE', 'DAYS_BIRTH', 'DAYS_EMPLOYED',\n",
       "       ...\n",
       "       'FLAG_DOCUMENT_18', 'FLAG_DOCUMENT_19', 'FLAG_DOCUMENT_20', 'FLAG_DOCUMENT_21', 'AMT_REQ_CREDIT_BUREAU_HOUR', 'AMT_REQ_CREDIT_BUREAU_DAY', 'AMT_REQ_CREDIT_BUREAU_WEEK', 'AMT_REQ_CREDIT_BUREAU_MON', 'AMT_REQ_CREDIT_BUREAU_QRT', 'AMT_REQ_CREDIT_BUREAU_YEAR'], dtype='object', length=106)"
      ]
     },
     "execution_count": 8,
     "metadata": {},
     "output_type": "execute_result"
    }
   ],
   "source": [
    "data.select_dtypes(include='number').columns"
   ]
  },
  {
   "cell_type": "markdown",
   "id": "355f5c37",
   "metadata": {},
   "source": [
    "#### 3.4 Descriptive Statistics of the dataset"
   ]
  },
  {
   "cell_type": "code",
   "execution_count": 9,
   "id": "4cb93474",
   "metadata": {},
   "outputs": [
    {
     "data": {
      "text/html": [
       "<div>\n",
       "<style scoped>\n",
       "    .dataframe tbody tr th:only-of-type {\n",
       "        vertical-align: middle;\n",
       "    }\n",
       "\n",
       "    .dataframe tbody tr th {\n",
       "        vertical-align: top;\n",
       "    }\n",
       "\n",
       "    .dataframe thead th {\n",
       "        text-align: right;\n",
       "    }\n",
       "</style>\n",
       "<table border=\"1\" class=\"dataframe\">\n",
       "  <thead>\n",
       "    <tr style=\"text-align: right;\">\n",
       "      <th></th>\n",
       "      <th>SK_ID_CURR</th>\n",
       "      <th>TARGET</th>\n",
       "      <th>CNT_CHILDREN</th>\n",
       "      <th>AMT_INCOME_TOTAL</th>\n",
       "      <th>AMT_CREDIT</th>\n",
       "      <th>AMT_ANNUITY</th>\n",
       "      <th>AMT_GOODS_PRICE</th>\n",
       "      <th>REGION_POPULATION_RELATIVE</th>\n",
       "      <th>DAYS_BIRTH</th>\n",
       "      <th>DAYS_EMPLOYED</th>\n",
       "      <th>...</th>\n",
       "      <th>FLAG_DOCUMENT_18</th>\n",
       "      <th>FLAG_DOCUMENT_19</th>\n",
       "      <th>FLAG_DOCUMENT_20</th>\n",
       "      <th>FLAG_DOCUMENT_21</th>\n",
       "      <th>AMT_REQ_CREDIT_BUREAU_HOUR</th>\n",
       "      <th>AMT_REQ_CREDIT_BUREAU_DAY</th>\n",
       "      <th>AMT_REQ_CREDIT_BUREAU_WEEK</th>\n",
       "      <th>AMT_REQ_CREDIT_BUREAU_MON</th>\n",
       "      <th>AMT_REQ_CREDIT_BUREAU_QRT</th>\n",
       "      <th>AMT_REQ_CREDIT_BUREAU_YEAR</th>\n",
       "    </tr>\n",
       "  </thead>\n",
       "  <tbody>\n",
       "    <tr>\n",
       "      <th>count</th>\n",
       "      <td>307511.000000</td>\n",
       "      <td>307511.000000</td>\n",
       "      <td>307511.000000</td>\n",
       "      <td>3.075110e+05</td>\n",
       "      <td>3.075110e+05</td>\n",
       "      <td>307499.000000</td>\n",
       "      <td>3.072330e+05</td>\n",
       "      <td>307511.000000</td>\n",
       "      <td>307511.000000</td>\n",
       "      <td>307511.000000</td>\n",
       "      <td>...</td>\n",
       "      <td>307511.000000</td>\n",
       "      <td>307511.000000</td>\n",
       "      <td>307511.000000</td>\n",
       "      <td>307511.000000</td>\n",
       "      <td>265992.000000</td>\n",
       "      <td>265992.000000</td>\n",
       "      <td>265992.000000</td>\n",
       "      <td>265992.000000</td>\n",
       "      <td>265992.000000</td>\n",
       "      <td>265992.000000</td>\n",
       "    </tr>\n",
       "    <tr>\n",
       "      <th>mean</th>\n",
       "      <td>278180.518577</td>\n",
       "      <td>0.080729</td>\n",
       "      <td>0.417052</td>\n",
       "      <td>1.687979e+05</td>\n",
       "      <td>5.990260e+05</td>\n",
       "      <td>27108.573909</td>\n",
       "      <td>5.383962e+05</td>\n",
       "      <td>0.020868</td>\n",
       "      <td>-16036.995067</td>\n",
       "      <td>63815.045904</td>\n",
       "      <td>...</td>\n",
       "      <td>0.008130</td>\n",
       "      <td>0.000595</td>\n",
       "      <td>0.000507</td>\n",
       "      <td>0.000335</td>\n",
       "      <td>0.006402</td>\n",
       "      <td>0.007000</td>\n",
       "      <td>0.034362</td>\n",
       "      <td>0.267395</td>\n",
       "      <td>0.265474</td>\n",
       "      <td>1.899974</td>\n",
       "    </tr>\n",
       "    <tr>\n",
       "      <th>std</th>\n",
       "      <td>102790.175348</td>\n",
       "      <td>0.272419</td>\n",
       "      <td>0.722121</td>\n",
       "      <td>2.371231e+05</td>\n",
       "      <td>4.024908e+05</td>\n",
       "      <td>14493.737315</td>\n",
       "      <td>3.694465e+05</td>\n",
       "      <td>0.013831</td>\n",
       "      <td>4363.988632</td>\n",
       "      <td>141275.766519</td>\n",
       "      <td>...</td>\n",
       "      <td>0.089798</td>\n",
       "      <td>0.024387</td>\n",
       "      <td>0.022518</td>\n",
       "      <td>0.018299</td>\n",
       "      <td>0.083849</td>\n",
       "      <td>0.110757</td>\n",
       "      <td>0.204685</td>\n",
       "      <td>0.916002</td>\n",
       "      <td>0.794056</td>\n",
       "      <td>1.869295</td>\n",
       "    </tr>\n",
       "    <tr>\n",
       "      <th>min</th>\n",
       "      <td>100002.000000</td>\n",
       "      <td>0.000000</td>\n",
       "      <td>0.000000</td>\n",
       "      <td>2.565000e+04</td>\n",
       "      <td>4.500000e+04</td>\n",
       "      <td>1615.500000</td>\n",
       "      <td>4.050000e+04</td>\n",
       "      <td>0.000290</td>\n",
       "      <td>-25229.000000</td>\n",
       "      <td>-17912.000000</td>\n",
       "      <td>...</td>\n",
       "      <td>0.000000</td>\n",
       "      <td>0.000000</td>\n",
       "      <td>0.000000</td>\n",
       "      <td>0.000000</td>\n",
       "      <td>0.000000</td>\n",
       "      <td>0.000000</td>\n",
       "      <td>0.000000</td>\n",
       "      <td>0.000000</td>\n",
       "      <td>0.000000</td>\n",
       "      <td>0.000000</td>\n",
       "    </tr>\n",
       "    <tr>\n",
       "      <th>25%</th>\n",
       "      <td>189145.500000</td>\n",
       "      <td>0.000000</td>\n",
       "      <td>0.000000</td>\n",
       "      <td>1.125000e+05</td>\n",
       "      <td>2.700000e+05</td>\n",
       "      <td>16524.000000</td>\n",
       "      <td>2.385000e+05</td>\n",
       "      <td>0.010006</td>\n",
       "      <td>-19682.000000</td>\n",
       "      <td>-2760.000000</td>\n",
       "      <td>...</td>\n",
       "      <td>0.000000</td>\n",
       "      <td>0.000000</td>\n",
       "      <td>0.000000</td>\n",
       "      <td>0.000000</td>\n",
       "      <td>0.000000</td>\n",
       "      <td>0.000000</td>\n",
       "      <td>0.000000</td>\n",
       "      <td>0.000000</td>\n",
       "      <td>0.000000</td>\n",
       "      <td>0.000000</td>\n",
       "    </tr>\n",
       "    <tr>\n",
       "      <th>50%</th>\n",
       "      <td>278202.000000</td>\n",
       "      <td>0.000000</td>\n",
       "      <td>0.000000</td>\n",
       "      <td>1.471500e+05</td>\n",
       "      <td>5.135310e+05</td>\n",
       "      <td>24903.000000</td>\n",
       "      <td>4.500000e+05</td>\n",
       "      <td>0.018850</td>\n",
       "      <td>-15750.000000</td>\n",
       "      <td>-1213.000000</td>\n",
       "      <td>...</td>\n",
       "      <td>0.000000</td>\n",
       "      <td>0.000000</td>\n",
       "      <td>0.000000</td>\n",
       "      <td>0.000000</td>\n",
       "      <td>0.000000</td>\n",
       "      <td>0.000000</td>\n",
       "      <td>0.000000</td>\n",
       "      <td>0.000000</td>\n",
       "      <td>0.000000</td>\n",
       "      <td>1.000000</td>\n",
       "    </tr>\n",
       "    <tr>\n",
       "      <th>75%</th>\n",
       "      <td>367142.500000</td>\n",
       "      <td>0.000000</td>\n",
       "      <td>1.000000</td>\n",
       "      <td>2.025000e+05</td>\n",
       "      <td>8.086500e+05</td>\n",
       "      <td>34596.000000</td>\n",
       "      <td>6.795000e+05</td>\n",
       "      <td>0.028663</td>\n",
       "      <td>-12413.000000</td>\n",
       "      <td>-289.000000</td>\n",
       "      <td>...</td>\n",
       "      <td>0.000000</td>\n",
       "      <td>0.000000</td>\n",
       "      <td>0.000000</td>\n",
       "      <td>0.000000</td>\n",
       "      <td>0.000000</td>\n",
       "      <td>0.000000</td>\n",
       "      <td>0.000000</td>\n",
       "      <td>0.000000</td>\n",
       "      <td>0.000000</td>\n",
       "      <td>3.000000</td>\n",
       "    </tr>\n",
       "    <tr>\n",
       "      <th>max</th>\n",
       "      <td>456255.000000</td>\n",
       "      <td>1.000000</td>\n",
       "      <td>19.000000</td>\n",
       "      <td>1.170000e+08</td>\n",
       "      <td>4.050000e+06</td>\n",
       "      <td>258025.500000</td>\n",
       "      <td>4.050000e+06</td>\n",
       "      <td>0.072508</td>\n",
       "      <td>-7489.000000</td>\n",
       "      <td>365243.000000</td>\n",
       "      <td>...</td>\n",
       "      <td>1.000000</td>\n",
       "      <td>1.000000</td>\n",
       "      <td>1.000000</td>\n",
       "      <td>1.000000</td>\n",
       "      <td>4.000000</td>\n",
       "      <td>9.000000</td>\n",
       "      <td>8.000000</td>\n",
       "      <td>27.000000</td>\n",
       "      <td>261.000000</td>\n",
       "      <td>25.000000</td>\n",
       "    </tr>\n",
       "  </tbody>\n",
       "</table>\n",
       "<p>8 rows × 106 columns</p>\n",
       "</div>"
      ],
      "text/plain": [
       "          SK_ID_CURR         TARGET   CNT_CHILDREN  AMT_INCOME_TOTAL    AMT_CREDIT    AMT_ANNUITY  AMT_GOODS_PRICE  REGION_POPULATION_RELATIVE     DAYS_BIRTH  DAYS_EMPLOYED  ...  FLAG_DOCUMENT_18  FLAG_DOCUMENT_19  FLAG_DOCUMENT_20  FLAG_DOCUMENT_21  AMT_REQ_CREDIT_BUREAU_HOUR  AMT_REQ_CREDIT_BUREAU_DAY  AMT_REQ_CREDIT_BUREAU_WEEK  AMT_REQ_CREDIT_BUREAU_MON  AMT_REQ_CREDIT_BUREAU_QRT  AMT_REQ_CREDIT_BUREAU_YEAR\n",
       "count  307511.000000  307511.000000  307511.000000      3.075110e+05  3.075110e+05  307499.000000     3.072330e+05               307511.000000  307511.000000  307511.000000  ...     307511.000000     307511.000000     307511.000000     307511.000000               265992.000000              265992.000000               265992.000000              265992.000000              265992.000000               265992.000000\n",
       "mean   278180.518577       0.080729       0.417052      1.687979e+05  5.990260e+05   27108.573909     5.383962e+05                    0.020868  -16036.995067   63815.045904  ...          0.008130          0.000595          0.000507          0.000335                    0.006402                   0.007000                    0.034362                   0.267395                   0.265474                    1.899974\n",
       "std    102790.175348       0.272419       0.722121      2.371231e+05  4.024908e+05   14493.737315     3.694465e+05                    0.013831    4363.988632  141275.766519  ...          0.089798          0.024387          0.022518          0.018299                    0.083849                   0.110757                    0.204685                   0.916002                   0.794056                    1.869295\n",
       "min    100002.000000       0.000000       0.000000      2.565000e+04  4.500000e+04    1615.500000     4.050000e+04                    0.000290  -25229.000000  -17912.000000  ...          0.000000          0.000000          0.000000          0.000000                    0.000000                   0.000000                    0.000000                   0.000000                   0.000000                    0.000000\n",
       "25%    189145.500000       0.000000       0.000000      1.125000e+05  2.700000e+05   16524.000000     2.385000e+05                    0.010006  -19682.000000   -2760.000000  ...          0.000000          0.000000          0.000000          0.000000                    0.000000                   0.000000                    0.000000                   0.000000                   0.000000                    0.000000\n",
       "50%    278202.000000       0.000000       0.000000      1.471500e+05  5.135310e+05   24903.000000     4.500000e+05                    0.018850  -15750.000000   -1213.000000  ...          0.000000          0.000000          0.000000          0.000000                    0.000000                   0.000000                    0.000000                   0.000000                   0.000000                    1.000000\n",
       "75%    367142.500000       0.000000       1.000000      2.025000e+05  8.086500e+05   34596.000000     6.795000e+05                    0.028663  -12413.000000    -289.000000  ...          0.000000          0.000000          0.000000          0.000000                    0.000000                   0.000000                    0.000000                   0.000000                   0.000000                    3.000000\n",
       "max    456255.000000       1.000000      19.000000      1.170000e+08  4.050000e+06  258025.500000     4.050000e+06                    0.072508   -7489.000000  365243.000000  ...          1.000000          1.000000          1.000000          1.000000                    4.000000                   9.000000                    8.000000                  27.000000                 261.000000                   25.000000\n",
       "\n",
       "[8 rows x 106 columns]"
      ]
     },
     "execution_count": 9,
     "metadata": {},
     "output_type": "execute_result"
    }
   ],
   "source": [
    "#Descriptive statistics\n",
    "data.describe()"
   ]
  },
  {
   "cell_type": "markdown",
   "id": "4495f364",
   "metadata": {},
   "source": [
    "## 4. Data Cleaning"
   ]
  },
  {
   "cell_type": "markdown",
   "id": "ff6ed484",
   "metadata": {},
   "source": [
    "##### 4.1 Check for Duplicates"
   ]
  },
  {
   "cell_type": "code",
   "execution_count": 10,
   "id": "7842f62e",
   "metadata": {},
   "outputs": [],
   "source": [
    "#Call drop_Duplicates on Dataframe to remove duplicates and assign it back to dataframe\n",
    "data = data.drop_duplicates()"
   ]
  },
  {
   "cell_type": "code",
   "execution_count": 11,
   "id": "fce86ba2",
   "metadata": {},
   "outputs": [
    {
     "data": {
      "text/plain": [
       "(307511, 122)"
      ]
     },
     "execution_count": 11,
     "metadata": {},
     "output_type": "execute_result"
    }
   ],
   "source": [
    "#checking again number of rows before removing duplicates\n",
    "data.shape"
   ]
  },
  {
   "cell_type": "markdown",
   "id": "b2aebd9e",
   "metadata": {},
   "source": [
    "There were no duplicates in the dataset."
   ]
  },
  {
   "cell_type": "markdown",
   "id": "c79a64b4",
   "metadata": {},
   "source": [
    "#### 4.2 Check and remove Null Values"
   ]
  },
  {
   "cell_type": "code",
   "execution_count": 12,
   "id": "e36b7004",
   "metadata": {},
   "outputs": [
    {
     "data": {
      "text/plain": [
       "SK_ID_CURR                           0\n",
       "TARGET                               0\n",
       "NAME_CONTRACT_TYPE                   0\n",
       "CODE_GENDER                          0\n",
       "FLAG_OWN_CAR                         0\n",
       "FLAG_OWN_REALTY                      0\n",
       "CNT_CHILDREN                         0\n",
       "AMT_INCOME_TOTAL                     0\n",
       "AMT_CREDIT                           0\n",
       "AMT_ANNUITY                         12\n",
       "AMT_GOODS_PRICE                    278\n",
       "NAME_TYPE_SUITE                   1292\n",
       "NAME_INCOME_TYPE                     0\n",
       "NAME_EDUCATION_TYPE                  0\n",
       "NAME_FAMILY_STATUS                   0\n",
       "NAME_HOUSING_TYPE                    0\n",
       "REGION_POPULATION_RELATIVE           0\n",
       "DAYS_BIRTH                           0\n",
       "DAYS_EMPLOYED                        0\n",
       "DAYS_REGISTRATION                    0\n",
       "DAYS_ID_PUBLISH                      0\n",
       "OWN_CAR_AGE                     202929\n",
       "FLAG_MOBIL                           0\n",
       "FLAG_EMP_PHONE                       0\n",
       "FLAG_WORK_PHONE                      0\n",
       "FLAG_CONT_MOBILE                     0\n",
       "FLAG_PHONE                           0\n",
       "FLAG_EMAIL                           0\n",
       "OCCUPATION_TYPE                  96391\n",
       "CNT_FAM_MEMBERS                      2\n",
       "REGION_RATING_CLIENT                 0\n",
       "REGION_RATING_CLIENT_W_CITY          0\n",
       "WEEKDAY_APPR_PROCESS_START           0\n",
       "HOUR_APPR_PROCESS_START              0\n",
       "REG_REGION_NOT_LIVE_REGION           0\n",
       "REG_REGION_NOT_WORK_REGION           0\n",
       "LIVE_REGION_NOT_WORK_REGION          0\n",
       "REG_CITY_NOT_LIVE_CITY               0\n",
       "REG_CITY_NOT_WORK_CITY               0\n",
       "LIVE_CITY_NOT_WORK_CITY              0\n",
       "ORGANIZATION_TYPE                    0\n",
       "EXT_SOURCE_1                    173378\n",
       "EXT_SOURCE_2                       660\n",
       "EXT_SOURCE_3                     60965\n",
       "APARTMENTS_AVG                  156061\n",
       "BASEMENTAREA_AVG                179943\n",
       "YEARS_BEGINEXPLUATATION_AVG     150007\n",
       "YEARS_BUILD_AVG                 204488\n",
       "COMMONAREA_AVG                  214865\n",
       "ELEVATORS_AVG                   163891\n",
       "ENTRANCES_AVG                   154828\n",
       "FLOORSMAX_AVG                   153020\n",
       "FLOORSMIN_AVG                   208642\n",
       "LANDAREA_AVG                    182590\n",
       "LIVINGAPARTMENTS_AVG            210199\n",
       "LIVINGAREA_AVG                  154350\n",
       "NONLIVINGAPARTMENTS_AVG         213514\n",
       "NONLIVINGAREA_AVG               169682\n",
       "APARTMENTS_MODE                 156061\n",
       "BASEMENTAREA_MODE               179943\n",
       "YEARS_BEGINEXPLUATATION_MODE    150007\n",
       "YEARS_BUILD_MODE                204488\n",
       "COMMONAREA_MODE                 214865\n",
       "ELEVATORS_MODE                  163891\n",
       "ENTRANCES_MODE                  154828\n",
       "FLOORSMAX_MODE                  153020\n",
       "FLOORSMIN_MODE                  208642\n",
       "LANDAREA_MODE                   182590\n",
       "LIVINGAPARTMENTS_MODE           210199\n",
       "LIVINGAREA_MODE                 154350\n",
       "NONLIVINGAPARTMENTS_MODE        213514\n",
       "NONLIVINGAREA_MODE              169682\n",
       "APARTMENTS_MEDI                 156061\n",
       "BASEMENTAREA_MEDI               179943\n",
       "YEARS_BEGINEXPLUATATION_MEDI    150007\n",
       "YEARS_BUILD_MEDI                204488\n",
       "COMMONAREA_MEDI                 214865\n",
       "ELEVATORS_MEDI                  163891\n",
       "ENTRANCES_MEDI                  154828\n",
       "FLOORSMAX_MEDI                  153020\n",
       "FLOORSMIN_MEDI                  208642\n",
       "LANDAREA_MEDI                   182590\n",
       "LIVINGAPARTMENTS_MEDI           210199\n",
       "LIVINGAREA_MEDI                 154350\n",
       "NONLIVINGAPARTMENTS_MEDI        213514\n",
       "NONLIVINGAREA_MEDI              169682\n",
       "FONDKAPREMONT_MODE              210295\n",
       "HOUSETYPE_MODE                  154297\n",
       "TOTALAREA_MODE                  148431\n",
       "WALLSMATERIAL_MODE              156341\n",
       "EMERGENCYSTATE_MODE             145755\n",
       "OBS_30_CNT_SOCIAL_CIRCLE          1021\n",
       "DEF_30_CNT_SOCIAL_CIRCLE          1021\n",
       "OBS_60_CNT_SOCIAL_CIRCLE          1021\n",
       "DEF_60_CNT_SOCIAL_CIRCLE          1021\n",
       "DAYS_LAST_PHONE_CHANGE               1\n",
       "FLAG_DOCUMENT_2                      0\n",
       "FLAG_DOCUMENT_3                      0\n",
       "FLAG_DOCUMENT_4                      0\n",
       "FLAG_DOCUMENT_5                      0\n",
       "FLAG_DOCUMENT_6                      0\n",
       "FLAG_DOCUMENT_7                      0\n",
       "FLAG_DOCUMENT_8                      0\n",
       "FLAG_DOCUMENT_9                      0\n",
       "FLAG_DOCUMENT_10                     0\n",
       "FLAG_DOCUMENT_11                     0\n",
       "FLAG_DOCUMENT_12                     0\n",
       "FLAG_DOCUMENT_13                     0\n",
       "FLAG_DOCUMENT_14                     0\n",
       "FLAG_DOCUMENT_15                     0\n",
       "FLAG_DOCUMENT_16                     0\n",
       "FLAG_DOCUMENT_17                     0\n",
       "FLAG_DOCUMENT_18                     0\n",
       "FLAG_DOCUMENT_19                     0\n",
       "FLAG_DOCUMENT_20                     0\n",
       "FLAG_DOCUMENT_21                     0\n",
       "AMT_REQ_CREDIT_BUREAU_HOUR       41519\n",
       "AMT_REQ_CREDIT_BUREAU_DAY        41519\n",
       "AMT_REQ_CREDIT_BUREAU_WEEK       41519\n",
       "AMT_REQ_CREDIT_BUREAU_MON        41519\n",
       "AMT_REQ_CREDIT_BUREAU_QRT        41519\n",
       "AMT_REQ_CREDIT_BUREAU_YEAR       41519\n",
       "dtype: int64"
      ]
     },
     "execution_count": 12,
     "metadata": {},
     "output_type": "execute_result"
    }
   ],
   "source": [
    "# of missing values in each column\n",
    "data.isnull().sum()"
   ]
  },
  {
   "cell_type": "code",
   "execution_count": 13,
   "id": "877524a8",
   "metadata": {},
   "outputs": [
    {
     "data": {
      "text/plain": [
       "COMMONAREA_MEDI                 69.87230\n",
       "COMMONAREA_AVG                  69.87230\n",
       "COMMONAREA_MODE                 69.87230\n",
       "NONLIVINGAPARTMENTS_MODE        69.43296\n",
       "NONLIVINGAPARTMENTS_AVG         69.43296\n",
       "NONLIVINGAPARTMENTS_MEDI        69.43296\n",
       "FONDKAPREMONT_MODE              68.38617\n",
       "LIVINGAPARTMENTS_MODE           68.35495\n",
       "LIVINGAPARTMENTS_AVG            68.35495\n",
       "LIVINGAPARTMENTS_MEDI           68.35495\n",
       "FLOORSMIN_AVG                   67.84863\n",
       "FLOORSMIN_MODE                  67.84863\n",
       "FLOORSMIN_MEDI                  67.84863\n",
       "YEARS_BUILD_MEDI                66.49778\n",
       "YEARS_BUILD_MODE                66.49778\n",
       "YEARS_BUILD_AVG                 66.49778\n",
       "OWN_CAR_AGE                     65.99081\n",
       "LANDAREA_MEDI                   59.37674\n",
       "LANDAREA_MODE                   59.37674\n",
       "LANDAREA_AVG                    59.37674\n",
       "BASEMENTAREA_MEDI               58.51596\n",
       "BASEMENTAREA_AVG                58.51596\n",
       "BASEMENTAREA_MODE               58.51596\n",
       "EXT_SOURCE_1                    56.38107\n",
       "NONLIVINGAREA_MODE              55.17916\n",
       "NONLIVINGAREA_AVG               55.17916\n",
       "NONLIVINGAREA_MEDI              55.17916\n",
       "ELEVATORS_MEDI                  53.29598\n",
       "ELEVATORS_AVG                   53.29598\n",
       "ELEVATORS_MODE                  53.29598\n",
       "WALLSMATERIAL_MODE              50.84078\n",
       "APARTMENTS_MEDI                 50.74973\n",
       "APARTMENTS_AVG                  50.74973\n",
       "APARTMENTS_MODE                 50.74973\n",
       "ENTRANCES_MEDI                  50.34877\n",
       "ENTRANCES_AVG                   50.34877\n",
       "ENTRANCES_MODE                  50.34877\n",
       "LIVINGAREA_AVG                  50.19333\n",
       "LIVINGAREA_MODE                 50.19333\n",
       "LIVINGAREA_MEDI                 50.19333\n",
       "HOUSETYPE_MODE                  50.17609\n",
       "FLOORSMAX_MODE                  49.76082\n",
       "FLOORSMAX_MEDI                  49.76082\n",
       "FLOORSMAX_AVG                   49.76082\n",
       "YEARS_BEGINEXPLUATATION_MODE    48.78102\n",
       "YEARS_BEGINEXPLUATATION_MEDI    48.78102\n",
       "YEARS_BEGINEXPLUATATION_AVG     48.78102\n",
       "TOTALAREA_MODE                  48.26852\n",
       "EMERGENCYSTATE_MODE             47.39830\n",
       "OCCUPATION_TYPE                 31.34555\n",
       "EXT_SOURCE_3                    19.82531\n",
       "AMT_REQ_CREDIT_BUREAU_HOUR      13.50163\n",
       "AMT_REQ_CREDIT_BUREAU_DAY       13.50163\n",
       "AMT_REQ_CREDIT_BUREAU_WEEK      13.50163\n",
       "AMT_REQ_CREDIT_BUREAU_MON       13.50163\n",
       "AMT_REQ_CREDIT_BUREAU_QRT       13.50163\n",
       "AMT_REQ_CREDIT_BUREAU_YEAR      13.50163\n",
       "NAME_TYPE_SUITE                  0.42015\n",
       "OBS_30_CNT_SOCIAL_CIRCLE         0.33202\n",
       "DEF_30_CNT_SOCIAL_CIRCLE         0.33202\n",
       "OBS_60_CNT_SOCIAL_CIRCLE         0.33202\n",
       "DEF_60_CNT_SOCIAL_CIRCLE         0.33202\n",
       "EXT_SOURCE_2                     0.21463\n",
       "AMT_GOODS_PRICE                  0.09040\n",
       "AMT_ANNUITY                      0.00390\n",
       "CNT_FAM_MEMBERS                  0.00065\n",
       "DAYS_LAST_PHONE_CHANGE           0.00033\n",
       "CNT_CHILDREN                     0.00000\n",
       "FLAG_DOCUMENT_8                  0.00000\n",
       "NAME_CONTRACT_TYPE               0.00000\n",
       "CODE_GENDER                      0.00000\n",
       "FLAG_OWN_CAR                     0.00000\n",
       "FLAG_DOCUMENT_2                  0.00000\n",
       "FLAG_DOCUMENT_3                  0.00000\n",
       "FLAG_DOCUMENT_4                  0.00000\n",
       "FLAG_DOCUMENT_5                  0.00000\n",
       "FLAG_DOCUMENT_6                  0.00000\n",
       "FLAG_DOCUMENT_7                  0.00000\n",
       "FLAG_DOCUMENT_9                  0.00000\n",
       "FLAG_DOCUMENT_21                 0.00000\n",
       "FLAG_DOCUMENT_10                 0.00000\n",
       "FLAG_DOCUMENT_11                 0.00000\n",
       "FLAG_OWN_REALTY                  0.00000\n",
       "FLAG_DOCUMENT_13                 0.00000\n",
       "FLAG_DOCUMENT_14                 0.00000\n",
       "FLAG_DOCUMENT_15                 0.00000\n",
       "FLAG_DOCUMENT_16                 0.00000\n",
       "FLAG_DOCUMENT_17                 0.00000\n",
       "FLAG_DOCUMENT_18                 0.00000\n",
       "FLAG_DOCUMENT_19                 0.00000\n",
       "FLAG_DOCUMENT_20                 0.00000\n",
       "FLAG_DOCUMENT_12                 0.00000\n",
       "AMT_CREDIT                       0.00000\n",
       "AMT_INCOME_TOTAL                 0.00000\n",
       "FLAG_PHONE                       0.00000\n",
       "LIVE_CITY_NOT_WORK_CITY          0.00000\n",
       "REG_CITY_NOT_WORK_CITY           0.00000\n",
       "TARGET                           0.00000\n",
       "REG_CITY_NOT_LIVE_CITY           0.00000\n",
       "LIVE_REGION_NOT_WORK_REGION      0.00000\n",
       "REG_REGION_NOT_WORK_REGION       0.00000\n",
       "REG_REGION_NOT_LIVE_REGION       0.00000\n",
       "HOUR_APPR_PROCESS_START          0.00000\n",
       "WEEKDAY_APPR_PROCESS_START       0.00000\n",
       "REGION_RATING_CLIENT_W_CITY      0.00000\n",
       "REGION_RATING_CLIENT             0.00000\n",
       "FLAG_EMAIL                       0.00000\n",
       "FLAG_CONT_MOBILE                 0.00000\n",
       "ORGANIZATION_TYPE                0.00000\n",
       "FLAG_WORK_PHONE                  0.00000\n",
       "FLAG_EMP_PHONE                   0.00000\n",
       "FLAG_MOBIL                       0.00000\n",
       "DAYS_ID_PUBLISH                  0.00000\n",
       "DAYS_REGISTRATION                0.00000\n",
       "DAYS_EMPLOYED                    0.00000\n",
       "DAYS_BIRTH                       0.00000\n",
       "REGION_POPULATION_RELATIVE       0.00000\n",
       "NAME_HOUSING_TYPE                0.00000\n",
       "NAME_FAMILY_STATUS               0.00000\n",
       "NAME_EDUCATION_TYPE              0.00000\n",
       "NAME_INCOME_TYPE                 0.00000\n",
       "SK_ID_CURR                       0.00000\n",
       "dtype: float64"
      ]
     },
     "execution_count": 13,
     "metadata": {},
     "output_type": "execute_result"
    }
   ],
   "source": [
    "#Checking the percentage of null data in each variable\n",
    "round(data.isna().sum()/len(data)*100,5).sort_values(ascending=False)"
   ]
  },
  {
   "cell_type": "markdown",
   "id": "76127ce4",
   "metadata": {},
   "source": [
    "A significant number of columns have nearly half null values. We are going to drop them."
   ]
  },
  {
   "cell_type": "code",
   "execution_count": 14,
   "id": "00c075d9",
   "metadata": {},
   "outputs": [],
   "source": [
    "#Dropping all the columns with more than 50% null values\n",
    "data.drop(columns=data.columns[(data.isna().sum()/len(data)*100 > 50)],inplace=True)"
   ]
  },
  {
   "cell_type": "code",
   "execution_count": 15,
   "id": "4b7f2a02",
   "metadata": {},
   "outputs": [
    {
     "data": {
      "text/plain": [
       "FLOORSMAX_AVG                   49.76082\n",
       "FLOORSMAX_MODE                  49.76082\n",
       "FLOORSMAX_MEDI                  49.76082\n",
       "YEARS_BEGINEXPLUATATION_AVG     48.78102\n",
       "YEARS_BEGINEXPLUATATION_MODE    48.78102\n",
       "YEARS_BEGINEXPLUATATION_MEDI    48.78102\n",
       "TOTALAREA_MODE                  48.26852\n",
       "EMERGENCYSTATE_MODE             47.39830\n",
       "OCCUPATION_TYPE                 31.34555\n",
       "EXT_SOURCE_3                    19.82531\n",
       "AMT_REQ_CREDIT_BUREAU_YEAR      13.50163\n",
       "AMT_REQ_CREDIT_BUREAU_HOUR      13.50163\n",
       "AMT_REQ_CREDIT_BUREAU_DAY       13.50163\n",
       "AMT_REQ_CREDIT_BUREAU_WEEK      13.50163\n",
       "AMT_REQ_CREDIT_BUREAU_MON       13.50163\n",
       "AMT_REQ_CREDIT_BUREAU_QRT       13.50163\n",
       "NAME_TYPE_SUITE                  0.42015\n",
       "DEF_30_CNT_SOCIAL_CIRCLE         0.33202\n",
       "OBS_60_CNT_SOCIAL_CIRCLE         0.33202\n",
       "DEF_60_CNT_SOCIAL_CIRCLE         0.33202\n",
       "OBS_30_CNT_SOCIAL_CIRCLE         0.33202\n",
       "EXT_SOURCE_2                     0.21463\n",
       "AMT_GOODS_PRICE                  0.09040\n",
       "AMT_ANNUITY                      0.00390\n",
       "CNT_FAM_MEMBERS                  0.00065\n",
       "DAYS_LAST_PHONE_CHANGE           0.00033\n",
       "FLAG_OWN_CAR                     0.00000\n",
       "FLAG_OWN_REALTY                  0.00000\n",
       "NAME_CONTRACT_TYPE               0.00000\n",
       "FLAG_DOCUMENT_2                  0.00000\n",
       "FLAG_DOCUMENT_3                  0.00000\n",
       "FLAG_DOCUMENT_4                  0.00000\n",
       "FLAG_DOCUMENT_5                  0.00000\n",
       "FLAG_DOCUMENT_6                  0.00000\n",
       "FLAG_DOCUMENT_7                  0.00000\n",
       "FLAG_DOCUMENT_8                  0.00000\n",
       "FLAG_DOCUMENT_9                  0.00000\n",
       "FLAG_DOCUMENT_10                 0.00000\n",
       "FLAG_DOCUMENT_11                 0.00000\n",
       "FLAG_DOCUMENT_12                 0.00000\n",
       "FLAG_DOCUMENT_13                 0.00000\n",
       "AMT_INCOME_TOTAL                 0.00000\n",
       "FLAG_DOCUMENT_15                 0.00000\n",
       "FLAG_DOCUMENT_16                 0.00000\n",
       "FLAG_DOCUMENT_17                 0.00000\n",
       "FLAG_DOCUMENT_18                 0.00000\n",
       "FLAG_DOCUMENT_19                 0.00000\n",
       "FLAG_DOCUMENT_20                 0.00000\n",
       "FLAG_DOCUMENT_21                 0.00000\n",
       "CNT_CHILDREN                     0.00000\n",
       "CODE_GENDER                      0.00000\n",
       "FLAG_DOCUMENT_14                 0.00000\n",
       "FLAG_EMP_PHONE                   0.00000\n",
       "AMT_CREDIT                       0.00000\n",
       "FLAG_WORK_PHONE                  0.00000\n",
       "FLAG_CONT_MOBILE                 0.00000\n",
       "FLAG_PHONE                       0.00000\n",
       "FLAG_EMAIL                       0.00000\n",
       "FLAG_MOBIL                       0.00000\n",
       "REGION_RATING_CLIENT             0.00000\n",
       "REGION_RATING_CLIENT_W_CITY      0.00000\n",
       "WEEKDAY_APPR_PROCESS_START       0.00000\n",
       "HOUR_APPR_PROCESS_START          0.00000\n",
       "REG_REGION_NOT_LIVE_REGION       0.00000\n",
       "REG_REGION_NOT_WORK_REGION       0.00000\n",
       "LIVE_REGION_NOT_WORK_REGION      0.00000\n",
       "REG_CITY_NOT_LIVE_CITY           0.00000\n",
       "REG_CITY_NOT_WORK_CITY           0.00000\n",
       "LIVE_CITY_NOT_WORK_CITY          0.00000\n",
       "ORGANIZATION_TYPE                0.00000\n",
       "TARGET                           0.00000\n",
       "DAYS_ID_PUBLISH                  0.00000\n",
       "DAYS_REGISTRATION                0.00000\n",
       "DAYS_EMPLOYED                    0.00000\n",
       "DAYS_BIRTH                       0.00000\n",
       "REGION_POPULATION_RELATIVE       0.00000\n",
       "NAME_HOUSING_TYPE                0.00000\n",
       "NAME_FAMILY_STATUS               0.00000\n",
       "NAME_EDUCATION_TYPE              0.00000\n",
       "NAME_INCOME_TYPE                 0.00000\n",
       "SK_ID_CURR                       0.00000\n",
       "dtype: float64"
      ]
     },
     "execution_count": 15,
     "metadata": {},
     "output_type": "execute_result"
    }
   ],
   "source": [
    "#Checking the percentage of null data in each variable\n",
    "round(data.isna().sum()/len(data)*100,5).sort_values(ascending=False)"
   ]
  },
  {
   "cell_type": "code",
   "execution_count": 16,
   "id": "66235b57",
   "metadata": {},
   "outputs": [],
   "source": [
    "#Dropping columns that we believe will have little to no impact on whether or not a loan defaults.\n",
    "data.drop(columns=['CNT_FAM_MEMBERS','REGION_RATING_CLIENT_W_CITY', 'FLAG_EMP_PHONE', 'FLAG_WORK_PHONE', 'FLAG_CONT_MOBILE',\n",
    "       'FLAG_PHONE','FLAG_DOCUMENT_2', 'FLAG_DOCUMENT_3','FLAG_DOCUMENT_4', 'FLAG_DOCUMENT_5', 'FLAG_DOCUMENT_6',\n",
    "       'FLAG_DOCUMENT_7', 'FLAG_DOCUMENT_8', 'FLAG_DOCUMENT_9','FLAG_DOCUMENT_10', 'FLAG_DOCUMENT_11', 'FLAG_DOCUMENT_12',\n",
    "       'FLAG_DOCUMENT_13', 'FLAG_DOCUMENT_14', 'FLAG_DOCUMENT_15','FLAG_DOCUMENT_16', 'FLAG_DOCUMENT_17', 'FLAG_DOCUMENT_18',\n",
    "       'FLAG_DOCUMENT_19', 'FLAG_DOCUMENT_20', 'FLAG_DOCUMENT_21'], inplace=True)"
   ]
  },
  {
   "cell_type": "code",
   "execution_count": 17,
   "id": "94f54da5",
   "metadata": {},
   "outputs": [
    {
     "data": {
      "text/plain": [
       "(307511, 55)"
      ]
     },
     "execution_count": 17,
     "metadata": {},
     "output_type": "execute_result"
    }
   ],
   "source": [
    "data.shape"
   ]
  },
  {
   "cell_type": "code",
   "execution_count": 18,
   "id": "81ca5f8d",
   "metadata": {},
   "outputs": [
    {
     "data": {
      "text/plain": [
       "Index(['SK_ID_CURR', 'TARGET', 'CNT_CHILDREN', 'AMT_INCOME_TOTAL', 'AMT_CREDIT', 'AMT_ANNUITY', 'AMT_GOODS_PRICE', 'REGION_POPULATION_RELATIVE', 'DAYS_BIRTH', 'DAYS_EMPLOYED', 'DAYS_REGISTRATION', 'DAYS_ID_PUBLISH', 'FLAG_MOBIL', 'FLAG_EMAIL', 'REGION_RATING_CLIENT', 'HOUR_APPR_PROCESS_START', 'REG_REGION_NOT_LIVE_REGION', 'REG_REGION_NOT_WORK_REGION', 'LIVE_REGION_NOT_WORK_REGION', 'REG_CITY_NOT_LIVE_CITY', 'REG_CITY_NOT_WORK_CITY', 'LIVE_CITY_NOT_WORK_CITY', 'EXT_SOURCE_2', 'EXT_SOURCE_3', 'YEARS_BEGINEXPLUATATION_AVG', 'FLOORSMAX_AVG', 'YEARS_BEGINEXPLUATATION_MODE', 'FLOORSMAX_MODE', 'YEARS_BEGINEXPLUATATION_MEDI', 'FLOORSMAX_MEDI', 'TOTALAREA_MODE', 'OBS_30_CNT_SOCIAL_CIRCLE', 'DEF_30_CNT_SOCIAL_CIRCLE', 'OBS_60_CNT_SOCIAL_CIRCLE', 'DEF_60_CNT_SOCIAL_CIRCLE', 'DAYS_LAST_PHONE_CHANGE', 'AMT_REQ_CREDIT_BUREAU_HOUR', 'AMT_REQ_CREDIT_BUREAU_DAY', 'AMT_REQ_CREDIT_BUREAU_WEEK', 'AMT_REQ_CREDIT_BUREAU_MON', 'AMT_REQ_CREDIT_BUREAU_QRT', 'AMT_REQ_CREDIT_BUREAU_YEAR'], dtype='object')"
      ]
     },
     "execution_count": 18,
     "metadata": {},
     "output_type": "execute_result"
    }
   ],
   "source": [
    "data.select_dtypes(include='number').columns"
   ]
  },
  {
   "cell_type": "code",
   "execution_count": 19,
   "id": "62f1b49d",
   "metadata": {},
   "outputs": [
    {
     "data": {
      "text/plain": [
       "SK_ID_CURR                           0\n",
       "TARGET                               0\n",
       "NAME_CONTRACT_TYPE                   0\n",
       "CODE_GENDER                          0\n",
       "FLAG_OWN_CAR                         0\n",
       "FLAG_OWN_REALTY                      0\n",
       "CNT_CHILDREN                         0\n",
       "AMT_INCOME_TOTAL                     0\n",
       "AMT_CREDIT                           0\n",
       "AMT_ANNUITY                         12\n",
       "AMT_GOODS_PRICE                    278\n",
       "NAME_TYPE_SUITE                   1292\n",
       "NAME_INCOME_TYPE                     0\n",
       "NAME_EDUCATION_TYPE                  0\n",
       "NAME_FAMILY_STATUS                   0\n",
       "NAME_HOUSING_TYPE                    0\n",
       "REGION_POPULATION_RELATIVE           0\n",
       "DAYS_BIRTH                           0\n",
       "DAYS_EMPLOYED                        0\n",
       "DAYS_REGISTRATION                    0\n",
       "DAYS_ID_PUBLISH                      0\n",
       "FLAG_MOBIL                           0\n",
       "FLAG_EMAIL                           0\n",
       "OCCUPATION_TYPE                  96391\n",
       "REGION_RATING_CLIENT                 0\n",
       "WEEKDAY_APPR_PROCESS_START           0\n",
       "HOUR_APPR_PROCESS_START              0\n",
       "REG_REGION_NOT_LIVE_REGION           0\n",
       "REG_REGION_NOT_WORK_REGION           0\n",
       "LIVE_REGION_NOT_WORK_REGION          0\n",
       "REG_CITY_NOT_LIVE_CITY               0\n",
       "REG_CITY_NOT_WORK_CITY               0\n",
       "LIVE_CITY_NOT_WORK_CITY              0\n",
       "ORGANIZATION_TYPE                    0\n",
       "EXT_SOURCE_2                       660\n",
       "EXT_SOURCE_3                     60965\n",
       "YEARS_BEGINEXPLUATATION_AVG     150007\n",
       "FLOORSMAX_AVG                   153020\n",
       "YEARS_BEGINEXPLUATATION_MODE    150007\n",
       "FLOORSMAX_MODE                  153020\n",
       "YEARS_BEGINEXPLUATATION_MEDI    150007\n",
       "FLOORSMAX_MEDI                  153020\n",
       "TOTALAREA_MODE                  148431\n",
       "EMERGENCYSTATE_MODE             145755\n",
       "OBS_30_CNT_SOCIAL_CIRCLE          1021\n",
       "DEF_30_CNT_SOCIAL_CIRCLE          1021\n",
       "OBS_60_CNT_SOCIAL_CIRCLE          1021\n",
       "DEF_60_CNT_SOCIAL_CIRCLE          1021\n",
       "DAYS_LAST_PHONE_CHANGE               1\n",
       "AMT_REQ_CREDIT_BUREAU_HOUR       41519\n",
       "AMT_REQ_CREDIT_BUREAU_DAY        41519\n",
       "AMT_REQ_CREDIT_BUREAU_WEEK       41519\n",
       "AMT_REQ_CREDIT_BUREAU_MON        41519\n",
       "AMT_REQ_CREDIT_BUREAU_QRT        41519\n",
       "AMT_REQ_CREDIT_BUREAU_YEAR       41519\n",
       "dtype: int64"
      ]
     },
     "execution_count": 19,
     "metadata": {},
     "output_type": "execute_result"
    }
   ],
   "source": [
    "#Checking of missing values in each column of the new dataset\n",
    "data.isnull().sum()"
   ]
  },
  {
   "cell_type": "markdown",
   "id": "c7ed8fe3",
   "metadata": {},
   "source": [
    "We need to handle null values in 17 columns."
   ]
  },
  {
   "cell_type": "code",
   "execution_count": 20,
   "id": "d8894848",
   "metadata": {},
   "outputs": [
    {
     "data": {
      "image/png": "[encoded data removed]",
      "text/plain": [
       "<Figure size 432x288 with 1 Axes>"
      ]
     },
     "metadata": {
      "needs_background": "light"
     },
     "output_type": "display_data"
    }
   ],
   "source": [
    "#Checking for any outliers in the numerical column AMT_ANNUITY using a box plot\n",
    "sb.boxplot(data=data,x='AMT_ANNUITY')\n",
    "plt.show()"
   ]
  },
  {
   "cell_type": "markdown",
   "id": "7b95e3fd",
   "metadata": {},
   "source": [
    "The data in this column are highly skewed to the right, so we will replace missing values with the median. Note a significant amount of data are outliers. So we must proceed with caution with this features. "
   ]
  },
  {
   "cell_type": "code",
   "execution_count": 21,
   "id": "9d9a2fb4",
   "metadata": {},
   "outputs": [
    {
     "data": {
      "text/plain": [
       "0"
      ]
     },
     "execution_count": 21,
     "metadata": {},
     "output_type": "execute_result"
    }
   ],
   "source": [
    "data['AMT_ANNUITY'].fillna(value=data['AMT_ANNUITY'].median(),inplace=True)\n",
    "data['AMT_ANNUITY'].isna().sum()"
   ]
  },
  {
   "cell_type": "code",
   "execution_count": 22,
   "id": "60c62bd7",
   "metadata": {},
   "outputs": [
    {
     "data": {
      "image/png": "[encoded data removed]",
      "text/plain": [
       "<Figure size 432x288 with 1 Axes>"
      ]
     },
     "metadata": {
      "needs_background": "light"
     },
     "output_type": "display_data"
    }
   ],
   "source": [
    "#Checking for any outliers in the numerical column AMT_GOODS_PRICE using a box plot\n",
    "sb.boxplot(data=data,x='AMT_GOODS_PRICE')\n",
    "plt.show()"
   ]
  },
  {
   "cell_type": "markdown",
   "id": "e7658ecb",
   "metadata": {},
   "source": [
    "The data in this column are highly skewed to the right, so we will replace missing values with the median. Note a significant amount of data are outliers. So we must proceed with caution with this features. "
   ]
  },
  {
   "cell_type": "code",
   "execution_count": 23,
   "id": "714e41c9",
   "metadata": {},
   "outputs": [
    {
     "data": {
      "text/plain": [
       "0"
      ]
     },
     "execution_count": 23,
     "metadata": {},
     "output_type": "execute_result"
    }
   ],
   "source": [
    "data['AMT_GOODS_PRICE'].fillna(value=data['AMT_GOODS_PRICE'].median(),inplace=True)\n",
    "data['AMT_GOODS_PRICE'].isna().sum()"
   ]
  },
  {
   "cell_type": "code",
   "execution_count": 24,
   "id": "3e1ab4aa",
   "metadata": {},
   "outputs": [
    {
     "data": {
      "text/plain": [
       "Unaccompanied      248526\n",
       "Family              40149\n",
       "Spouse, partner     11370\n",
       "Children             3267\n",
       "Other_B              1770\n",
       "Other_A               866\n",
       "Group of people       271\n",
       "Name: NAME_TYPE_SUITE, dtype: int64"
      ]
     },
     "execution_count": 24,
     "metadata": {},
     "output_type": "execute_result"
    }
   ],
   "source": [
    "#Handling missing values in the categorical variable NAME_TYPE_SUITE.\n",
    "data['NAME_TYPE_SUITE'].value_counts()"
   ]
  },
  {
   "cell_type": "markdown",
   "id": "ba66bde7",
   "metadata": {},
   "source": [
    "Since the most common category is \"Unaccompanied\", we may replace the missing values by that category."
   ]
  },
  {
   "cell_type": "code",
   "execution_count": 25,
   "id": "32195906",
   "metadata": {},
   "outputs": [
    {
     "name": "stdout",
     "output_type": "stream",
     "text": [
      "Unaccompanied\n"
     ]
    },
    {
     "data": {
      "text/plain": [
       "0"
      ]
     },
     "execution_count": 25,
     "metadata": {},
     "output_type": "execute_result"
    }
   ],
   "source": [
    "Un = data['NAME_TYPE_SUITE'].value_counts().index[0]\n",
    "print(Un)\n",
    "data['NAME_TYPE_SUITE'] = data['NAME_TYPE_SUITE'].fillna(Un)\n",
    "data['NAME_TYPE_SUITE'].isna().sum()"
   ]
  },
  {
   "cell_type": "code",
   "execution_count": 26,
   "id": "20d4bd24",
   "metadata": {},
   "outputs": [
    {
     "data": {
      "text/plain": [
       "Laborers                 55186\n",
       "Sales staff              32102\n",
       "Core staff               27570\n",
       "Managers                 21371\n",
       "Drivers                  18603\n",
       "High skill tech staff    11380\n",
       "Accountants               9813\n",
       "Medicine staff            8537\n",
       "Security staff            6721\n",
       "Cooking staff             5946\n",
       "Cleaning staff            4653\n",
       "Private service staff     2652\n",
       "Low-skill Laborers        2093\n",
       "Waiters/barmen staff      1348\n",
       "Secretaries               1305\n",
       "Realty agents              751\n",
       "HR staff                   563\n",
       "IT staff                   526\n",
       "Name: OCCUPATION_TYPE, dtype: int64"
      ]
     },
     "execution_count": 26,
     "metadata": {},
     "output_type": "execute_result"
    }
   ],
   "source": [
    "#Handling missing values in the categorical variable OCCUPATION_TYPE.\n",
    "data['OCCUPATION_TYPE'].value_counts() "
   ]
  },
  {
   "cell_type": "markdown",
   "id": "33b98f70",
   "metadata": {},
   "source": [
    "Since the most common category is \"Laborers\", we may replace the missing values by that category."
   ]
  },
  {
   "cell_type": "code",
   "execution_count": 27,
   "id": "c0d07158",
   "metadata": {},
   "outputs": [
    {
     "name": "stdout",
     "output_type": "stream",
     "text": [
      "Laborers\n"
     ]
    },
    {
     "data": {
      "text/plain": [
       "0"
      ]
     },
     "execution_count": 27,
     "metadata": {},
     "output_type": "execute_result"
    }
   ],
   "source": [
    "Lab = data['OCCUPATION_TYPE'].value_counts().index[0]\n",
    "print(Lab)\n",
    "data['OCCUPATION_TYPE'] = data['OCCUPATION_TYPE'].fillna(Lab)\n",
    "data['OCCUPATION_TYPE'].isna().sum()"
   ]
  },
  {
   "cell_type": "code",
   "execution_count": 28,
   "id": "bb13fdaa",
   "metadata": {},
   "outputs": [
    {
     "data": {
      "image/png": "[encoded data removed]",
      "text/plain": [
       "<Figure size 432x288 with 1 Axes>"
      ]
     },
     "metadata": {
      "needs_background": "light"
     },
     "output_type": "display_data"
    }
   ],
   "source": [
    "#Checking for any outliers in the numerical column EXT_SOURCE_2 using a box plot\n",
    "sb.boxplot(data=data,x='EXT_SOURCE_2')\n",
    "plt.show()"
   ]
  },
  {
   "cell_type": "markdown",
   "id": "c7b85a89",
   "metadata": {},
   "source": [
    "The data in this column are not highly skewed. Witn no outliers, we will replace missing values with the mean."
   ]
  },
  {
   "cell_type": "code",
   "execution_count": 29,
   "id": "598246bc",
   "metadata": {},
   "outputs": [
    {
     "data": {
      "text/plain": [
       "0"
      ]
     },
     "execution_count": 29,
     "metadata": {},
     "output_type": "execute_result"
    }
   ],
   "source": [
    "data['EXT_SOURCE_2'].fillna(value=data['EXT_SOURCE_2'].mean(),inplace=True)\n",
    "data['EXT_SOURCE_2'].isna().sum()"
   ]
  },
  {
   "cell_type": "code",
   "execution_count": 30,
   "id": "26267d12",
   "metadata": {},
   "outputs": [
    {
     "data": {
      "image/png": "[encoded data removed]",
      "text/plain": [
       "<Figure size 432x288 with 1 Axes>"
      ]
     },
     "metadata": {
      "needs_background": "light"
     },
     "output_type": "display_data"
    }
   ],
   "source": [
    "#Checking for any outliers in the numerical column EXT_SOURCE_3 using a box plot\n",
    "sb.boxplot(data=data,x='EXT_SOURCE_3')\n",
    "plt.show()"
   ]
  },
  {
   "cell_type": "markdown",
   "id": "07ed538b",
   "metadata": {},
   "source": [
    "The data in this column are not highly skewed. Witn no outliers, we will replace missing values with the mean."
   ]
  },
  {
   "cell_type": "code",
   "execution_count": 31,
   "id": "a310d78a",
   "metadata": {},
   "outputs": [
    {
     "data": {
      "text/plain": [
       "0"
      ]
     },
     "execution_count": 31,
     "metadata": {},
     "output_type": "execute_result"
    }
   ],
   "source": [
    "data['EXT_SOURCE_3'].fillna(value=data['EXT_SOURCE_3'].mean(),inplace=True)\n",
    "data['EXT_SOURCE_3'].isna().sum()"
   ]
  },
  {
   "cell_type": "code",
   "execution_count": 32,
   "id": "35b27475",
   "metadata": {},
   "outputs": [
    {
     "data": {
      "image/png": "[encoded data removed]",
      "text/plain": [
       "<Figure size 432x288 with 1 Axes>"
      ]
     },
     "metadata": {
      "needs_background": "light"
     },
     "output_type": "display_data"
    }
   ],
   "source": [
    "#Checking for any outliers in the numerical column YEARS_BEGINEXPLUATATION_AVG using a box plot\n",
    "sb.boxplot(data=data,x='YEARS_BEGINEXPLUATATION_AVG')\n",
    "plt.show()"
   ]
  },
  {
   "cell_type": "markdown",
   "id": "0c082327",
   "metadata": {},
   "source": [
    "The data in this column are highly skewed to the left, so we will replace missing values with the median. Note a significant amount of data are outliers. So we must proceed with caution with this features. "
   ]
  },
  {
   "cell_type": "code",
   "execution_count": 33,
   "id": "efadaf46",
   "metadata": {},
   "outputs": [
    {
     "data": {
      "text/plain": [
       "0"
      ]
     },
     "execution_count": 33,
     "metadata": {},
     "output_type": "execute_result"
    }
   ],
   "source": [
    "data['YEARS_BEGINEXPLUATATION_AVG'].fillna(value=data['YEARS_BEGINEXPLUATATION_AVG'].median(),inplace=True)\n",
    "data['YEARS_BEGINEXPLUATATION_AVG'].isna().sum()"
   ]
  },
  {
   "cell_type": "code",
   "execution_count": 34,
   "id": "8897d77a",
   "metadata": {},
   "outputs": [
    {
     "data": {
      "image/png": "[encoded data removed]",
      "text/plain": [
       "<Figure size 432x288 with 1 Axes>"
      ]
     },
     "metadata": {
      "needs_background": "light"
     },
     "output_type": "display_data"
    }
   ],
   "source": [
    "#Checking for any outliers in the numerical column YEARS_BEGINEXPLUATATION_AVG using a box plot\n",
    "sb.boxplot(data=data,x='FLOORSMAX_AVG')\n",
    "plt.show()"
   ]
  },
  {
   "cell_type": "markdown",
   "id": "b3486e11",
   "metadata": {},
   "source": [
    "The data in this column are highly skewed to the right, so we will replace missing values with the median. Note a significant amount of data are outliers. So we must proceed with caution with this features. "
   ]
  },
  {
   "cell_type": "code",
   "execution_count": 35,
   "id": "b6792dc2",
   "metadata": {},
   "outputs": [
    {
     "data": {
      "text/plain": [
       "0"
      ]
     },
     "execution_count": 35,
     "metadata": {},
     "output_type": "execute_result"
    }
   ],
   "source": [
    "data['FLOORSMAX_AVG'].fillna(value=data['FLOORSMAX_AVG'].median(),inplace=True)\n",
    "data['FLOORSMAX_AVG'].isna().sum()"
   ]
  },
  {
   "cell_type": "code",
   "execution_count": 36,
   "id": "f8570a17",
   "metadata": {},
   "outputs": [
    {
     "data": {
      "image/png": "[encoded data removed]",
      "text/plain": [
       "<Figure size 432x288 with 1 Axes>"
      ]
     },
     "metadata": {
      "needs_background": "light"
     },
     "output_type": "display_data"
    }
   ],
   "source": [
    "#Checking for any outliers in the numerical column YEARS_BEGINEXPLUATATION_AVG using a box plot\n",
    "sb.boxplot(data=data,x='YEARS_BEGINEXPLUATATION_MODE')\n",
    "plt.show()"
   ]
  },
  {
   "cell_type": "markdown",
   "id": "a2ed4e07",
   "metadata": {},
   "source": [
    "The data in this column are highly skewed to the left, so we will replace missing values with the median. Note a significant amount of data are outliers. So we must proceed with caution with this features. "
   ]
  },
  {
   "cell_type": "code",
   "execution_count": 37,
   "id": "4308d80c",
   "metadata": {},
   "outputs": [
    {
     "data": {
      "text/plain": [
       "0"
      ]
     },
     "execution_count": 37,
     "metadata": {},
     "output_type": "execute_result"
    }
   ],
   "source": [
    "data['YEARS_BEGINEXPLUATATION_AVG'].fillna(value=data['YEARS_BEGINEXPLUATATION_AVG'].median(),inplace=True)\n",
    "data['YEARS_BEGINEXPLUATATION_AVG'].isna().sum()"
   ]
  },
  {
   "cell_type": "code",
   "execution_count": 38,
   "id": "2446eb1c",
   "metadata": {},
   "outputs": [
    {
     "data": {
      "image/png": "[encoded data removed]",
      "text/plain": [
       "<Figure size 432x288 with 1 Axes>"
      ]
     },
     "metadata": {
      "needs_background": "light"
     },
     "output_type": "display_data"
    }
   ],
   "source": [
    "#Checking for any outliers in the numerical column YEARS_BEGINEXPLUATATION_MEDI using a box plot\n",
    "sb.boxplot(data=data,x='YEARS_BEGINEXPLUATATION_MEDI')\n",
    "plt.show()"
   ]
  },
  {
   "cell_type": "markdown",
   "id": "e95b6d68",
   "metadata": {},
   "source": [
    "The data in this column are highly skewed to the left, so we will replace missing values with the median."
   ]
  },
  {
   "cell_type": "code",
   "execution_count": 39,
   "id": "c5b8e2f1",
   "metadata": {},
   "outputs": [
    {
     "data": {
      "text/plain": [
       "0"
      ]
     },
     "execution_count": 39,
     "metadata": {},
     "output_type": "execute_result"
    }
   ],
   "source": [
    "data['YEARS_BEGINEXPLUATATION_MEDI'].fillna(value=data['YEARS_BEGINEXPLUATATION_MEDI'].median(),inplace=True)\n",
    "data['YEARS_BEGINEXPLUATATION_MEDI'].isna().sum()"
   ]
  },
  {
   "cell_type": "code",
   "execution_count": 40,
   "id": "ddc1f123",
   "metadata": {},
   "outputs": [
    {
     "data": {
      "image/png": "[encoded data removed]",
      "text/plain": [
       "<Figure size 432x288 with 1 Axes>"
      ]
     },
     "metadata": {
      "needs_background": "light"
     },
     "output_type": "display_data"
    }
   ],
   "source": [
    "#Checking for any outliers in the numerical column FLOORSMAX_MEDI using a box plot\n",
    "sb.boxplot(data=data,x=('FLOORSMAX_MEDI'))\n",
    "plt.show()"
   ]
  },
  {
   "cell_type": "markdown",
   "id": "e775c8cb",
   "metadata": {},
   "source": [
    "The data in this column are highly skewed to the right, so we will replace missing values with the median."
   ]
  },
  {
   "cell_type": "code",
   "execution_count": 41,
   "id": "3057d0ab",
   "metadata": {},
   "outputs": [
    {
     "data": {
      "text/plain": [
       "0"
      ]
     },
     "execution_count": 41,
     "metadata": {},
     "output_type": "execute_result"
    }
   ],
   "source": [
    "data['FLOORSMAX_MEDI'].fillna(value=data['FLOORSMAX_MEDI'].median(),inplace=True)\n",
    "data['FLOORSMAX_MEDI'].isna().sum()"
   ]
  },
  {
   "cell_type": "code",
   "execution_count": 42,
   "id": "4e596a88",
   "metadata": {},
   "outputs": [
    {
     "data": {
      "image/png": "[encoded data removed]",
      "text/plain": [
       "<Figure size 432x288 with 1 Axes>"
      ]
     },
     "metadata": {
      "needs_background": "light"
     },
     "output_type": "display_data"
    }
   ],
   "source": [
    "#Checking for any outliers in the numerical column  YEARS_BEGINEXPLUATATION_MODE using a box plot\n",
    "sb.boxplot(data=data,x=('YEARS_BEGINEXPLUATATION_MODE'))\n",
    "plt.show()"
   ]
  },
  {
   "cell_type": "markdown",
   "id": "c0a0d25d",
   "metadata": {},
   "source": [
    "The data in this column are highly skewed to the left, so we will replace missing values with the median. Note a significant amount of data are outliers. So we must proceed with caution with this features. "
   ]
  },
  {
   "cell_type": "code",
   "execution_count": 43,
   "id": "7b07a95c",
   "metadata": {},
   "outputs": [
    {
     "data": {
      "text/plain": [
       "0"
      ]
     },
     "execution_count": 43,
     "metadata": {},
     "output_type": "execute_result"
    }
   ],
   "source": [
    "data['YEARS_BEGINEXPLUATATION_MODE'].fillna(value=data['YEARS_BEGINEXPLUATATION_MODE'].median(),inplace=True)\n",
    "data['YEARS_BEGINEXPLUATATION_MODE'].isna().sum()"
   ]
  },
  {
   "cell_type": "code",
   "execution_count": 44,
   "id": "3021c84d",
   "metadata": {},
   "outputs": [
    {
     "data": {
      "image/png": "[encoded data removed]",
      "text/plain": [
       "<Figure size 432x288 with 1 Axes>"
      ]
     },
     "metadata": {
      "needs_background": "light"
     },
     "output_type": "display_data"
    }
   ],
   "source": [
    "#Checking for any outliers in the numerical column  FLOORSMAX_MODE using a box plot\n",
    "sb.boxplot(data=data,x=('FLOORSMAX_MODE'))\n",
    "plt.show()"
   ]
  },
  {
   "cell_type": "markdown",
   "id": "8a74b6ad",
   "metadata": {},
   "source": [
    "The data in this column are highly skewed to the right, so we will replace missing values with the median."
   ]
  },
  {
   "cell_type": "code",
   "execution_count": 45,
   "id": "6468b5b7",
   "metadata": {},
   "outputs": [
    {
     "data": {
      "text/plain": [
       "0"
      ]
     },
     "execution_count": 45,
     "metadata": {},
     "output_type": "execute_result"
    }
   ],
   "source": [
    "data['FLOORSMAX_MODE'].fillna(value=data['FLOORSMAX_MODE'].median(),inplace=True)\n",
    "data['FLOORSMAX_MODE'].isna().sum()"
   ]
  },
  {
   "cell_type": "code",
   "execution_count": 46,
   "id": "c9c2a989",
   "metadata": {},
   "outputs": [
    {
     "data": {
      "text/plain": [
       "No     159428\n",
       "Yes      2328\n",
       "Name: EMERGENCYSTATE_MODE, dtype: int64"
      ]
     },
     "execution_count": 46,
     "metadata": {},
     "output_type": "execute_result"
    }
   ],
   "source": [
    "#Handling missing values in the categorical variable EMERGENCYSTATE_MODE.\n",
    "data['EMERGENCYSTATE_MODE'].value_counts() "
   ]
  },
  {
   "cell_type": "markdown",
   "id": "57fcf4d6",
   "metadata": {},
   "source": [
    "Since the most common category is \"No\", we may replace the missing values by that category."
   ]
  },
  {
   "cell_type": "code",
   "execution_count": 47,
   "id": "777185f6",
   "metadata": {},
   "outputs": [
    {
     "name": "stdout",
     "output_type": "stream",
     "text": [
      "No\n"
     ]
    },
    {
     "data": {
      "text/plain": [
       "0"
      ]
     },
     "execution_count": 47,
     "metadata": {},
     "output_type": "execute_result"
    }
   ],
   "source": [
    "no = data['EMERGENCYSTATE_MODE'].value_counts().index[0]\n",
    "print(no)\n",
    "data['EMERGENCYSTATE_MODE'] = data['EMERGENCYSTATE_MODE'].fillna(no)\n",
    "data['EMERGENCYSTATE_MODE'].isna().sum()"
   ]
  },
  {
   "cell_type": "code",
   "execution_count": 48,
   "id": "87f0aa5b",
   "metadata": {},
   "outputs": [
    {
     "data": {
      "image/png": "[encoded data removed]",
      "text/plain": [
       "<Figure size 432x288 with 1 Axes>"
      ]
     },
     "metadata": {
      "needs_background": "light"
     },
     "output_type": "display_data"
    }
   ],
   "source": [
    "#Checking for any outliers in the numerical column TOTALAREA_MODE using a box plot\n",
    "sb.boxplot(data=data,x=('TOTALAREA_MODE'))\n",
    "plt.show()"
   ]
  },
  {
   "cell_type": "markdown",
   "id": "bbeb7832",
   "metadata": {},
   "source": [
    "The data in this column are highly skewed to the right, so we will replace missing values with the median. Note a significant amount of data are outliers. So we must proceed with caution with this features. "
   ]
  },
  {
   "cell_type": "code",
   "execution_count": 49,
   "id": "806f13ac",
   "metadata": {},
   "outputs": [
    {
     "data": {
      "text/plain": [
       "0"
      ]
     },
     "execution_count": 49,
     "metadata": {},
     "output_type": "execute_result"
    }
   ],
   "source": [
    "data['TOTALAREA_MODE'].fillna(value=data['TOTALAREA_MODE'].median(),inplace=True)\n",
    "data['TOTALAREA_MODE'].isna().sum()"
   ]
  },
  {
   "cell_type": "code",
   "execution_count": 50,
   "id": "f4881807",
   "metadata": {},
   "outputs": [
    {
     "data": {
      "image/png": "[encoded data removed]",
      "text/plain": [
       "<Figure size 432x288 with 1 Axes>"
      ]
     },
     "metadata": {
      "needs_background": "light"
     },
     "output_type": "display_data"
    }
   ],
   "source": [
    "#Checking for any outliers in the numerical column  OBS_30_CNT_SOCIAL_CIRCLE using a box plot\n",
    "sb.boxplot(data=data,x=('OBS_30_CNT_SOCIAL_CIRCLE'))\n",
    "plt.show()"
   ]
  },
  {
   "cell_type": "markdown",
   "id": "7128cfa9",
   "metadata": {},
   "source": [
    "The data in this column are highly skewed to the right, so we will replace missing values with the median."
   ]
  },
  {
   "cell_type": "code",
   "execution_count": 51,
   "id": "8d0457dc",
   "metadata": {},
   "outputs": [
    {
     "data": {
      "text/plain": [
       "0"
      ]
     },
     "execution_count": 51,
     "metadata": {},
     "output_type": "execute_result"
    }
   ],
   "source": [
    "data['OBS_30_CNT_SOCIAL_CIRCLE'].fillna(value=data['OBS_30_CNT_SOCIAL_CIRCLE'].median(),inplace=True)\n",
    "data['OBS_30_CNT_SOCIAL_CIRCLE'].isna().sum()"
   ]
  },
  {
   "cell_type": "code",
   "execution_count": 52,
   "id": "8e3d2b0f",
   "metadata": {},
   "outputs": [
    {
     "data": {
      "image/png": "[encoded data removed]",
      "text/plain": [
       "<Figure size 432x288 with 1 Axes>"
      ]
     },
     "metadata": {
      "needs_background": "light"
     },
     "output_type": "display_data"
    }
   ],
   "source": [
    "#Checking for any outliers in the numerical column DEF_30_CNT_SOCIAL_CIRCLE using a box plot\n",
    "sb.boxplot(data=data,x=('DEF_30_CNT_SOCIAL_CIRCLE'))\n",
    "plt.show()"
   ]
  },
  {
   "cell_type": "markdown",
   "id": "3f297ce2",
   "metadata": {},
   "source": [
    "The data in this column are highly skewed to the right, so we will replace missing values with the median."
   ]
  },
  {
   "cell_type": "code",
   "execution_count": 53,
   "id": "dad3b423",
   "metadata": {},
   "outputs": [
    {
     "data": {
      "text/plain": [
       "0"
      ]
     },
     "execution_count": 53,
     "metadata": {},
     "output_type": "execute_result"
    }
   ],
   "source": [
    "data['DEF_30_CNT_SOCIAL_CIRCLE'].fillna(value=data['DEF_30_CNT_SOCIAL_CIRCLE'].median(),inplace=True)\n",
    "data['DEF_30_CNT_SOCIAL_CIRCLE'].isna().sum()"
   ]
  },
  {
   "cell_type": "code",
   "execution_count": 54,
   "id": "d7fd5ce2",
   "metadata": {},
   "outputs": [
    {
     "data": {
      "image/png": "[encoded data removed]",
      "text/plain": [
       "<Figure size 432x288 with 1 Axes>"
      ]
     },
     "metadata": {
      "needs_background": "light"
     },
     "output_type": "display_data"
    }
   ],
   "source": [
    "#Checking for any outliers in the numerical column OBS_60_CNT_SOCIAL_CIRCLE using a box plot\n",
    "sb.boxplot(data=data,x=('OBS_60_CNT_SOCIAL_CIRCLE'))\n",
    "plt.show()"
   ]
  },
  {
   "cell_type": "markdown",
   "id": "999943cc",
   "metadata": {},
   "source": [
    "The data in this column are highly skewed to the right, so we will replace missing values with the median."
   ]
  },
  {
   "cell_type": "code",
   "execution_count": 55,
   "id": "1c33a4eb",
   "metadata": {},
   "outputs": [
    {
     "data": {
      "text/plain": [
       "0"
      ]
     },
     "execution_count": 55,
     "metadata": {},
     "output_type": "execute_result"
    }
   ],
   "source": [
    "data['OBS_60_CNT_SOCIAL_CIRCLE'].fillna(value=data['OBS_60_CNT_SOCIAL_CIRCLE'].median(),inplace=True)\n",
    "data['OBS_60_CNT_SOCIAL_CIRCLE'].isna().sum()"
   ]
  },
  {
   "cell_type": "code",
   "execution_count": 56,
   "id": "a35896a4",
   "metadata": {},
   "outputs": [
    {
     "data": {
      "image/png": "[encoded data removed]",
      "text/plain": [
       "<Figure size 432x288 with 1 Axes>"
      ]
     },
     "metadata": {
      "needs_background": "light"
     },
     "output_type": "display_data"
    }
   ],
   "source": [
    "#Checking for any outliers in the numerical column DEF_60_CNT_SOCIAL_CIRCLE using a box plot\n",
    "sb.boxplot(data=data,x=('DEF_60_CNT_SOCIAL_CIRCLE'))\n",
    "plt.show()"
   ]
  },
  {
   "cell_type": "markdown",
   "id": "e6ef2e9d",
   "metadata": {},
   "source": [
    "The data in this column are highly skewed to the right, so we will replace missing values with the median."
   ]
  },
  {
   "cell_type": "code",
   "execution_count": 57,
   "id": "c42ce21d",
   "metadata": {},
   "outputs": [
    {
     "data": {
      "text/plain": [
       "0"
      ]
     },
     "execution_count": 57,
     "metadata": {},
     "output_type": "execute_result"
    }
   ],
   "source": [
    "data['DEF_60_CNT_SOCIAL_CIRCLE'].fillna(value=data['DEF_60_CNT_SOCIAL_CIRCLE'].median(),inplace=True)\n",
    "data['DEF_60_CNT_SOCIAL_CIRCLE'].isna().sum()"
   ]
  },
  {
   "cell_type": "code",
   "execution_count": 58,
   "id": "3088a4b3",
   "metadata": {},
   "outputs": [
    {
     "data": {
      "image/png": "[encoded data removed]",
      "text/plain": [
       "<Figure size 432x288 with 1 Axes>"
      ]
     },
     "metadata": {
      "needs_background": "light"
     },
     "output_type": "display_data"
    }
   ],
   "source": [
    "#Checking for any outliers in the numerical column DAYS_LAST_PHONE_CHANGE using a box plot\n",
    "sb.boxplot(data=data,x=('DAYS_LAST_PHONE_CHANGE'))\n",
    "plt.show()"
   ]
  },
  {
   "cell_type": "markdown",
   "id": "581e0989",
   "metadata": {},
   "source": [
    "The data in this column are highly skewed to the left, so we will replace missing values with the median."
   ]
  },
  {
   "cell_type": "code",
   "execution_count": 59,
   "id": "cabd92b8",
   "metadata": {},
   "outputs": [
    {
     "data": {
      "text/plain": [
       "0"
      ]
     },
     "execution_count": 59,
     "metadata": {},
     "output_type": "execute_result"
    }
   ],
   "source": [
    "data['DAYS_LAST_PHONE_CHANGE'].fillna(value=data['DAYS_LAST_PHONE_CHANGE'].median(),inplace=True)\n",
    "data['DAYS_LAST_PHONE_CHANGE'].isna().sum()"
   ]
  },
  {
   "cell_type": "code",
   "execution_count": 60,
   "id": "277cf669",
   "metadata": {},
   "outputs": [
    {
     "data": {
      "image/png": "[encoded data removed]",
      "text/plain": [
       "<Figure size 432x288 with 1 Axes>"
      ]
     },
     "metadata": {
      "needs_background": "light"
     },
     "output_type": "display_data"
    }
   ],
   "source": [
    "#Checking for any outliers in the numerical column AMT_REQ_CREDIT_BUREAU_HOUR using a box plot\n",
    "sb.boxplot(data=data,x=('AMT_REQ_CREDIT_BUREAU_HOUR'))\n",
    "plt.show()"
   ]
  },
  {
   "cell_type": "markdown",
   "id": "39a3f027",
   "metadata": {},
   "source": [
    "The data in this column are skewed to the right, so we will replace missing values with the median."
   ]
  },
  {
   "cell_type": "code",
   "execution_count": 61,
   "id": "34e2bc59",
   "metadata": {},
   "outputs": [
    {
     "data": {
      "text/plain": [
       "0"
      ]
     },
     "execution_count": 61,
     "metadata": {},
     "output_type": "execute_result"
    }
   ],
   "source": [
    "data['AMT_REQ_CREDIT_BUREAU_HOUR'].fillna(value=data['AMT_REQ_CREDIT_BUREAU_HOUR'].median(),inplace=True)\n",
    "data['AMT_REQ_CREDIT_BUREAU_HOUR'].isna().sum()"
   ]
  },
  {
   "cell_type": "code",
   "execution_count": 62,
   "id": "9b4241c0",
   "metadata": {},
   "outputs": [
    {
     "data": {
      "image/png": "[encoded data removed]",
      "text/plain": [
       "<Figure size 432x288 with 1 Axes>"
      ]
     },
     "metadata": {
      "needs_background": "light"
     },
     "output_type": "display_data"
    }
   ],
   "source": [
    "#Checking for any outliers in the numerical column AMT_REQ_CREDIT_BUREAU_DAY using a box plot\n",
    "sb.boxplot(data=data,x=('AMT_REQ_CREDIT_BUREAU_DAY'))\n",
    "plt.show()"
   ]
  },
  {
   "cell_type": "markdown",
   "id": "4a0bb29d",
   "metadata": {},
   "source": [
    "The data in this column are  skewed to the right, so we will replace missing values with the median."
   ]
  },
  {
   "cell_type": "code",
   "execution_count": 63,
   "id": "2c3ba47f",
   "metadata": {},
   "outputs": [
    {
     "data": {
      "text/plain": [
       "0"
      ]
     },
     "execution_count": 63,
     "metadata": {},
     "output_type": "execute_result"
    }
   ],
   "source": [
    "data['AMT_REQ_CREDIT_BUREAU_DAY'].fillna(value=data['AMT_REQ_CREDIT_BUREAU_DAY'].median(),inplace=True)\n",
    "data['AMT_REQ_CREDIT_BUREAU_DAY'].isna().sum()"
   ]
  },
  {
   "cell_type": "code",
   "execution_count": 64,
   "id": "1eaf05c8",
   "metadata": {},
   "outputs": [
    {
     "data": {
      "image/png": "[encoded data removed]",
      "text/plain": [
       "<Figure size 432x288 with 1 Axes>"
      ]
     },
     "metadata": {
      "needs_background": "light"
     },
     "output_type": "display_data"
    }
   ],
   "source": [
    "#Checking for any outliers in the numerical column AMT_REQ_CREDIT_BUREAU_WEEK using a box plot\n",
    "sb.boxplot(data=data,x=('AMT_REQ_CREDIT_BUREAU_WEEK'))\n",
    "plt.show()"
   ]
  },
  {
   "cell_type": "markdown",
   "id": "8b71c222",
   "metadata": {},
   "source": [
    "The data in this column are skewed to the right, so we will replace missing values with the median."
   ]
  },
  {
   "cell_type": "code",
   "execution_count": 65,
   "id": "d0359c9d",
   "metadata": {},
   "outputs": [
    {
     "data": {
      "text/plain": [
       "0"
      ]
     },
     "execution_count": 65,
     "metadata": {},
     "output_type": "execute_result"
    }
   ],
   "source": [
    "data['AMT_REQ_CREDIT_BUREAU_WEEK'].fillna(value=data['AMT_REQ_CREDIT_BUREAU_WEEK'].median(),inplace=True)\n",
    "data['AMT_REQ_CREDIT_BUREAU_WEEK'].isna().sum()"
   ]
  },
  {
   "cell_type": "code",
   "execution_count": 66,
   "id": "2d85bd6e",
   "metadata": {},
   "outputs": [
    {
     "data": {
      "image/png": "[encoded data removed]",
      "text/plain": [
       "<Figure size 432x288 with 1 Axes>"
      ]
     },
     "metadata": {
      "needs_background": "light"
     },
     "output_type": "display_data"
    }
   ],
   "source": [
    "#Checking for any outliers in the numerical column AMT_REQ_CREDIT_BUREAU_MON using a box plot\n",
    "sb.boxplot(data=data,x=('AMT_REQ_CREDIT_BUREAU_MON'))\n",
    "plt.show()"
   ]
  },
  {
   "cell_type": "markdown",
   "id": "f7ba7ba1",
   "metadata": {},
   "source": [
    "The data in this column are skewed to the right, so we will replace missing values with the median."
   ]
  },
  {
   "cell_type": "code",
   "execution_count": 67,
   "id": "9074353c",
   "metadata": {},
   "outputs": [
    {
     "data": {
      "text/plain": [
       "0"
      ]
     },
     "execution_count": 67,
     "metadata": {},
     "output_type": "execute_result"
    }
   ],
   "source": [
    "data['AMT_REQ_CREDIT_BUREAU_MON'].fillna(value=data['AMT_REQ_CREDIT_BUREAU_MON'].median(),inplace=True)\n",
    "data['AMT_REQ_CREDIT_BUREAU_MON'].isna().sum()"
   ]
  },
  {
   "cell_type": "code",
   "execution_count": 68,
   "id": "6c79f14d",
   "metadata": {},
   "outputs": [
    {
     "data": {
      "image/png": "[encoded data removed]",
      "text/plain": [
       "<Figure size 432x288 with 1 Axes>"
      ]
     },
     "metadata": {
      "needs_background": "light"
     },
     "output_type": "display_data"
    }
   ],
   "source": [
    "#Checking for any outliers in the numerical column AMT_REQ_CREDIT_BUREAU_QRT using a box plot\n",
    "sb.boxplot(data=data,x=('AMT_REQ_CREDIT_BUREAU_QRT'))\n",
    "plt.show()"
   ]
  },
  {
   "cell_type": "markdown",
   "id": "5cad33e4",
   "metadata": {},
   "source": [
    "The data in this column are skewed to the right, so we will replace missing values with the median."
   ]
  },
  {
   "cell_type": "code",
   "execution_count": 69,
   "id": "730ae491",
   "metadata": {},
   "outputs": [
    {
     "data": {
      "text/plain": [
       "0"
      ]
     },
     "execution_count": 69,
     "metadata": {},
     "output_type": "execute_result"
    }
   ],
   "source": [
    "data['AMT_REQ_CREDIT_BUREAU_QRT'].fillna(value=data['AMT_REQ_CREDIT_BUREAU_QRT'].median(),inplace=True)\n",
    "data['AMT_REQ_CREDIT_BUREAU_QRT'].isna().sum()"
   ]
  },
  {
   "cell_type": "code",
   "execution_count": 70,
   "id": "cf3a6368",
   "metadata": {},
   "outputs": [
    {
     "data": {
      "image/png": "[encoded data removed]",
      "text/plain": [
       "<Figure size 432x288 with 1 Axes>"
      ]
     },
     "metadata": {
      "needs_background": "light"
     },
     "output_type": "display_data"
    }
   ],
   "source": [
    "#Checking for any outliers in the numerical column AMT_REQ_CREDIT_BUREAU_DAY using a box plot\n",
    "sb.boxplot(data=data,x=('AMT_REQ_CREDIT_BUREAU_YEAR'))\n",
    "plt.show()"
   ]
  },
  {
   "cell_type": "markdown",
   "id": "5a2975ef",
   "metadata": {},
   "source": [
    "The data in this column are highly skewed to the right, so we will replace missing values with the median."
   ]
  },
  {
   "cell_type": "code",
   "execution_count": 71,
   "id": "31a3ce11",
   "metadata": {},
   "outputs": [
    {
     "data": {
      "text/plain": [
       "0"
      ]
     },
     "execution_count": 71,
     "metadata": {},
     "output_type": "execute_result"
    }
   ],
   "source": [
    "data['AMT_REQ_CREDIT_BUREAU_YEAR'].fillna(value=data['AMT_REQ_CREDIT_BUREAU_YEAR'].median(),inplace=True)\n",
    "data['AMT_REQ_CREDIT_BUREAU_YEAR'].isna().sum()"
   ]
  },
  {
   "cell_type": "code",
   "execution_count": 72,
   "id": "7db9c606",
   "metadata": {},
   "outputs": [
    {
     "name": "stdout",
     "output_type": "stream",
     "text": [
      "<class 'pandas.core.series.Series'>\n",
      "Index: 55 entries, SK_ID_CURR to AMT_REQ_CREDIT_BUREAU_YEAR\n",
      "Series name: None\n",
      "Non-Null Count  Dtype\n",
      "--------------  -----\n",
      "55 non-null     int64\n",
      "dtypes: int64(1)\n",
      "memory usage: 880.0+ bytes\n"
     ]
    }
   ],
   "source": [
    "data.isnull().sum().info()"
   ]
  },
  {
   "cell_type": "code",
   "execution_count": 73,
   "id": "684c7614",
   "metadata": {},
   "outputs": [
    {
     "name": "stdout",
     "output_type": "stream",
     "text": [
      "<class 'pandas.core.frame.DataFrame'>\n",
      "Int64Index: 307511 entries, 0 to 307510\n",
      "Data columns (total 55 columns):\n",
      " #   Column                        Non-Null Count   Dtype  \n",
      "---  ------                        --------------   -----  \n",
      " 0   SK_ID_CURR                    307511 non-null  int64  \n",
      " 1   TARGET                        307511 non-null  int64  \n",
      " 2   NAME_CONTRACT_TYPE            307511 non-null  object \n",
      " 3   CODE_GENDER                   307511 non-null  object \n",
      " 4   FLAG_OWN_CAR                  307511 non-null  object \n",
      " 5   FLAG_OWN_REALTY               307511 non-null  object \n",
      " 6   CNT_CHILDREN                  307511 non-null  int64  \n",
      " 7   AMT_INCOME_TOTAL              307511 non-null  float64\n",
      " 8   AMT_CREDIT                    307511 non-null  float64\n",
      " 9   AMT_ANNUITY                   307511 non-null  float64\n",
      " 10  AMT_GOODS_PRICE               307511 non-null  float64\n",
      " 11  NAME_TYPE_SUITE               307511 non-null  object \n",
      " 12  NAME_INCOME_TYPE              307511 non-null  object \n",
      " 13  NAME_EDUCATION_TYPE           307511 non-null  object \n",
      " 14  NAME_FAMILY_STATUS            307511 non-null  object \n",
      " 15  NAME_HOUSING_TYPE             307511 non-null  object \n",
      " 16  REGION_POPULATION_RELATIVE    307511 non-null  float64\n",
      " 17  DAYS_BIRTH                    307511 non-null  int64  \n",
      " 18  DAYS_EMPLOYED                 307511 non-null  int64  \n",
      " 19  DAYS_REGISTRATION             307511 non-null  float64\n",
      " 20  DAYS_ID_PUBLISH               307511 non-null  int64  \n",
      " 21  FLAG_MOBIL                    307511 non-null  int64  \n",
      " 22  FLAG_EMAIL                    307511 non-null  int64  \n",
      " 23  OCCUPATION_TYPE               307511 non-null  object \n",
      " 24  REGION_RATING_CLIENT          307511 non-null  int64  \n",
      " 25  WEEKDAY_APPR_PROCESS_START    307511 non-null  object \n",
      " 26  HOUR_APPR_PROCESS_START       307511 non-null  int64  \n",
      " 27  REG_REGION_NOT_LIVE_REGION    307511 non-null  int64  \n",
      " 28  REG_REGION_NOT_WORK_REGION    307511 non-null  int64  \n",
      " 29  LIVE_REGION_NOT_WORK_REGION   307511 non-null  int64  \n",
      " 30  REG_CITY_NOT_LIVE_CITY        307511 non-null  int64  \n",
      " 31  REG_CITY_NOT_WORK_CITY        307511 non-null  int64  \n",
      " 32  LIVE_CITY_NOT_WORK_CITY       307511 non-null  int64  \n",
      " 33  ORGANIZATION_TYPE             307511 non-null  object \n",
      " 34  EXT_SOURCE_2                  307511 non-null  float64\n",
      " 35  EXT_SOURCE_3                  307511 non-null  float64\n",
      " 36  YEARS_BEGINEXPLUATATION_AVG   307511 non-null  float64\n",
      " 37  FLOORSMAX_AVG                 307511 non-null  float64\n",
      " 38  YEARS_BEGINEXPLUATATION_MODE  307511 non-null  float64\n",
      " 39  FLOORSMAX_MODE                307511 non-null  float64\n",
      " 40  YEARS_BEGINEXPLUATATION_MEDI  307511 non-null  float64\n",
      " 41  FLOORSMAX_MEDI                307511 non-null  float64\n",
      " 42  TOTALAREA_MODE                307511 non-null  float64\n",
      " 43  EMERGENCYSTATE_MODE           307511 non-null  object \n",
      " 44  OBS_30_CNT_SOCIAL_CIRCLE      307511 non-null  float64\n",
      " 45  DEF_30_CNT_SOCIAL_CIRCLE      307511 non-null  float64\n",
      " 46  OBS_60_CNT_SOCIAL_CIRCLE      307511 non-null  float64\n",
      " 47  DEF_60_CNT_SOCIAL_CIRCLE      307511 non-null  float64\n",
      " 48  DAYS_LAST_PHONE_CHANGE        307511 non-null  float64\n",
      " 49  AMT_REQ_CREDIT_BUREAU_HOUR    307511 non-null  float64\n",
      " 50  AMT_REQ_CREDIT_BUREAU_DAY     307511 non-null  float64\n",
      " 51  AMT_REQ_CREDIT_BUREAU_WEEK    307511 non-null  float64\n",
      " 52  AMT_REQ_CREDIT_BUREAU_MON     307511 non-null  float64\n",
      " 53  AMT_REQ_CREDIT_BUREAU_QRT     307511 non-null  float64\n",
      " 54  AMT_REQ_CREDIT_BUREAU_YEAR    307511 non-null  float64\n",
      "dtypes: float64(26), int64(16), object(13)\n",
      "memory usage: 131.4+ MB\n"
     ]
    }
   ],
   "source": [
    "data.info()"
   ]
  },
  {
   "cell_type": "markdown",
   "id": "933b42c8",
   "metadata": {},
   "source": [
    "Encoding categorical variables of the data"
   ]
  },
  {
   "cell_type": "code",
   "execution_count": 74,
   "id": "1442f840",
   "metadata": {},
   "outputs": [
    {
     "name": "stdout",
     "output_type": "stream",
     "text": [
      "Cash loans         278232\n",
      "Revolving loans     29279\n",
      "Name: NAME_CONTRACT_TYPE, dtype: int64\n",
      "F      202448\n",
      "M      105059\n",
      "XNA         4\n",
      "Name: CODE_GENDER, dtype: int64\n",
      "N    202924\n",
      "Y    104587\n",
      "Name: FLAG_OWN_CAR, dtype: int64\n",
      "Y    213312\n",
      "N     94199\n",
      "Name: FLAG_OWN_REALTY, dtype: int64\n",
      "Unaccompanied      249818\n",
      "Family              40149\n",
      "Spouse, partner     11370\n",
      "Children             3267\n",
      "Other_B              1770\n",
      "Other_A               866\n",
      "Group of people       271\n",
      "Name: NAME_TYPE_SUITE, dtype: int64\n",
      "Working                 158774\n",
      "Commercial associate     71617\n",
      "Pensioner                55362\n",
      "State servant            21703\n",
      "Unemployed                  22\n",
      "Student                     18\n",
      "Businessman                 10\n",
      "Maternity leave              5\n",
      "Name: NAME_INCOME_TYPE, dtype: int64\n",
      "Secondary / secondary special    218391\n",
      "Higher education                  74863\n",
      "Incomplete higher                 10277\n",
      "Lower secondary                    3816\n",
      "Academic degree                     164\n",
      "Name: NAME_EDUCATION_TYPE, dtype: int64\n",
      "Married                 196432\n",
      "Single / not married     45444\n",
      "Civil marriage           29775\n",
      "Separated                19770\n",
      "Widow                    16088\n",
      "Unknown                      2\n",
      "Name: NAME_FAMILY_STATUS, dtype: int64\n",
      "House / apartment      272868\n",
      "With parents            14840\n",
      "Municipal apartment     11183\n",
      "Rented apartment         4881\n",
      "Office apartment         2617\n",
      "Co-op apartment          1122\n",
      "Name: NAME_HOUSING_TYPE, dtype: int64\n",
      "Laborers                 151577\n",
      "Sales staff               32102\n",
      "Core staff                27570\n",
      "Managers                  21371\n",
      "Drivers                   18603\n",
      "High skill tech staff     11380\n",
      "Accountants                9813\n",
      "Medicine staff             8537\n",
      "Security staff             6721\n",
      "Cooking staff              5946\n",
      "Cleaning staff             4653\n",
      "Private service staff      2652\n",
      "Low-skill Laborers         2093\n",
      "Waiters/barmen staff       1348\n",
      "Secretaries                1305\n",
      "Realty agents               751\n",
      "HR staff                    563\n",
      "IT staff                    526\n",
      "Name: OCCUPATION_TYPE, dtype: int64\n",
      "TUESDAY      53901\n",
      "WEDNESDAY    51934\n",
      "MONDAY       50714\n",
      "THURSDAY     50591\n",
      "FRIDAY       50338\n",
      "SATURDAY     33852\n",
      "SUNDAY       16181\n",
      "Name: WEEKDAY_APPR_PROCESS_START, dtype: int64\n",
      "Business Entity Type 3    67992\n",
      "XNA                       55374\n",
      "Self-employed             38412\n",
      "Other                     16683\n",
      "Medicine                  11193\n",
      "Business Entity Type 2    10553\n",
      "Government                10404\n",
      "School                     8893\n",
      "Trade: type 7              7831\n",
      "Kindergarten               6880\n",
      "Construction               6721\n",
      "Business Entity Type 1     5984\n",
      "Transport: type 4          5398\n",
      "Trade: type 3              3492\n",
      "Industry: type 9           3368\n",
      "Industry: type 3           3278\n",
      "Security                   3247\n",
      "Housing                    2958\n",
      "Industry: type 11          2704\n",
      "Military                   2634\n",
      "Bank                       2507\n",
      "Agriculture                2454\n",
      "Police                     2341\n",
      "Transport: type 2          2204\n",
      "Postal                     2157\n",
      "Security Ministries        1974\n",
      "Trade: type 2              1900\n",
      "Restaurant                 1811\n",
      "Services                   1575\n",
      "University                 1327\n",
      "Industry: type 7           1307\n",
      "Transport: type 3          1187\n",
      "Industry: type 1           1039\n",
      "Hotel                       966\n",
      "Electricity                 950\n",
      "Industry: type 4            877\n",
      "Trade: type 6               631\n",
      "Industry: type 5            599\n",
      "Insurance                   597\n",
      "Telecom                     577\n",
      "Emergency                   560\n",
      "Industry: type 2            458\n",
      "Advertising                 429\n",
      "Realtor                     396\n",
      "Culture                     379\n",
      "Industry: type 12           369\n",
      "Trade: type 1               348\n",
      "Mobile                      317\n",
      "Legal Services              305\n",
      "Cleaning                    260\n",
      "Transport: type 1           201\n",
      "Industry: type 6            112\n",
      "Industry: type 10           109\n",
      "Religion                     85\n",
      "Industry: type 13            67\n",
      "Trade: type 4                64\n",
      "Trade: type 5                49\n",
      "Industry: type 8             24\n",
      "Name: ORGANIZATION_TYPE, dtype: int64\n",
      "No     305183\n",
      "Yes      2328\n",
      "Name: EMERGENCYSTATE_MODE, dtype: int64\n"
     ]
    }
   ],
   "source": [
    "#Checking the distribution of all categorical data to perform encoding\n",
    "print(data.NAME_CONTRACT_TYPE.value_counts())\n",
    "print(data.CODE_GENDER.value_counts())\n",
    "print(data.FLAG_OWN_CAR.value_counts())\n",
    "print(data.FLAG_OWN_REALTY.value_counts())\n",
    "print(data.NAME_TYPE_SUITE.value_counts())\n",
    "print(data.NAME_INCOME_TYPE.value_counts())\n",
    "print(data.NAME_EDUCATION_TYPE.value_counts())\n",
    "print(data.NAME_FAMILY_STATUS.value_counts())\n",
    "print(data.NAME_HOUSING_TYPE.value_counts())\n",
    "print(data.OCCUPATION_TYPE.value_counts())\n",
    "print(data.WEEKDAY_APPR_PROCESS_START.value_counts())\n",
    "print(data.ORGANIZATION_TYPE.value_counts())\n",
    "print(data.EMERGENCYSTATE_MODE.value_counts())"
   ]
  },
  {
   "cell_type": "markdown",
   "id": "6109adbb",
   "metadata": {},
   "source": [
    "Since in the CODE_GENDER column,  there are just 4 rows including 'XNA' values, we will replace them by the majority which is 'F'. "
   ]
  },
  {
   "cell_type": "code",
   "execution_count": 75,
   "id": "02bf2c9b",
   "metadata": {},
   "outputs": [],
   "source": [
    "data.loc[data['CODE_GENDER']=='XNA','CODE_GENDER']='F'"
   ]
  },
  {
   "cell_type": "markdown",
   "id": "7b7e532e",
   "metadata": {},
   "source": [
    "Since in the ORGANIZATION_TYPE column,  there are just rows including 'XNA' values, we will replace them by the Laborers OCCUPATION_TYPE category since as seen below, the typically fall in that category."
   ]
  },
  {
   "cell_type": "code",
   "execution_count": 76,
   "id": "aa38b299",
   "metadata": {},
   "outputs": [
    {
     "data": {
      "text/plain": [
       "8       Laborers\n",
       "11      Laborers\n",
       "23      Laborers\n",
       "38      Laborers\n",
       "43      Laborers\n",
       "46      Laborers\n",
       "54      Laborers\n",
       "56      Laborers\n",
       "62      Laborers\n",
       "79      Laborers\n",
       "81      Laborers\n",
       "84      Laborers\n",
       "99      Laborers\n",
       "105     Laborers\n",
       "106     Laborers\n",
       "108     Laborers\n",
       "117     Laborers\n",
       "118     Laborers\n",
       "125     Laborers\n",
       "140     Laborers\n",
       "143     Laborers\n",
       "156     Laborers\n",
       "157     Laborers\n",
       "158     Laborers\n",
       "173     Laborers\n",
       "174     Laborers\n",
       "175     Laborers\n",
       "185     Laborers\n",
       "213     Laborers\n",
       "220     Laborers\n",
       "222     Laborers\n",
       "226     Laborers\n",
       "227     Laborers\n",
       "233     Laborers\n",
       "237     Laborers\n",
       "239     Laborers\n",
       "240     Laborers\n",
       "247     Laborers\n",
       "252     Laborers\n",
       "263     Laborers\n",
       "270     Laborers\n",
       "283     Laborers\n",
       "287     Laborers\n",
       "290     Laborers\n",
       "302     Laborers\n",
       "304     Laborers\n",
       "305     Laborers\n",
       "306     Laborers\n",
       "318     Laborers\n",
       "322     Laborers\n",
       "324     Laborers\n",
       "342     Laborers\n",
       "344     Laborers\n",
       "347     Laborers\n",
       "348     Laborers\n",
       "349     Laborers\n",
       "352     Laborers\n",
       "359     Laborers\n",
       "364     Laborers\n",
       "380     Laborers\n",
       "382     Laborers\n",
       "383     Laborers\n",
       "385     Laborers\n",
       "395     Laborers\n",
       "400     Laborers\n",
       "404     Laborers\n",
       "420     Laborers\n",
       "421     Laborers\n",
       "436     Laborers\n",
       "442     Laborers\n",
       "445     Laborers\n",
       "447     Laborers\n",
       "448     Laborers\n",
       "449     Laborers\n",
       "451     Laborers\n",
       "473     Laborers\n",
       "476     Laborers\n",
       "482     Laborers\n",
       "486     Laborers\n",
       "490     Laborers\n",
       "495     Laborers\n",
       "498     Laborers\n",
       "500     Laborers\n",
       "505     Laborers\n",
       "509     Laborers\n",
       "526     Laborers\n",
       "527     Laborers\n",
       "539     Laborers\n",
       "556     Laborers\n",
       "557     Laborers\n",
       "566     Laborers\n",
       "570     Laborers\n",
       "581     Laborers\n",
       "583     Laborers\n",
       "586     Laborers\n",
       "589     Laborers\n",
       "602     Laborers\n",
       "608     Laborers\n",
       "610     Laborers\n",
       "613     Laborers\n",
       "614     Laborers\n",
       "617     Laborers\n",
       "618     Laborers\n",
       "624     Laborers\n",
       "631     Laborers\n",
       "646     Laborers\n",
       "650     Laborers\n",
       "652     Laborers\n",
       "668     Laborers\n",
       "678     Laborers\n",
       "679     Laborers\n",
       "686     Laborers\n",
       "691     Laborers\n",
       "706     Laborers\n",
       "707     Laborers\n",
       "710     Laborers\n",
       "715     Laborers\n",
       "718     Laborers\n",
       "733     Laborers\n",
       "737     Laborers\n",
       "744     Laborers\n",
       "750     Laborers\n",
       "754     Laborers\n",
       "766     Laborers\n",
       "773     Laborers\n",
       "777     Laborers\n",
       "778     Laborers\n",
       "784     Laborers\n",
       "788     Laborers\n",
       "795     Laborers\n",
       "802     Laborers\n",
       "805     Laborers\n",
       "818     Laborers\n",
       "820     Laborers\n",
       "823     Laborers\n",
       "828     Laborers\n",
       "830     Laborers\n",
       "835     Laborers\n",
       "852     Laborers\n",
       "855     Laborers\n",
       "859     Laborers\n",
       "876     Laborers\n",
       "886     Laborers\n",
       "889     Laborers\n",
       "898     Laborers\n",
       "900     Laborers\n",
       "903     Laborers\n",
       "905     Laborers\n",
       "945     Laborers\n",
       "955     Laborers\n",
       "967     Laborers\n",
       "972     Laborers\n",
       "975     Laborers\n",
       "976     Laborers\n",
       "979     Laborers\n",
       "990     Laborers\n",
       "995     Laborers\n",
       "997     Laborers\n",
       "1000    Laborers\n",
       "1007    Laborers\n",
       "1010    Laborers\n",
       "1016    Laborers\n",
       "1021    Laborers\n",
       "1026    Laborers\n",
       "1028    Laborers\n",
       "1039    Laborers\n",
       "1054    Laborers\n",
       "1064    Laborers\n",
       "1065    Laborers\n",
       "1072    Laborers\n",
       "1073    Laborers\n",
       "1076    Laborers\n",
       "1079    Laborers\n",
       "1086    Laborers\n",
       "1088    Laborers\n",
       "1091    Laborers\n",
       "1092    Laborers\n",
       "1093    Laborers\n",
       "1094    Laborers\n",
       "1095    Laborers\n",
       "1104    Laborers\n",
       "1119    Laborers\n",
       "1120    Laborers\n",
       "1126    Laborers\n",
       "1132    Laborers\n",
       "1134    Laborers\n",
       "1135    Laborers\n",
       "1139    Laborers\n",
       "1149    Laborers\n",
       "1152    Laborers\n",
       "1155    Laborers\n",
       "1156    Laborers\n",
       "1158    Laborers\n",
       "1160    Laborers\n",
       "1175    Laborers\n",
       "1183    Laborers\n",
       "1184    Laborers\n",
       "1189    Laborers\n",
       "1197    Laborers\n",
       "1198    Laborers\n",
       "1200    Laborers\n",
       "1201    Laborers\n",
       "1204    Laborers\n",
       "1211    Laborers\n",
       "1214    Laborers\n",
       "1215    Laborers\n",
       "1221    Laborers\n",
       "1231    Laborers\n",
       "1249    Laborers\n",
       "1252    Laborers\n",
       "1265    Laborers\n",
       "1269    Laborers\n",
       "1274    Laborers\n",
       "1279    Laborers\n",
       "1280    Laborers\n",
       "1282    Laborers\n",
       "1290    Laborers\n",
       "1296    Laborers\n",
       "1299    Laborers\n",
       "1300    Laborers\n",
       "1313    Laborers\n",
       "1333    Laborers\n",
       "1335    Laborers\n",
       "1338    Laborers\n",
       "1340    Laborers\n",
       "1341    Laborers\n",
       "1346    Laborers\n",
       "1347    Laborers\n",
       "1351    Laborers\n",
       "1354    Laborers\n",
       "1366    Laborers\n",
       "1369    Laborers\n",
       "1372    Laborers\n",
       "1373    Laborers\n",
       "1374    Laborers\n",
       "1379    Laborers\n",
       "1380    Laborers\n",
       "1382    Laborers\n",
       "1396    Laborers\n",
       "1397    Laborers\n",
       "1406    Laborers\n",
       "1412    Laborers\n",
       "1415    Laborers\n",
       "1422    Laborers\n",
       "1435    Laborers\n",
       "1436    Laborers\n",
       "1439    Laborers\n",
       "1440    Laborers\n",
       "1451    Laborers\n",
       "1452    Laborers\n",
       "1462    Laborers\n",
       "1474    Laborers\n",
       "1483    Laborers\n",
       "1485    Laborers\n",
       "1488    Laborers\n",
       "1489    Laborers\n",
       "1490    Laborers\n",
       "1502    Laborers\n",
       "1503    Laborers\n",
       "1507    Laborers\n",
       "1522    Laborers\n",
       "1532    Laborers\n",
       "1542    Laborers\n",
       "1545    Laborers\n",
       "1546    Laborers\n",
       "1562    Laborers\n",
       "1564    Laborers\n",
       "1571    Laborers\n",
       "1573    Laborers\n",
       "1574    Laborers\n",
       "1578    Laborers\n",
       "1581    Laborers\n",
       "1582    Laborers\n",
       "1584    Laborers\n",
       "1595    Laborers\n",
       "1599    Laborers\n",
       "1603    Laborers\n",
       "1612    Laborers\n",
       "1615    Laborers\n",
       "1616    Laborers\n",
       "1617    Laborers\n",
       "1618    Laborers\n",
       "1622    Laborers\n",
       "1632    Laborers\n",
       "1633    Laborers\n",
       "1634    Laborers\n",
       "1639    Laborers\n",
       "1640    Laborers\n",
       "1641    Laborers\n",
       "1647    Laborers\n",
       "1655    Laborers\n",
       "1657    Laborers\n",
       "1658    Laborers\n",
       "1665    Laborers\n",
       "1668    Laborers\n",
       "1676    Laborers\n",
       "1680    Laborers\n",
       "1686    Laborers\n",
       "1688    Laborers\n",
       "1700    Laborers\n",
       "Name: OCCUPATION_TYPE, dtype: object"
      ]
     },
     "execution_count": 76,
     "metadata": {},
     "output_type": "execute_result"
    }
   ],
   "source": [
    "data[data['ORGANIZATION_TYPE']=='XNA']['OCCUPATION_TYPE'].head(300)"
   ]
  },
  {
   "cell_type": "code",
   "execution_count": 77,
   "id": "d653d538",
   "metadata": {},
   "outputs": [],
   "source": [
    "data['ORGANIZATION_TYPE'] = data['ORGANIZATION_TYPE'].replace('XNA','Laborers')"
   ]
  },
  {
   "cell_type": "markdown",
   "id": "4f4ded34",
   "metadata": {},
   "source": [
    "## 4. Data Visiualization"
   ]
  },
  {
   "cell_type": "code",
   "execution_count": 78,
   "id": "03c0d249",
   "metadata": {},
   "outputs": [],
   "source": [
    "features_object = ['NAME_CONTRACT_TYPE', 'CODE_GENDER', 'FLAG_OWN_CAR', 'FLAG_OWN_REALTY', 'NAME_TYPE_SUITE', 'NAME_INCOME_TYPE', 'NAME_EDUCATION_TYPE', 'NAME_FAMILY_STATUS', 'NAME_HOUSING_TYPE', 'OCCUPATION_TYPE', 'WEEKDAY_APPR_PROCESS_START', 'ORGANIZATION_TYPE', 'EMERGENCYSTATE_MODE']"
   ]
  },
  {
   "cell_type": "code",
   "execution_count": 79,
   "id": "f74980c7",
   "metadata": {},
   "outputs": [
    {
     "data": {
      "text/plain": [
       "[(0, 'NAME_CONTRACT_TYPE'),\n",
       " (1, 'CODE_GENDER'),\n",
       " (2, 'FLAG_OWN_CAR'),\n",
       " (3, 'FLAG_OWN_REALTY'),\n",
       " (4, 'NAME_TYPE_SUITE'),\n",
       " (5, 'NAME_INCOME_TYPE'),\n",
       " (6, 'NAME_EDUCATION_TYPE'),\n",
       " (7, 'NAME_FAMILY_STATUS'),\n",
       " (8, 'NAME_HOUSING_TYPE'),\n",
       " (9, 'OCCUPATION_TYPE'),\n",
       " (10, 'WEEKDAY_APPR_PROCESS_START'),\n",
       " (11, 'ORGANIZATION_TYPE'),\n",
       " (12, 'EMERGENCYSTATE_MODE')]"
      ]
     },
     "execution_count": 79,
     "metadata": {},
     "output_type": "execute_result"
    }
   ],
   "source": [
    "list(enumerate(features_object))"
   ]
  },
  {
   "cell_type": "code",
   "execution_count": 80,
   "id": "e5663ff1",
   "metadata": {},
   "outputs": [
    {
     "data": {
      "image/png": "[encoded data removed]",
      "text/plain": [
       "<Figure size 720x2880 with 13 Axes>"
      ]
     },
     "metadata": {
      "needs_background": "light"
     },
     "output_type": "display_data"
    }
   ],
   "source": [
    "plt.figure(figsize =(10,40))\n",
    "for i in enumerate(features_object):\n",
    "    plt.subplot(9, 2, i[0]+1)\n",
    "    sb.countplot(x=i[1], hue ='TARGET', data=data)\n",
    "    plt.xticks(rotation =45)"
   ]
  },
  {
   "cell_type": "markdown",
   "id": "28e2a388",
   "metadata": {},
   "source": [
    "We can conclude that there is little to know association between TARGET and the variables CODE_GENDER, WEEKDAY_APPR_PROCESS_START. So we are not going to use those variables as predictors. those two variables "
   ]
  },
  {
   "cell_type": "code",
   "execution_count": 81,
   "id": "8debd630",
   "metadata": {},
   "outputs": [
    {
     "data": {
      "image/png": "[encoded data removed]",
      "text/plain": [
       "<Figure size 1080x2160 with 1 Axes>"
      ]
     },
     "metadata": {
      "needs_background": "light"
     },
     "output_type": "display_data"
    }
   ],
   "source": [
    "#Checking correlations between Education and Loan_Status variables\n",
    "plt.figure(figsize =(15,30))\n",
    "sb.countplot(x ='ORGANIZATION_TYPE', hue ='TARGET', data=data)\n",
    "plt.xticks(rotation =90)\n",
    "plt.show()"
   ]
  },
  {
   "cell_type": "code",
   "execution_count": 82,
   "id": "e1ee6a2a",
   "metadata": {},
   "outputs": [
    {
     "name": "stdout",
     "output_type": "stream",
     "text": [
      "        SK_ID_CURR  TARGET  CNT_CHILDREN  AMT_INCOME_TOTAL  AMT_CREDIT  AMT_ANNUITY  AMT_GOODS_PRICE  REGION_POPULATION_RELATIVE  DAYS_BIRTH  DAYS_EMPLOYED  ...  ORGANIZATION_TYPE_Trade: type 5  ORGANIZATION_TYPE_Trade: type 6  ORGANIZATION_TYPE_Trade: type 7  ORGANIZATION_TYPE_Transport: type 1  ORGANIZATION_TYPE_Transport: type 2  ORGANIZATION_TYPE_Transport: type 3  ORGANIZATION_TYPE_Transport: type 4  ORGANIZATION_TYPE_University  EMERGENCYSTATE_MODE_No  EMERGENCYSTATE_MODE_Yes\n",
      "0           100002       1             0          202500.0    406597.5      24700.5         351000.0                    0.018801       -9461           -637  ...                                0                                0                                0                                    0                                    0                                    0                                    0                             0                       1                        0\n",
      "1           100003       0             0          270000.0   1293502.5      35698.5        1129500.0                    0.003541      -16765          -1188  ...                                0                                0                                0                                    0                                    0                                    0                                    0                             0                       1                        0\n",
      "2           100004       0             0           67500.0    135000.0       6750.0         135000.0                    0.010032      -19046           -225  ...                                0                                0                                0                                    0                                    0                                    0                                    0                             0                       1                        0\n",
      "3           100006       0             0          135000.0    312682.5      29686.5         297000.0                    0.008019      -19005          -3039  ...                                0                                0                                0                                    0                                    0                                    0                                    0                             0                       1                        0\n",
      "4           100007       0             0          121500.0    513000.0      21865.5         513000.0                    0.028663      -19932          -3038  ...                                0                                0                                0                                    0                                    0                                    0                                    0                             0                       1                        0\n",
      "...            ...     ...           ...               ...         ...          ...              ...                         ...         ...            ...  ...                              ...                              ...                              ...                                  ...                                  ...                                  ...                                  ...                           ...                     ...                      ...\n",
      "307506      456251       0             0          157500.0    254700.0      27558.0         225000.0                    0.032561       -9327           -236  ...                                0                                0                                0                                    0                                    0                                    0                                    0                             0                       1                        0\n",
      "307507      456252       0             0           72000.0    269550.0      12001.5         225000.0                    0.025164      -20775         365243  ...                                0                                0                                0                                    0                                    0                                    0                                    0                             0                       1                        0\n",
      "307508      456253       0             0          153000.0    677664.0      29979.0         585000.0                    0.005002      -14966          -7921  ...                                0                                0                                0                                    0                                    0                                    0                                    0                             0                       1                        0\n",
      "307509      456254       1             0          171000.0    370107.0      20205.0         319500.0                    0.005313      -11961          -4786  ...                                0                                0                                0                                    0                                    0                                    0                                    0                             0                       1                        0\n",
      "307510      456255       0             0          157500.0    675000.0      49117.5         675000.0                    0.046220      -16856          -1262  ...                                0                                0                                0                                    0                                    0                                    0                                    0                             0                       1                        0\n",
      "\n",
      "[307511 rows x 167 columns]\n"
     ]
    }
   ],
   "source": [
    "Z = pd.get_dummies(data)\n",
    "print(Z)"
   ]
  },
  {
   "cell_type": "code",
   "execution_count": null,
   "id": "55aac50b",
   "metadata": {},
   "outputs": [],
   "source": []
  },
  {
   "cell_type": "code",
   "execution_count": null,
   "id": "3fc983cd",
   "metadata": {},
   "outputs": [],
   "source": []
  },
  {
   "cell_type": "code",
   "execution_count": null,
   "id": "1879bf87",
   "metadata": {},
   "outputs": [],
   "source": []
  },
  {
   "cell_type": "code",
   "execution_count": null,
   "id": "e5c0650b",
   "metadata": {},
   "outputs": [],
   "source": []
  },
  {
   "cell_type": "markdown",
   "id": "9a9cdf03",
   "metadata": {},
   "source": [
    "## 5. Visualization of the data"
   ]
  },
  {
   "cell_type": "markdown",
   "id": "358a23f8",
   "metadata": {},
   "source": [
    "#### 5.1 Univariate Plots"
   ]
  },
  {
   "cell_type": "markdown",
   "id": "f776bea4",
   "metadata": {},
   "source": [
    "###### Histograms of the Quantitative Variables"
   ]
  },
  {
   "cell_type": "markdown",
   "id": "d9a059bf",
   "metadata": {},
   "source": [
    "#### 5.2 Multivariate Plots"
   ]
  },
  {
   "cell_type": "markdown",
   "id": "a37eda80",
   "metadata": {},
   "source": [
    "##### Side-by-Side Bar Graphs, Correlation Matrix plot and HeatMap"
   ]
  },
  {
   "cell_type": "code",
   "execution_count": 83,
   "id": "43f8bbd2",
   "metadata": {},
   "outputs": [],
   "source": [
    "#Encoding the categorical variables\n",
    "#Convert test to numerical values\n",
    "data.replace({'NAME_CONTRACT_TYPE':{'Cash loans':0,'Revolving loans':1}},inplace=True)\n",
    "data.replace({'CODE_GENDER':{'F':0,'M':1}},inplace=True)\n",
    "data.replace({'FLAG_OWN_CAR':{'N':0,'Y':1}}, inplace=True)\n",
    "data.replace({'FLAG_OWN_REALTY':{'Y':0,'Diesel':1}},inplace=True)\n",
    "data.replace({'NAME_TYPE_SUITE':{'Unaccompanied':0,'Family':1,'Spouse, partner':2,'Children':3,'Other_B':4,'Other_A':5,'Group of people':6}},inplace=True)\n",
    "data.replace({'NAME_INCOME_TYPE':{'Working':0,'Commercial associate':1,'Pensioner':2,'State servant':3,'Unemployed':4,'Student':5,'Businessman':6,'Maternity leave':7}},inplace=True)"
   ]
  },
  {
   "cell_type": "code",
   "execution_count": 84,
   "id": "b94e3885",
   "metadata": {},
   "outputs": [
    {
     "data": {
      "image/png": "[encoded data removed]",
      "text/plain": [
       "<Figure size 2160x2160 with 2 Axes>"
      ]
     },
     "metadata": {
      "needs_background": "light"
     },
     "output_type": "display_data"
    }
   ],
   "source": [
    "plt.figure(figsize=(30,30))\n",
    "corr = data.corr()\n",
    "ax = sb.heatmap(\n",
    "    corr, \n",
    "    vmin=-1, vmax=1, center=0,\n",
    "    cmap=sb.diverging_palette(20, 220, n=200),\n",
    "    square=True\n",
    ")\n",
    "ax.set_xticklabels(\n",
    "    ax.get_xticklabels(),\n",
    "    rotation=45,\n",
    "    horizontalalignment='right'\n",
    ");\n"
   ]
  },
  {
   "cell_type": "code",
   "execution_count": 85,
   "id": "04a204e8",
   "metadata": {},
   "outputs": [
    {
     "data": {
      "text/plain": [
       "SK_ID_CURR                  SK_ID_CURR                    1.000000\n",
       "REG_CITY_NOT_LIVE_CITY      REG_CITY_NOT_LIVE_CITY        1.000000\n",
       "REG_REGION_NOT_LIVE_REGION  REG_REGION_NOT_LIVE_REGION    1.000000\n",
       "HOUR_APPR_PROCESS_START     HOUR_APPR_PROCESS_START       1.000000\n",
       "REGION_RATING_CLIENT        REGION_RATING_CLIENT          1.000000\n",
       "                                                            ...   \n",
       "SK_ID_CURR                  LIVE_CITY_NOT_WORK_CITY       0.000067\n",
       "EXT_SOURCE_2                FLAG_MOBIL                    0.000000\n",
       "FLAG_MOBIL                  EXT_SOURCE_3                  0.000000\n",
       "EXT_SOURCE_3                FLAG_MOBIL                    0.000000\n",
       "FLAG_MOBIL                  EXT_SOURCE_2                  0.000000\n",
       "Length: 2209, dtype: float64"
      ]
     },
     "execution_count": 85,
     "metadata": {},
     "output_type": "execute_result"
    }
   ],
   "source": [
    "c1 = round(corr.abs().unstack(),8)\n",
    "c1.sort_values(ascending = False)"
   ]
  },
  {
   "cell_type": "code",
   "execution_count": 86,
   "id": "b7bc0c69",
   "metadata": {},
   "outputs": [
    {
     "data": {
      "text/html": [
       "<div>\n",
       "<style scoped>\n",
       "    .dataframe tbody tr th:only-of-type {\n",
       "        vertical-align: middle;\n",
       "    }\n",
       "\n",
       "    .dataframe tbody tr th {\n",
       "        vertical-align: top;\n",
       "    }\n",
       "\n",
       "    .dataframe thead th {\n",
       "        text-align: right;\n",
       "    }\n",
       "</style>\n",
       "<table border=\"1\" class=\"dataframe\">\n",
       "  <thead>\n",
       "    <tr style=\"text-align: right;\">\n",
       "      <th></th>\n",
       "      <th>SK_ID_CURR</th>\n",
       "      <th>TARGET</th>\n",
       "      <th>NAME_CONTRACT_TYPE</th>\n",
       "      <th>CODE_GENDER</th>\n",
       "      <th>FLAG_OWN_CAR</th>\n",
       "      <th>CNT_CHILDREN</th>\n",
       "      <th>AMT_INCOME_TOTAL</th>\n",
       "      <th>AMT_CREDIT</th>\n",
       "      <th>AMT_ANNUITY</th>\n",
       "      <th>AMT_GOODS_PRICE</th>\n",
       "      <th>...</th>\n",
       "      <th>DEF_30_CNT_SOCIAL_CIRCLE</th>\n",
       "      <th>OBS_60_CNT_SOCIAL_CIRCLE</th>\n",
       "      <th>DEF_60_CNT_SOCIAL_CIRCLE</th>\n",
       "      <th>DAYS_LAST_PHONE_CHANGE</th>\n",
       "      <th>AMT_REQ_CREDIT_BUREAU_HOUR</th>\n",
       "      <th>AMT_REQ_CREDIT_BUREAU_DAY</th>\n",
       "      <th>AMT_REQ_CREDIT_BUREAU_WEEK</th>\n",
       "      <th>AMT_REQ_CREDIT_BUREAU_MON</th>\n",
       "      <th>AMT_REQ_CREDIT_BUREAU_QRT</th>\n",
       "      <th>AMT_REQ_CREDIT_BUREAU_YEAR</th>\n",
       "    </tr>\n",
       "  </thead>\n",
       "  <tbody>\n",
       "    <tr>\n",
       "      <th>SK_ID_CURR</th>\n",
       "      <td>1.00e+00</td>\n",
       "      <td>-2.11e-03</td>\n",
       "      <td>1.65e-03</td>\n",
       "      <td>-7.28e-04</td>\n",
       "      <td>1.22e-03</td>\n",
       "      <td>-1.13e-03</td>\n",
       "      <td>-1.82e-03</td>\n",
       "      <td>-3.43e-04</td>\n",
       "      <td>-4.31e-04</td>\n",
       "      <td>-2.58e-04</td>\n",
       "      <td>...</td>\n",
       "      <td>-8.54e-05</td>\n",
       "      <td>-1.43e-03</td>\n",
       "      <td>1.18e-03</td>\n",
       "      <td>-8.59e-04</td>\n",
       "      <td>-2.52e-03</td>\n",
       "      <td>-2.07e-03</td>\n",
       "      <td>1.88e-03</td>\n",
       "      <td>3.28e-04</td>\n",
       "      <td>8.09e-04</td>\n",
       "      <td>4.07e-03</td>\n",
       "    </tr>\n",
       "    <tr>\n",
       "      <th>TARGET</th>\n",
       "      <td>-2.11e-03</td>\n",
       "      <td>1.00e+00</td>\n",
       "      <td>-3.09e-02</td>\n",
       "      <td>5.47e-02</td>\n",
       "      <td>-2.19e-02</td>\n",
       "      <td>1.92e-02</td>\n",
       "      <td>-3.98e-03</td>\n",
       "      <td>-3.04e-02</td>\n",
       "      <td>-1.28e-02</td>\n",
       "      <td>-3.96e-02</td>\n",
       "      <td>...</td>\n",
       "      <td>3.24e-02</td>\n",
       "      <td>9.34e-03</td>\n",
       "      <td>3.14e-02</td>\n",
       "      <td>5.52e-02</td>\n",
       "      <td>-7.36e-05</td>\n",
       "      <td>1.70e-03</td>\n",
       "      <td>-1.31e-03</td>\n",
       "      <td>-1.48e-02</td>\n",
       "      <td>-5.83e-03</td>\n",
       "      <td>1.22e-02</td>\n",
       "    </tr>\n",
       "    <tr>\n",
       "      <th>NAME_CONTRACT_TYPE</th>\n",
       "      <td>1.65e-03</td>\n",
       "      <td>-3.09e-02</td>\n",
       "      <td>1.00e+00</td>\n",
       "      <td>-8.78e-03</td>\n",
       "      <td>4.02e-03</td>\n",
       "      <td>3.00e-02</td>\n",
       "      <td>-3.53e-03</td>\n",
       "      <td>-2.22e-01</td>\n",
       "      <td>-2.42e-01</td>\n",
       "      <td>-1.86e-01</td>\n",
       "      <td>...</td>\n",
       "      <td>-1.18e-02</td>\n",
       "      <td>-2.49e-02</td>\n",
       "      <td>-9.27e-03</td>\n",
       "      <td>6.18e-02</td>\n",
       "      <td>1.21e-04</td>\n",
       "      <td>-4.98e-03</td>\n",
       "      <td>-1.48e-02</td>\n",
       "      <td>-1.43e-02</td>\n",
       "      <td>-2.14e-02</td>\n",
       "      <td>-4.96e-02</td>\n",
       "    </tr>\n",
       "    <tr>\n",
       "      <th>CODE_GENDER</th>\n",
       "      <td>-7.28e-04</td>\n",
       "      <td>5.47e-02</td>\n",
       "      <td>-8.78e-03</td>\n",
       "      <td>1.00e+00</td>\n",
       "      <td>3.46e-01</td>\n",
       "      <td>4.74e-02</td>\n",
       "      <td>7.47e-02</td>\n",
       "      <td>2.16e-02</td>\n",
       "      <td>7.70e-02</td>\n",
       "      <td>2.25e-02</td>\n",
       "      <td>...</td>\n",
       "      <td>-1.80e-02</td>\n",
       "      <td>-7.24e-03</td>\n",
       "      <td>-1.48e-02</td>\n",
       "      <td>2.53e-02</td>\n",
       "      <td>2.30e-03</td>\n",
       "      <td>5.23e-04</td>\n",
       "      <td>-2.86e-03</td>\n",
       "      <td>5.77e-03</td>\n",
       "      <td>-9.68e-03</td>\n",
       "      <td>-2.07e-02</td>\n",
       "    </tr>\n",
       "    <tr>\n",
       "      <th>FLAG_OWN_CAR</th>\n",
       "      <td>1.22e-03</td>\n",
       "      <td>-2.19e-02</td>\n",
       "      <td>4.02e-03</td>\n",
       "      <td>3.46e-01</td>\n",
       "      <td>1.00e+00</td>\n",
       "      <td>1.02e-01</td>\n",
       "      <td>8.34e-02</td>\n",
       "      <td>1.16e-01</td>\n",
       "      <td>1.42e-01</td>\n",
       "      <td>1.20e-01</td>\n",
       "      <td>...</td>\n",
       "      <td>-1.52e-02</td>\n",
       "      <td>3.13e-03</td>\n",
       "      <td>-1.55e-02</td>\n",
       "      <td>-3.91e-02</td>\n",
       "      <td>3.68e-03</td>\n",
       "      <td>1.51e-03</td>\n",
       "      <td>2.82e-03</td>\n",
       "      <td>2.35e-02</td>\n",
       "      <td>-4.08e-03</td>\n",
       "      <td>-2.61e-02</td>\n",
       "    </tr>\n",
       "    <tr>\n",
       "      <th>CNT_CHILDREN</th>\n",
       "      <td>-1.13e-03</td>\n",
       "      <td>1.92e-02</td>\n",
       "      <td>3.00e-02</td>\n",
       "      <td>4.74e-02</td>\n",
       "      <td>1.02e-01</td>\n",
       "      <td>1.00e+00</td>\n",
       "      <td>1.29e-02</td>\n",
       "      <td>2.15e-03</td>\n",
       "      <td>2.14e-02</td>\n",
       "      <td>-1.86e-03</td>\n",
       "      <td>...</td>\n",
       "      <td>-1.20e-03</td>\n",
       "      <td>1.53e-02</td>\n",
       "      <td>-1.81e-03</td>\n",
       "      <td>-5.87e-03</td>\n",
       "      <td>1.59e-04</td>\n",
       "      <td>1.07e-04</td>\n",
       "      <td>-1.08e-03</td>\n",
       "      <td>-7.98e-03</td>\n",
       "      <td>-4.91e-03</td>\n",
       "      <td>-3.49e-02</td>\n",
       "    </tr>\n",
       "    <tr>\n",
       "      <th>AMT_INCOME_TOTAL</th>\n",
       "      <td>-1.82e-03</td>\n",
       "      <td>-3.98e-03</td>\n",
       "      <td>-3.53e-03</td>\n",
       "      <td>7.47e-02</td>\n",
       "      <td>8.34e-02</td>\n",
       "      <td>1.29e-02</td>\n",
       "      <td>1.00e+00</td>\n",
       "      <td>1.57e-01</td>\n",
       "      <td>1.92e-01</td>\n",
       "      <td>1.60e-01</td>\n",
       "      <td>...</td>\n",
       "      <td>-1.35e-02</td>\n",
       "      <td>-1.34e-02</td>\n",
       "      <td>-1.33e-02</td>\n",
       "      <td>-1.86e-02</td>\n",
       "      <td>1.43e-03</td>\n",
       "      <td>3.48e-03</td>\n",
       "      <td>3.95e-03</td>\n",
       "      <td>2.67e-02</td>\n",
       "      <td>7.92e-03</td>\n",
       "      <td>1.58e-02</td>\n",
       "    </tr>\n",
       "    <tr>\n",
       "      <th>AMT_CREDIT</th>\n",
       "      <td>-3.43e-04</td>\n",
       "      <td>-3.04e-02</td>\n",
       "      <td>-2.22e-01</td>\n",
       "      <td>2.16e-02</td>\n",
       "      <td>1.16e-01</td>\n",
       "      <td>2.15e-03</td>\n",
       "      <td>1.57e-01</td>\n",
       "      <td>1.00e+00</td>\n",
       "      <td>7.70e-01</td>\n",
       "      <td>9.87e-01</td>\n",
       "      <td>...</td>\n",
       "      <td>-2.08e-02</td>\n",
       "      <td>9.42e-04</td>\n",
       "      <td>-2.34e-02</td>\n",
       "      <td>-7.37e-02</td>\n",
       "      <td>-2.37e-03</td>\n",
       "      <td>5.03e-03</td>\n",
       "      <td>1.63e-03</td>\n",
       "      <td>5.55e-02</td>\n",
       "      <td>2.04e-02</td>\n",
       "      <td>-3.66e-02</td>\n",
       "    </tr>\n",
       "    <tr>\n",
       "      <th>AMT_ANNUITY</th>\n",
       "      <td>-4.31e-04</td>\n",
       "      <td>-1.28e-02</td>\n",
       "      <td>-2.42e-01</td>\n",
       "      <td>7.70e-02</td>\n",
       "      <td>1.42e-01</td>\n",
       "      <td>2.14e-02</td>\n",
       "      <td>1.92e-01</td>\n",
       "      <td>7.70e-01</td>\n",
       "      <td>1.00e+00</td>\n",
       "      <td>7.75e-01</td>\n",
       "      <td>...</td>\n",
       "      <td>-2.24e-02</td>\n",
       "      <td>-1.11e-02</td>\n",
       "      <td>-2.37e-02</td>\n",
       "      <td>-6.37e-02</td>\n",
       "      <td>3.89e-03</td>\n",
       "      <td>2.29e-03</td>\n",
       "      <td>1.35e-02</td>\n",
       "      <td>3.72e-02</td>\n",
       "      <td>1.07e-02</td>\n",
       "      <td>-8.29e-03</td>\n",
       "    </tr>\n",
       "    <tr>\n",
       "      <th>AMT_GOODS_PRICE</th>\n",
       "      <td>-2.58e-04</td>\n",
       "      <td>-3.96e-02</td>\n",
       "      <td>-1.86e-01</td>\n",
       "      <td>2.25e-02</td>\n",
       "      <td>1.20e-01</td>\n",
       "      <td>-1.86e-03</td>\n",
       "      <td>1.60e-01</td>\n",
       "      <td>9.87e-01</td>\n",
       "      <td>7.75e-01</td>\n",
       "      <td>1.00e+00</td>\n",
       "      <td>...</td>\n",
       "      <td>-2.19e-02</td>\n",
       "      <td>8.06e-04</td>\n",
       "      <td>-2.42e-02</td>\n",
       "      <td>-7.63e-02</td>\n",
       "      <td>-1.74e-03</td>\n",
       "      <td>5.44e-03</td>\n",
       "      <td>1.88e-03</td>\n",
       "      <td>5.73e-02</td>\n",
       "      <td>2.08e-02</td>\n",
       "      <td>-3.90e-02</td>\n",
       "    </tr>\n",
       "    <tr>\n",
       "      <th>NAME_TYPE_SUITE</th>\n",
       "      <td>4.19e-04</td>\n",
       "      <td>-3.15e-03</td>\n",
       "      <td>-8.48e-03</td>\n",
       "      <td>-5.74e-03</td>\n",
       "      <td>3.95e-03</td>\n",
       "      <td>2.71e-02</td>\n",
       "      <td>-1.69e-02</td>\n",
       "      <td>1.53e-02</td>\n",
       "      <td>1.31e-02</td>\n",
       "      <td>1.26e-02</td>\n",
       "      <td>...</td>\n",
       "      <td>1.24e-02</td>\n",
       "      <td>3.52e-02</td>\n",
       "      <td>9.90e-03</td>\n",
       "      <td>2.60e-02</td>\n",
       "      <td>-4.33e-03</td>\n",
       "      <td>-4.24e-03</td>\n",
       "      <td>-5.67e-03</td>\n",
       "      <td>-1.32e-02</td>\n",
       "      <td>-9.16e-03</td>\n",
       "      <td>-2.63e-02</td>\n",
       "    </tr>\n",
       "    <tr>\n",
       "      <th>NAME_INCOME_TYPE</th>\n",
       "      <td>2.86e-03</td>\n",
       "      <td>-6.00e-02</td>\n",
       "      <td>-3.60e-02</td>\n",
       "      <td>-1.39e-01</td>\n",
       "      <td>-9.47e-02</td>\n",
       "      <td>-1.40e-01</td>\n",
       "      <td>-5.72e-03</td>\n",
       "      <td>2.90e-02</td>\n",
       "      <td>-2.57e-04</td>\n",
       "      <td>3.00e-02</td>\n",
       "      <td>...</td>\n",
       "      <td>-8.53e-04</td>\n",
       "      <td>-6.12e-03</td>\n",
       "      <td>-2.43e-03</td>\n",
       "      <td>-1.00e-02</td>\n",
       "      <td>4.81e-03</td>\n",
       "      <td>5.75e-03</td>\n",
       "      <td>4.60e-03</td>\n",
       "      <td>3.03e-04</td>\n",
       "      <td>5.51e-03</td>\n",
       "      <td>1.50e-02</td>\n",
       "    </tr>\n",
       "    <tr>\n",
       "      <th>REGION_POPULATION_RELATIVE</th>\n",
       "      <td>8.49e-04</td>\n",
       "      <td>-3.72e-02</td>\n",
       "      <td>2.69e-02</td>\n",
       "      <td>1.40e-02</td>\n",
       "      <td>4.13e-02</td>\n",
       "      <td>-2.56e-02</td>\n",
       "      <td>7.48e-02</td>\n",
       "      <td>9.97e-02</td>\n",
       "      <td>1.18e-01</td>\n",
       "      <td>1.04e-01</td>\n",
       "      <td>...</td>\n",
       "      <td>5.82e-03</td>\n",
       "      <td>-1.15e-02</td>\n",
       "      <td>1.97e-03</td>\n",
       "      <td>-4.40e-02</td>\n",
       "      <td>-2.22e-03</td>\n",
       "      <td>1.16e-03</td>\n",
       "      <td>-2.34e-03</td>\n",
       "      <td>7.16e-02</td>\n",
       "      <td>-1.87e-03</td>\n",
       "      <td>-8.53e-05</td>\n",
       "    </tr>\n",
       "    <tr>\n",
       "      <th>DAYS_BIRTH</th>\n",
       "      <td>-1.50e-03</td>\n",
       "      <td>7.82e-02</td>\n",
       "      <td>8.64e-02</td>\n",
       "      <td>1.48e-01</td>\n",
       "      <td>1.30e-01</td>\n",
       "      <td>3.31e-01</td>\n",
       "      <td>2.73e-02</td>\n",
       "      <td>-5.54e-02</td>\n",
       "      <td>9.44e-03</td>\n",
       "      <td>-5.35e-02</td>\n",
       "      <td>...</td>\n",
       "      <td>1.36e-04</td>\n",
       "      <td>6.88e-03</td>\n",
       "      <td>1.86e-03</td>\n",
       "      <td>8.29e-02</td>\n",
       "      <td>3.58e-03</td>\n",
       "      <td>1.02e-03</td>\n",
       "      <td>-4.01e-03</td>\n",
       "      <td>-3.58e-03</td>\n",
       "      <td>-1.63e-02</td>\n",
       "      <td>-7.30e-02</td>\n",
       "    </tr>\n",
       "    <tr>\n",
       "      <th>DAYS_EMPLOYED</th>\n",
       "      <td>1.37e-03</td>\n",
       "      <td>-4.49e-02</td>\n",
       "      <td>-5.45e-02</td>\n",
       "      <td>-1.56e-01</td>\n",
       "      <td>-1.54e-01</td>\n",
       "      <td>-2.40e-01</td>\n",
       "      <td>-6.42e-02</td>\n",
       "      <td>-6.68e-02</td>\n",
       "      <td>-1.04e-01</td>\n",
       "      <td>-6.48e-02</td>\n",
       "      <td>...</td>\n",
       "      <td>1.67e-02</td>\n",
       "      <td>5.93e-03</td>\n",
       "      <td>1.42e-02</td>\n",
       "      <td>2.30e-02</td>\n",
       "      <td>-4.55e-03</td>\n",
       "      <td>3.09e-04</td>\n",
       "      <td>2.50e-03</td>\n",
       "      <td>-3.24e-02</td>\n",
       "      <td>1.35e-02</td>\n",
       "      <td>4.47e-02</td>\n",
       "    </tr>\n",
       "    <tr>\n",
       "      <th>DAYS_REGISTRATION</th>\n",
       "      <td>-9.73e-04</td>\n",
       "      <td>4.20e-02</td>\n",
       "      <td>2.06e-02</td>\n",
       "      <td>7.72e-02</td>\n",
       "      <td>8.78e-02</td>\n",
       "      <td>1.83e-01</td>\n",
       "      <td>2.78e-02</td>\n",
       "      <td>9.62e-03</td>\n",
       "      <td>3.85e-02</td>\n",
       "      <td>1.15e-02</td>\n",
       "      <td>...</td>\n",
       "      <td>3.36e-03</td>\n",
       "      <td>9.08e-03</td>\n",
       "      <td>4.54e-03</td>\n",
       "      <td>5.70e-02</td>\n",
       "      <td>-2.69e-03</td>\n",
       "      <td>-4.98e-04</td>\n",
       "      <td>-1.06e-03</td>\n",
       "      <td>-1.06e-02</td>\n",
       "      <td>-1.34e-03</td>\n",
       "      <td>-2.29e-02</td>\n",
       "    </tr>\n",
       "    <tr>\n",
       "      <th>DAYS_ID_PUBLISH</th>\n",
       "      <td>-3.84e-04</td>\n",
       "      <td>5.15e-02</td>\n",
       "      <td>5.28e-02</td>\n",
       "      <td>1.32e-04</td>\n",
       "      <td>1.37e-02</td>\n",
       "      <td>-2.80e-02</td>\n",
       "      <td>8.51e-03</td>\n",
       "      <td>-6.57e-03</td>\n",
       "      <td>1.13e-02</td>\n",
       "      <td>-9.29e-03</td>\n",
       "      <td>...</td>\n",
       "      <td>2.67e-03</td>\n",
       "      <td>-1.30e-02</td>\n",
       "      <td>4.27e-03</td>\n",
       "      <td>8.86e-02</td>\n",
       "      <td>1.82e-03</td>\n",
       "      <td>-3.03e-03</td>\n",
       "      <td>-6.75e-03</td>\n",
       "      <td>-1.85e-02</td>\n",
       "      <td>-1.67e-02</td>\n",
       "      <td>-4.76e-02</td>\n",
       "    </tr>\n",
       "    <tr>\n",
       "      <th>FLAG_MOBIL</th>\n",
       "      <td>2.80e-03</td>\n",
       "      <td>5.34e-04</td>\n",
       "      <td>5.85e-04</td>\n",
       "      <td>-2.50e-03</td>\n",
       "      <td>-2.51e-03</td>\n",
       "      <td>1.04e-03</td>\n",
       "      <td>3.25e-04</td>\n",
       "      <td>1.44e-03</td>\n",
       "      <td>1.49e-04</td>\n",
       "      <td>1.40e-03</td>\n",
       "      <td>...</td>\n",
       "      <td>5.78e-04</td>\n",
       "      <td>1.06e-03</td>\n",
       "      <td>4.97e-04</td>\n",
       "      <td>-4.49e-04</td>\n",
       "      <td>1.28e-04</td>\n",
       "      <td>1.06e-04</td>\n",
       "      <td>2.81e-04</td>\n",
       "      <td>4.87e-04</td>\n",
       "      <td>5.57e-04</td>\n",
       "      <td>7.95e-04</td>\n",
       "    </tr>\n",
       "    <tr>\n",
       "      <th>FLAG_EMAIL</th>\n",
       "      <td>2.81e-04</td>\n",
       "      <td>-1.76e-03</td>\n",
       "      <td>-1.08e-02</td>\n",
       "      <td>1.82e-02</td>\n",
       "      <td>3.21e-02</td>\n",
       "      <td>2.26e-02</td>\n",
       "      <td>3.84e-02</td>\n",
       "      <td>1.66e-02</td>\n",
       "      <td>7.17e-02</td>\n",
       "      <td>1.70e-02</td>\n",
       "      <td>...</td>\n",
       "      <td>-3.10e-03</td>\n",
       "      <td>-2.57e-03</td>\n",
       "      <td>-2.15e-03</td>\n",
       "      <td>-1.95e-02</td>\n",
       "      <td>3.50e-03</td>\n",
       "      <td>3.87e-03</td>\n",
       "      <td>2.09e-02</td>\n",
       "      <td>2.52e-02</td>\n",
       "      <td>1.39e-02</td>\n",
       "      <td>5.13e-02</td>\n",
       "    </tr>\n",
       "    <tr>\n",
       "      <th>REGION_RATING_CLIENT</th>\n",
       "      <td>-1.07e-03</td>\n",
       "      <td>5.89e-02</td>\n",
       "      <td>-2.16e-02</td>\n",
       "      <td>-1.79e-02</td>\n",
       "      <td>-2.27e-02</td>\n",
       "      <td>2.54e-02</td>\n",
       "      <td>-8.55e-02</td>\n",
       "      <td>-1.02e-01</td>\n",
       "      <td>-1.29e-01</td>\n",
       "      <td>-1.04e-01</td>\n",
       "      <td>...</td>\n",
       "      <td>1.58e-02</td>\n",
       "      <td>3.46e-02</td>\n",
       "      <td>1.82e-02</td>\n",
       "      <td>2.60e-02</td>\n",
       "      <td>5.95e-03</td>\n",
       "      <td>-1.96e-03</td>\n",
       "      <td>1.83e-03</td>\n",
       "      <td>-6.35e-02</td>\n",
       "      <td>5.52e-03</td>\n",
       "      <td>1.12e-02</td>\n",
       "    </tr>\n",
       "    <tr>\n",
       "      <th>HOUR_APPR_PROCESS_START</th>\n",
       "      <td>3.50e-04</td>\n",
       "      <td>-2.42e-02</td>\n",
       "      <td>3.59e-02</td>\n",
       "      <td>7.15e-03</td>\n",
       "      <td>1.44e-02</td>\n",
       "      <td>-7.29e-03</td>\n",
       "      <td>3.65e-02</td>\n",
       "      <td>5.27e-02</td>\n",
       "      <td>5.23e-02</td>\n",
       "      <td>6.23e-02</td>\n",
       "      <td>...</td>\n",
       "      <td>-5.91e-03</td>\n",
       "      <td>-8.95e-03</td>\n",
       "      <td>-8.93e-03</td>\n",
       "      <td>-1.49e-02</td>\n",
       "      <td>-1.43e-02</td>\n",
       "      <td>2.50e-03</td>\n",
       "      <td>-1.71e-03</td>\n",
       "      <td>3.65e-02</td>\n",
       "      <td>1.45e-03</td>\n",
       "      <td>-2.53e-02</td>\n",
       "    </tr>\n",
       "    <tr>\n",
       "      <th>REG_REGION_NOT_LIVE_REGION</th>\n",
       "      <td>-2.83e-04</td>\n",
       "      <td>5.58e-03</td>\n",
       "      <td>1.86e-02</td>\n",
       "      <td>2.37e-02</td>\n",
       "      <td>-6.68e-04</td>\n",
       "      <td>-1.33e-02</td>\n",
       "      <td>3.12e-02</td>\n",
       "      <td>2.40e-02</td>\n",
       "      <td>4.13e-02</td>\n",
       "      <td>2.61e-02</td>\n",
       "      <td>...</td>\n",
       "      <td>-7.92e-03</td>\n",
       "      <td>-2.05e-02</td>\n",
       "      <td>-7.68e-03</td>\n",
       "      <td>3.79e-02</td>\n",
       "      <td>-2.32e-03</td>\n",
       "      <td>-1.60e-03</td>\n",
       "      <td>8.13e-05</td>\n",
       "      <td>-1.50e-03</td>\n",
       "      <td>-3.66e-03</td>\n",
       "      <td>-1.81e-02</td>\n",
       "    </tr>\n",
       "    <tr>\n",
       "      <th>REG_REGION_NOT_WORK_REGION</th>\n",
       "      <td>1.10e-03</td>\n",
       "      <td>6.94e-03</td>\n",
       "      <td>1.58e-02</td>\n",
       "      <td>1.03e-01</td>\n",
       "      <td>3.89e-02</td>\n",
       "      <td>8.18e-03</td>\n",
       "      <td>6.23e-02</td>\n",
       "      <td>5.19e-02</td>\n",
       "      <td>7.94e-02</td>\n",
       "      <td>5.31e-02</td>\n",
       "      <td>...</td>\n",
       "      <td>-1.75e-02</td>\n",
       "      <td>-2.90e-02</td>\n",
       "      <td>-1.71e-02</td>\n",
       "      <td>3.64e-02</td>\n",
       "      <td>-1.99e-03</td>\n",
       "      <td>-1.95e-03</td>\n",
       "      <td>-1.48e-03</td>\n",
       "      <td>6.21e-03</td>\n",
       "      <td>-6.17e-03</td>\n",
       "      <td>-2.19e-02</td>\n",
       "    </tr>\n",
       "    <tr>\n",
       "      <th>LIVE_REGION_NOT_WORK_REGION</th>\n",
       "      <td>2.90e-03</td>\n",
       "      <td>2.82e-03</td>\n",
       "      <td>7.94e-03</td>\n",
       "      <td>1.06e-01</td>\n",
       "      <td>4.64e-02</td>\n",
       "      <td>1.48e-02</td>\n",
       "      <td>5.81e-02</td>\n",
       "      <td>5.26e-02</td>\n",
       "      <td>7.45e-02</td>\n",
       "      <td>5.28e-02</td>\n",
       "      <td>...</td>\n",
       "      <td>-1.70e-02</td>\n",
       "      <td>-2.34e-02</td>\n",
       "      <td>-1.67e-02</td>\n",
       "      <td>2.14e-02</td>\n",
       "      <td>-1.11e-03</td>\n",
       "      <td>-1.07e-03</td>\n",
       "      <td>-1.78e-03</td>\n",
       "      <td>8.71e-03</td>\n",
       "      <td>-6.00e-03</td>\n",
       "      <td>-1.70e-02</td>\n",
       "    </tr>\n",
       "    <tr>\n",
       "      <th>REG_CITY_NOT_LIVE_CITY</th>\n",
       "      <td>-1.88e-03</td>\n",
       "      <td>4.44e-02</td>\n",
       "      <td>1.36e-02</td>\n",
       "      <td>4.83e-02</td>\n",
       "      <td>3.12e-03</td>\n",
       "      <td>2.01e-02</td>\n",
       "      <td>3.57e-03</td>\n",
       "      <td>-2.69e-02</td>\n",
       "      <td>-6.22e-03</td>\n",
       "      <td>-2.72e-02</td>\n",
       "      <td>...</td>\n",
       "      <td>7.22e-03</td>\n",
       "      <td>-1.26e-02</td>\n",
       "      <td>7.60e-03</td>\n",
       "      <td>5.42e-02</td>\n",
       "      <td>-3.30e-04</td>\n",
       "      <td>-2.65e-03</td>\n",
       "      <td>-3.21e-03</td>\n",
       "      <td>-1.30e-02</td>\n",
       "      <td>-2.77e-03</td>\n",
       "      <td>-9.47e-03</td>\n",
       "    </tr>\n",
       "    <tr>\n",
       "      <th>REG_CITY_NOT_WORK_CITY</th>\n",
       "      <td>-1.58e-03</td>\n",
       "      <td>5.10e-02</td>\n",
       "      <td>4.49e-03</td>\n",
       "      <td>1.38e-01</td>\n",
       "      <td>7.61e-02</td>\n",
       "      <td>7.06e-02</td>\n",
       "      <td>6.43e-03</td>\n",
       "      <td>-1.89e-02</td>\n",
       "      <td>8.94e-04</td>\n",
       "      <td>-2.03e-02</td>\n",
       "      <td>...</td>\n",
       "      <td>6.22e-04</td>\n",
       "      <td>-4.57e-03</td>\n",
       "      <td>1.99e-03</td>\n",
       "      <td>4.68e-02</td>\n",
       "      <td>-3.43e-04</td>\n",
       "      <td>-2.48e-03</td>\n",
       "      <td>-4.27e-03</td>\n",
       "      <td>-1.42e-02</td>\n",
       "      <td>-8.21e-03</td>\n",
       "      <td>-1.22e-02</td>\n",
       "    </tr>\n",
       "    <tr>\n",
       "      <th>LIVE_CITY_NOT_WORK_CITY</th>\n",
       "      <td>6.72e-05</td>\n",
       "      <td>3.25e-02</td>\n",
       "      <td>-5.00e-03</td>\n",
       "      <td>1.33e-01</td>\n",
       "      <td>8.81e-02</td>\n",
       "      <td>7.00e-02</td>\n",
       "      <td>8.29e-03</td>\n",
       "      <td>8.08e-05</td>\n",
       "      <td>1.01e-02</td>\n",
       "      <td>-1.33e-03</td>\n",
       "      <td>...</td>\n",
       "      <td>-3.96e-03</td>\n",
       "      <td>1.65e-04</td>\n",
       "      <td>-3.25e-03</td>\n",
       "      <td>2.14e-02</td>\n",
       "      <td>-1.28e-03</td>\n",
       "      <td>-2.17e-03</td>\n",
       "      <td>-4.00e-03</td>\n",
       "      <td>-8.60e-03</td>\n",
       "      <td>-8.09e-03</td>\n",
       "      <td>-1.03e-02</td>\n",
       "    </tr>\n",
       "    <tr>\n",
       "      <th>EXT_SOURCE_2</th>\n",
       "      <td>2.34e-03</td>\n",
       "      <td>-1.60e-01</td>\n",
       "      <td>1.59e-02</td>\n",
       "      <td>-1.46e-02</td>\n",
       "      <td>5.38e-02</td>\n",
       "      <td>-1.80e-02</td>\n",
       "      <td>6.09e-02</td>\n",
       "      <td>1.31e-01</td>\n",
       "      <td>1.26e-01</td>\n",
       "      <td>1.39e-01</td>\n",
       "      <td>...</td>\n",
       "      <td>-3.05e-02</td>\n",
       "      <td>-1.92e-02</td>\n",
       "      <td>-3.24e-02</td>\n",
       "      <td>-1.96e-01</td>\n",
       "      <td>-2.53e-03</td>\n",
       "      <td>1.52e-03</td>\n",
       "      <td>4.08e-03</td>\n",
       "      <td>5.23e-02</td>\n",
       "      <td>2.73e-03</td>\n",
       "      <td>-1.23e-02</td>\n",
       "    </tr>\n",
       "    <tr>\n",
       "      <th>EXT_SOURCE_3</th>\n",
       "      <td>1.99e-04</td>\n",
       "      <td>-1.57e-01</td>\n",
       "      <td>-5.11e-03</td>\n",
       "      <td>-2.05e-02</td>\n",
       "      <td>-1.40e-02</td>\n",
       "      <td>-3.85e-02</td>\n",
       "      <td>-2.93e-02</td>\n",
       "      <td>3.92e-02</td>\n",
       "      <td>2.72e-02</td>\n",
       "      <td>4.30e-02</td>\n",
       "      <td>...</td>\n",
       "      <td>-3.26e-02</td>\n",
       "      <td>-8.63e-04</td>\n",
       "      <td>-3.06e-02</td>\n",
       "      <td>-6.79e-02</td>\n",
       "      <td>-1.15e-03</td>\n",
       "      <td>-6.91e-03</td>\n",
       "      <td>-2.04e-02</td>\n",
       "      <td>-7.71e-03</td>\n",
       "      <td>-1.84e-02</td>\n",
       "      <td>-6.74e-02</td>\n",
       "    </tr>\n",
       "    <tr>\n",
       "      <th>YEARS_BEGINEXPLUATATION_AVG</th>\n",
       "      <td>1.07e-03</td>\n",
       "      <td>-4.66e-03</td>\n",
       "      <td>-2.00e-03</td>\n",
       "      <td>2.07e-03</td>\n",
       "      <td>6.62e-03</td>\n",
       "      <td>6.40e-03</td>\n",
       "      <td>3.09e-03</td>\n",
       "      <td>2.09e-03</td>\n",
       "      <td>6.94e-03</td>\n",
       "      <td>2.62e-03</td>\n",
       "      <td>...</td>\n",
       "      <td>-3.07e-03</td>\n",
       "      <td>3.14e-04</td>\n",
       "      <td>-2.83e-03</td>\n",
       "      <td>3.26e-03</td>\n",
       "      <td>2.29e-04</td>\n",
       "      <td>-1.64e-03</td>\n",
       "      <td>2.33e-03</td>\n",
       "      <td>-2.44e-03</td>\n",
       "      <td>1.55e-03</td>\n",
       "      <td>-4.99e-03</td>\n",
       "    </tr>\n",
       "    <tr>\n",
       "      <th>FLOORSMAX_AVG</th>\n",
       "      <td>3.55e-03</td>\n",
       "      <td>-3.94e-02</td>\n",
       "      <td>2.56e-02</td>\n",
       "      <td>1.22e-02</td>\n",
       "      <td>2.25e-02</td>\n",
       "      <td>-1.69e-02</td>\n",
       "      <td>6.84e-02</td>\n",
       "      <td>8.93e-02</td>\n",
       "      <td>1.12e-01</td>\n",
       "      <td>9.46e-02</td>\n",
       "      <td>...</td>\n",
       "      <td>-2.17e-02</td>\n",
       "      <td>-3.05e-02</td>\n",
       "      <td>-2.18e-02</td>\n",
       "      <td>-1.36e-02</td>\n",
       "      <td>3.80e-03</td>\n",
       "      <td>4.20e-03</td>\n",
       "      <td>1.42e-03</td>\n",
       "      <td>4.84e-02</td>\n",
       "      <td>9.74e-04</td>\n",
       "      <td>-1.27e-02</td>\n",
       "    </tr>\n",
       "    <tr>\n",
       "      <th>YEARS_BEGINEXPLUATATION_MODE</th>\n",
       "      <td>1.31e-03</td>\n",
       "      <td>-4.06e-03</td>\n",
       "      <td>-1.62e-03</td>\n",
       "      <td>1.84e-03</td>\n",
       "      <td>6.17e-03</td>\n",
       "      <td>6.06e-03</td>\n",
       "      <td>2.56e-03</td>\n",
       "      <td>8.17e-04</td>\n",
       "      <td>6.15e-03</td>\n",
       "      <td>1.33e-03</td>\n",
       "      <td>...</td>\n",
       "      <td>-1.95e-03</td>\n",
       "      <td>7.61e-04</td>\n",
       "      <td>-1.83e-03</td>\n",
       "      <td>2.81e-03</td>\n",
       "      <td>7.01e-05</td>\n",
       "      <td>-1.93e-03</td>\n",
       "      <td>1.81e-03</td>\n",
       "      <td>-2.59e-03</td>\n",
       "      <td>1.62e-03</td>\n",
       "      <td>-5.03e-03</td>\n",
       "    </tr>\n",
       "    <tr>\n",
       "      <th>FLOORSMAX_MODE</th>\n",
       "      <td>3.23e-03</td>\n",
       "      <td>-3.84e-02</td>\n",
       "      <td>2.41e-02</td>\n",
       "      <td>1.18e-02</td>\n",
       "      <td>2.26e-02</td>\n",
       "      <td>-1.62e-02</td>\n",
       "      <td>6.56e-02</td>\n",
       "      <td>8.67e-02</td>\n",
       "      <td>1.08e-01</td>\n",
       "      <td>9.19e-02</td>\n",
       "      <td>...</td>\n",
       "      <td>-2.12e-02</td>\n",
       "      <td>-2.92e-02</td>\n",
       "      <td>-2.14e-02</td>\n",
       "      <td>-1.29e-02</td>\n",
       "      <td>3.97e-03</td>\n",
       "      <td>3.82e-03</td>\n",
       "      <td>1.62e-03</td>\n",
       "      <td>4.59e-02</td>\n",
       "      <td>1.32e-03</td>\n",
       "      <td>-1.23e-02</td>\n",
       "    </tr>\n",
       "    <tr>\n",
       "      <th>YEARS_BEGINEXPLUATATION_MEDI</th>\n",
       "      <td>9.41e-04</td>\n",
       "      <td>-4.87e-03</td>\n",
       "      <td>-1.64e-03</td>\n",
       "      <td>2.10e-03</td>\n",
       "      <td>6.62e-03</td>\n",
       "      <td>6.04e-03</td>\n",
       "      <td>3.11e-03</td>\n",
       "      <td>1.77e-03</td>\n",
       "      <td>6.72e-03</td>\n",
       "      <td>2.36e-03</td>\n",
       "      <td>...</td>\n",
       "      <td>-3.10e-03</td>\n",
       "      <td>4.61e-04</td>\n",
       "      <td>-2.93e-03</td>\n",
       "      <td>3.45e-03</td>\n",
       "      <td>2.53e-04</td>\n",
       "      <td>-1.60e-03</td>\n",
       "      <td>1.85e-03</td>\n",
       "      <td>-2.15e-03</td>\n",
       "      <td>1.60e-03</td>\n",
       "      <td>-5.17e-03</td>\n",
       "    </tr>\n",
       "    <tr>\n",
       "      <th>FLOORSMAX_MEDI</th>\n",
       "      <td>3.37e-03</td>\n",
       "      <td>-3.92e-02</td>\n",
       "      <td>2.54e-02</td>\n",
       "      <td>1.20e-02</td>\n",
       "      <td>2.26e-02</td>\n",
       "      <td>-1.66e-02</td>\n",
       "      <td>6.79e-02</td>\n",
       "      <td>8.88e-02</td>\n",
       "      <td>1.11e-01</td>\n",
       "      <td>9.41e-02</td>\n",
       "      <td>...</td>\n",
       "      <td>-2.16e-02</td>\n",
       "      <td>-3.02e-02</td>\n",
       "      <td>-2.17e-02</td>\n",
       "      <td>-1.35e-02</td>\n",
       "      <td>3.92e-03</td>\n",
       "      <td>4.05e-03</td>\n",
       "      <td>1.51e-03</td>\n",
       "      <td>4.77e-02</td>\n",
       "      <td>1.06e-03</td>\n",
       "      <td>-1.28e-02</td>\n",
       "    </tr>\n",
       "    <tr>\n",
       "      <th>TOTALAREA_MODE</th>\n",
       "      <td>1.86e-03</td>\n",
       "      <td>-3.02e-02</td>\n",
       "      <td>1.82e-02</td>\n",
       "      <td>1.10e-02</td>\n",
       "      <td>1.97e-02</td>\n",
       "      <td>-1.35e-02</td>\n",
       "      <td>4.94e-02</td>\n",
       "      <td>6.56e-02</td>\n",
       "      <td>8.10e-02</td>\n",
       "      <td>7.03e-02</td>\n",
       "      <td>...</td>\n",
       "      <td>-1.43e-02</td>\n",
       "      <td>-2.20e-02</td>\n",
       "      <td>-1.54e-02</td>\n",
       "      <td>-1.26e-02</td>\n",
       "      <td>4.81e-03</td>\n",
       "      <td>9.47e-03</td>\n",
       "      <td>6.83e-04</td>\n",
       "      <td>3.75e-02</td>\n",
       "      <td>-1.19e-03</td>\n",
       "      <td>-1.23e-02</td>\n",
       "    </tr>\n",
       "    <tr>\n",
       "      <th>OBS_30_CNT_SOCIAL_CIRCLE</th>\n",
       "      <td>-1.41e-03</td>\n",
       "      <td>9.45e-03</td>\n",
       "      <td>-2.47e-02</td>\n",
       "      <td>-7.33e-03</td>\n",
       "      <td>3.22e-03</td>\n",
       "      <td>1.57e-02</td>\n",
       "      <td>-1.35e-02</td>\n",
       "      <td>8.95e-04</td>\n",
       "      <td>-1.14e-02</td>\n",
       "      <td>7.88e-04</td>\n",
       "      <td>...</td>\n",
       "      <td>3.30e-01</td>\n",
       "      <td>9.98e-01</td>\n",
       "      <td>2.54e-01</td>\n",
       "      <td>-1.52e-02</td>\n",
       "      <td>6.60e-04</td>\n",
       "      <td>-1.95e-03</td>\n",
       "      <td>8.52e-04</td>\n",
       "      <td>2.58e-03</td>\n",
       "      <td>5.23e-03</td>\n",
       "      <td>3.21e-02</td>\n",
       "    </tr>\n",
       "    <tr>\n",
       "      <th>DEF_30_CNT_SOCIAL_CIRCLE</th>\n",
       "      <td>-8.54e-05</td>\n",
       "      <td>3.24e-02</td>\n",
       "      <td>-1.18e-02</td>\n",
       "      <td>-1.80e-02</td>\n",
       "      <td>-1.52e-02</td>\n",
       "      <td>-1.20e-03</td>\n",
       "      <td>-1.35e-02</td>\n",
       "      <td>-2.08e-02</td>\n",
       "      <td>-2.24e-02</td>\n",
       "      <td>-2.19e-02</td>\n",
       "      <td>...</td>\n",
       "      <td>1.00e+00</td>\n",
       "      <td>3.32e-01</td>\n",
       "      <td>8.61e-01</td>\n",
       "      <td>1.88e-04</td>\n",
       "      <td>-2.28e-04</td>\n",
       "      <td>-1.14e-03</td>\n",
       "      <td>-1.97e-03</td>\n",
       "      <td>2.56e-04</td>\n",
       "      <td>-1.20e-03</td>\n",
       "      <td>1.70e-02</td>\n",
       "    </tr>\n",
       "    <tr>\n",
       "      <th>OBS_60_CNT_SOCIAL_CIRCLE</th>\n",
       "      <td>-1.43e-03</td>\n",
       "      <td>9.34e-03</td>\n",
       "      <td>-2.49e-02</td>\n",
       "      <td>-7.24e-03</td>\n",
       "      <td>3.13e-03</td>\n",
       "      <td>1.53e-02</td>\n",
       "      <td>-1.34e-02</td>\n",
       "      <td>9.42e-04</td>\n",
       "      <td>-1.11e-02</td>\n",
       "      <td>8.06e-04</td>\n",
       "      <td>...</td>\n",
       "      <td>3.32e-01</td>\n",
       "      <td>1.00e+00</td>\n",
       "      <td>2.56e-01</td>\n",
       "      <td>-1.56e-02</td>\n",
       "      <td>5.92e-04</td>\n",
       "      <td>-2.04e-03</td>\n",
       "      <td>9.63e-04</td>\n",
       "      <td>2.66e-03</td>\n",
       "      <td>5.05e-03</td>\n",
       "      <td>3.25e-02</td>\n",
       "    </tr>\n",
       "    <tr>\n",
       "      <th>DEF_60_CNT_SOCIAL_CIRCLE</th>\n",
       "      <td>1.18e-03</td>\n",
       "      <td>3.14e-02</td>\n",
       "      <td>-9.27e-03</td>\n",
       "      <td>-1.48e-02</td>\n",
       "      <td>-1.55e-02</td>\n",
       "      <td>-1.81e-03</td>\n",
       "      <td>-1.33e-02</td>\n",
       "      <td>-2.34e-02</td>\n",
       "      <td>-2.37e-02</td>\n",
       "      <td>-2.42e-02</td>\n",
       "      <td>...</td>\n",
       "      <td>8.61e-01</td>\n",
       "      <td>2.56e-01</td>\n",
       "      <td>1.00e+00</td>\n",
       "      <td>1.80e-03</td>\n",
       "      <td>-1.48e-03</td>\n",
       "      <td>-1.72e-03</td>\n",
       "      <td>-2.47e-03</td>\n",
       "      <td>-1.66e-03</td>\n",
       "      <td>-5.85e-04</td>\n",
       "      <td>1.53e-02</td>\n",
       "    </tr>\n",
       "    <tr>\n",
       "      <th>DAYS_LAST_PHONE_CHANGE</th>\n",
       "      <td>-8.59e-04</td>\n",
       "      <td>5.52e-02</td>\n",
       "      <td>6.18e-02</td>\n",
       "      <td>2.53e-02</td>\n",
       "      <td>-3.91e-02</td>\n",
       "      <td>-5.87e-03</td>\n",
       "      <td>-1.86e-02</td>\n",
       "      <td>-7.37e-02</td>\n",
       "      <td>-6.37e-02</td>\n",
       "      <td>-7.63e-02</td>\n",
       "      <td>...</td>\n",
       "      <td>1.88e-04</td>\n",
       "      <td>-1.56e-02</td>\n",
       "      <td>1.80e-03</td>\n",
       "      <td>1.00e+00</td>\n",
       "      <td>-2.80e-03</td>\n",
       "      <td>5.38e-04</td>\n",
       "      <td>-7.65e-03</td>\n",
       "      <td>-4.60e-02</td>\n",
       "      <td>-1.00e-02</td>\n",
       "      <td>-1.16e-01</td>\n",
       "    </tr>\n",
       "    <tr>\n",
       "      <th>AMT_REQ_CREDIT_BUREAU_HOUR</th>\n",
       "      <td>-2.52e-03</td>\n",
       "      <td>-7.36e-05</td>\n",
       "      <td>1.21e-04</td>\n",
       "      <td>2.30e-03</td>\n",
       "      <td>3.68e-03</td>\n",
       "      <td>1.59e-04</td>\n",
       "      <td>1.43e-03</td>\n",
       "      <td>-2.37e-03</td>\n",
       "      <td>3.89e-03</td>\n",
       "      <td>-1.74e-03</td>\n",
       "      <td>...</td>\n",
       "      <td>-2.28e-04</td>\n",
       "      <td>5.92e-04</td>\n",
       "      <td>-1.48e-03</td>\n",
       "      <td>-2.80e-03</td>\n",
       "      <td>1.00e+00</td>\n",
       "      <td>2.31e-01</td>\n",
       "      <td>6.42e-03</td>\n",
       "      <td>2.97e-03</td>\n",
       "      <td>7.25e-04</td>\n",
       "      <td>3.61e-04</td>\n",
       "    </tr>\n",
       "    <tr>\n",
       "      <th>AMT_REQ_CREDIT_BUREAU_DAY</th>\n",
       "      <td>-2.07e-03</td>\n",
       "      <td>1.70e-03</td>\n",
       "      <td>-4.98e-03</td>\n",
       "      <td>5.23e-04</td>\n",
       "      <td>1.51e-03</td>\n",
       "      <td>1.07e-04</td>\n",
       "      <td>3.48e-03</td>\n",
       "      <td>5.03e-03</td>\n",
       "      <td>2.29e-03</td>\n",
       "      <td>5.44e-03</td>\n",
       "      <td>...</td>\n",
       "      <td>-1.14e-03</td>\n",
       "      <td>-2.04e-03</td>\n",
       "      <td>-1.72e-03</td>\n",
       "      <td>5.38e-04</td>\n",
       "      <td>2.31e-01</td>\n",
       "      <td>1.00e+00</td>\n",
       "      <td>2.18e-01</td>\n",
       "      <td>-2.75e-03</td>\n",
       "      <td>-1.55e-03</td>\n",
       "      <td>7.42e-04</td>\n",
       "    </tr>\n",
       "    <tr>\n",
       "      <th>AMT_REQ_CREDIT_BUREAU_WEEK</th>\n",
       "      <td>1.88e-03</td>\n",
       "      <td>-1.31e-03</td>\n",
       "      <td>-1.48e-02</td>\n",
       "      <td>-2.86e-03</td>\n",
       "      <td>2.82e-03</td>\n",
       "      <td>-1.08e-03</td>\n",
       "      <td>3.95e-03</td>\n",
       "      <td>1.63e-03</td>\n",
       "      <td>1.35e-02</td>\n",
       "      <td>1.88e-03</td>\n",
       "      <td>...</td>\n",
       "      <td>-1.97e-03</td>\n",
       "      <td>9.63e-04</td>\n",
       "      <td>-2.47e-03</td>\n",
       "      <td>-7.65e-03</td>\n",
       "      <td>6.42e-03</td>\n",
       "      <td>2.18e-01</td>\n",
       "      <td>1.00e+00</td>\n",
       "      <td>-7.42e-03</td>\n",
       "      <td>-7.47e-03</td>\n",
       "      <td>2.93e-02</td>\n",
       "    </tr>\n",
       "    <tr>\n",
       "      <th>AMT_REQ_CREDIT_BUREAU_MON</th>\n",
       "      <td>3.28e-04</td>\n",
       "      <td>-1.48e-02</td>\n",
       "      <td>-1.43e-02</td>\n",
       "      <td>5.77e-03</td>\n",
       "      <td>2.35e-02</td>\n",
       "      <td>-7.98e-03</td>\n",
       "      <td>2.67e-02</td>\n",
       "      <td>5.55e-02</td>\n",
       "      <td>3.72e-02</td>\n",
       "      <td>5.73e-02</td>\n",
       "      <td>...</td>\n",
       "      <td>2.56e-04</td>\n",
       "      <td>2.66e-03</td>\n",
       "      <td>-1.66e-03</td>\n",
       "      <td>-4.60e-02</td>\n",
       "      <td>2.97e-03</td>\n",
       "      <td>-2.75e-03</td>\n",
       "      <td>-7.42e-03</td>\n",
       "      <td>1.00e+00</td>\n",
       "      <td>5.32e-03</td>\n",
       "      <td>1.37e-02</td>\n",
       "    </tr>\n",
       "    <tr>\n",
       "      <th>AMT_REQ_CREDIT_BUREAU_QRT</th>\n",
       "      <td>8.09e-04</td>\n",
       "      <td>-5.83e-03</td>\n",
       "      <td>-2.14e-02</td>\n",
       "      <td>-9.68e-03</td>\n",
       "      <td>-4.08e-03</td>\n",
       "      <td>-4.91e-03</td>\n",
       "      <td>7.92e-03</td>\n",
       "      <td>2.04e-02</td>\n",
       "      <td>1.07e-02</td>\n",
       "      <td>2.08e-02</td>\n",
       "      <td>...</td>\n",
       "      <td>-1.20e-03</td>\n",
       "      <td>5.05e-03</td>\n",
       "      <td>-5.85e-04</td>\n",
       "      <td>-1.00e-02</td>\n",
       "      <td>7.25e-04</td>\n",
       "      <td>-1.55e-03</td>\n",
       "      <td>-7.47e-03</td>\n",
       "      <td>5.32e-03</td>\n",
       "      <td>1.00e+00</td>\n",
       "      <td>9.57e-02</td>\n",
       "    </tr>\n",
       "    <tr>\n",
       "      <th>AMT_REQ_CREDIT_BUREAU_YEAR</th>\n",
       "      <td>4.07e-03</td>\n",
       "      <td>1.22e-02</td>\n",
       "      <td>-4.96e-02</td>\n",
       "      <td>-2.07e-02</td>\n",
       "      <td>-2.61e-02</td>\n",
       "      <td>-3.49e-02</td>\n",
       "      <td>1.58e-02</td>\n",
       "      <td>-3.66e-02</td>\n",
       "      <td>-8.29e-03</td>\n",
       "      <td>-3.90e-02</td>\n",
       "      <td>...</td>\n",
       "      <td>1.70e-02</td>\n",
       "      <td>3.25e-02</td>\n",
       "      <td>1.53e-02</td>\n",
       "      <td>-1.16e-01</td>\n",
       "      <td>3.61e-04</td>\n",
       "      <td>7.42e-04</td>\n",
       "      <td>2.93e-02</td>\n",
       "      <td>1.37e-02</td>\n",
       "      <td>9.57e-02</td>\n",
       "      <td>1.00e+00</td>\n",
       "    </tr>\n",
       "  </tbody>\n",
       "</table>\n",
       "<p>47 rows × 47 columns</p>\n",
       "</div>"
      ],
      "text/plain": [
       "                              SK_ID_CURR    TARGET  NAME_CONTRACT_TYPE  CODE_GENDER  FLAG_OWN_CAR  CNT_CHILDREN  AMT_INCOME_TOTAL  AMT_CREDIT  AMT_ANNUITY  AMT_GOODS_PRICE  ...  DEF_30_CNT_SOCIAL_CIRCLE  OBS_60_CNT_SOCIAL_CIRCLE  DEF_60_CNT_SOCIAL_CIRCLE  DAYS_LAST_PHONE_CHANGE  AMT_REQ_CREDIT_BUREAU_HOUR  AMT_REQ_CREDIT_BUREAU_DAY  AMT_REQ_CREDIT_BUREAU_WEEK  AMT_REQ_CREDIT_BUREAU_MON  AMT_REQ_CREDIT_BUREAU_QRT  AMT_REQ_CREDIT_BUREAU_YEAR\n",
       "SK_ID_CURR                      1.00e+00 -2.11e-03            1.65e-03    -7.28e-04      1.22e-03     -1.13e-03         -1.82e-03   -3.43e-04    -4.31e-04        -2.58e-04  ...                 -8.54e-05                 -1.43e-03                  1.18e-03               -8.59e-04                   -2.52e-03                  -2.07e-03                    1.88e-03                   3.28e-04                   8.09e-04                    4.07e-03\n",
       "TARGET                         -2.11e-03  1.00e+00           -3.09e-02     5.47e-02     -2.19e-02      1.92e-02         -3.98e-03   -3.04e-02    -1.28e-02        -3.96e-02  ...                  3.24e-02                  9.34e-03                  3.14e-02                5.52e-02                   -7.36e-05                   1.70e-03                   -1.31e-03                  -1.48e-02                  -5.83e-03                    1.22e-02\n",
       "NAME_CONTRACT_TYPE              1.65e-03 -3.09e-02            1.00e+00    -8.78e-03      4.02e-03      3.00e-02         -3.53e-03   -2.22e-01    -2.42e-01        -1.86e-01  ...                 -1.18e-02                 -2.49e-02                 -9.27e-03                6.18e-02                    1.21e-04                  -4.98e-03                   -1.48e-02                  -1.43e-02                  -2.14e-02                   -4.96e-02\n",
       "CODE_GENDER                    -7.28e-04  5.47e-02           -8.78e-03     1.00e+00      3.46e-01      4.74e-02          7.47e-02    2.16e-02     7.70e-02         2.25e-02  ...                 -1.80e-02                 -7.24e-03                 -1.48e-02                2.53e-02                    2.30e-03                   5.23e-04                   -2.86e-03                   5.77e-03                  -9.68e-03                   -2.07e-02\n",
       "FLAG_OWN_CAR                    1.22e-03 -2.19e-02            4.02e-03     3.46e-01      1.00e+00      1.02e-01          8.34e-02    1.16e-01     1.42e-01         1.20e-01  ...                 -1.52e-02                  3.13e-03                 -1.55e-02               -3.91e-02                    3.68e-03                   1.51e-03                    2.82e-03                   2.35e-02                  -4.08e-03                   -2.61e-02\n",
       "CNT_CHILDREN                   -1.13e-03  1.92e-02            3.00e-02     4.74e-02      1.02e-01      1.00e+00          1.29e-02    2.15e-03     2.14e-02        -1.86e-03  ...                 -1.20e-03                  1.53e-02                 -1.81e-03               -5.87e-03                    1.59e-04                   1.07e-04                   -1.08e-03                  -7.98e-03                  -4.91e-03                   -3.49e-02\n",
       "AMT_INCOME_TOTAL               -1.82e-03 -3.98e-03           -3.53e-03     7.47e-02      8.34e-02      1.29e-02          1.00e+00    1.57e-01     1.92e-01         1.60e-01  ...                 -1.35e-02                 -1.34e-02                 -1.33e-02               -1.86e-02                    1.43e-03                   3.48e-03                    3.95e-03                   2.67e-02                   7.92e-03                    1.58e-02\n",
       "AMT_CREDIT                     -3.43e-04 -3.04e-02           -2.22e-01     2.16e-02      1.16e-01      2.15e-03          1.57e-01    1.00e+00     7.70e-01         9.87e-01  ...                 -2.08e-02                  9.42e-04                 -2.34e-02               -7.37e-02                   -2.37e-03                   5.03e-03                    1.63e-03                   5.55e-02                   2.04e-02                   -3.66e-02\n",
       "AMT_ANNUITY                    -4.31e-04 -1.28e-02           -2.42e-01     7.70e-02      1.42e-01      2.14e-02          1.92e-01    7.70e-01     1.00e+00         7.75e-01  ...                 -2.24e-02                 -1.11e-02                 -2.37e-02               -6.37e-02                    3.89e-03                   2.29e-03                    1.35e-02                   3.72e-02                   1.07e-02                   -8.29e-03\n",
       "AMT_GOODS_PRICE                -2.58e-04 -3.96e-02           -1.86e-01     2.25e-02      1.20e-01     -1.86e-03          1.60e-01    9.87e-01     7.75e-01         1.00e+00  ...                 -2.19e-02                  8.06e-04                 -2.42e-02               -7.63e-02                   -1.74e-03                   5.44e-03                    1.88e-03                   5.73e-02                   2.08e-02                   -3.90e-02\n",
       "NAME_TYPE_SUITE                 4.19e-04 -3.15e-03           -8.48e-03    -5.74e-03      3.95e-03      2.71e-02         -1.69e-02    1.53e-02     1.31e-02         1.26e-02  ...                  1.24e-02                  3.52e-02                  9.90e-03                2.60e-02                   -4.33e-03                  -4.24e-03                   -5.67e-03                  -1.32e-02                  -9.16e-03                   -2.63e-02\n",
       "NAME_INCOME_TYPE                2.86e-03 -6.00e-02           -3.60e-02    -1.39e-01     -9.47e-02     -1.40e-01         -5.72e-03    2.90e-02    -2.57e-04         3.00e-02  ...                 -8.53e-04                 -6.12e-03                 -2.43e-03               -1.00e-02                    4.81e-03                   5.75e-03                    4.60e-03                   3.03e-04                   5.51e-03                    1.50e-02\n",
       "REGION_POPULATION_RELATIVE      8.49e-04 -3.72e-02            2.69e-02     1.40e-02      4.13e-02     -2.56e-02          7.48e-02    9.97e-02     1.18e-01         1.04e-01  ...                  5.82e-03                 -1.15e-02                  1.97e-03               -4.40e-02                   -2.22e-03                   1.16e-03                   -2.34e-03                   7.16e-02                  -1.87e-03                   -8.53e-05\n",
       "DAYS_BIRTH                     -1.50e-03  7.82e-02            8.64e-02     1.48e-01      1.30e-01      3.31e-01          2.73e-02   -5.54e-02     9.44e-03        -5.35e-02  ...                  1.36e-04                  6.88e-03                  1.86e-03                8.29e-02                    3.58e-03                   1.02e-03                   -4.01e-03                  -3.58e-03                  -1.63e-02                   -7.30e-02\n",
       "DAYS_EMPLOYED                   1.37e-03 -4.49e-02           -5.45e-02    -1.56e-01     -1.54e-01     -2.40e-01         -6.42e-02   -6.68e-02    -1.04e-01        -6.48e-02  ...                  1.67e-02                  5.93e-03                  1.42e-02                2.30e-02                   -4.55e-03                   3.09e-04                    2.50e-03                  -3.24e-02                   1.35e-02                    4.47e-02\n",
       "DAYS_REGISTRATION              -9.73e-04  4.20e-02            2.06e-02     7.72e-02      8.78e-02      1.83e-01          2.78e-02    9.62e-03     3.85e-02         1.15e-02  ...                  3.36e-03                  9.08e-03                  4.54e-03                5.70e-02                   -2.69e-03                  -4.98e-04                   -1.06e-03                  -1.06e-02                  -1.34e-03                   -2.29e-02\n",
       "DAYS_ID_PUBLISH                -3.84e-04  5.15e-02            5.28e-02     1.32e-04      1.37e-02     -2.80e-02          8.51e-03   -6.57e-03     1.13e-02        -9.29e-03  ...                  2.67e-03                 -1.30e-02                  4.27e-03                8.86e-02                    1.82e-03                  -3.03e-03                   -6.75e-03                  -1.85e-02                  -1.67e-02                   -4.76e-02\n",
       "FLAG_MOBIL                      2.80e-03  5.34e-04            5.85e-04    -2.50e-03     -2.51e-03      1.04e-03          3.25e-04    1.44e-03     1.49e-04         1.40e-03  ...                  5.78e-04                  1.06e-03                  4.97e-04               -4.49e-04                    1.28e-04                   1.06e-04                    2.81e-04                   4.87e-04                   5.57e-04                    7.95e-04\n",
       "FLAG_EMAIL                      2.81e-04 -1.76e-03           -1.08e-02     1.82e-02      3.21e-02      2.26e-02          3.84e-02    1.66e-02     7.17e-02         1.70e-02  ...                 -3.10e-03                 -2.57e-03                 -2.15e-03               -1.95e-02                    3.50e-03                   3.87e-03                    2.09e-02                   2.52e-02                   1.39e-02                    5.13e-02\n",
       "REGION_RATING_CLIENT           -1.07e-03  5.89e-02           -2.16e-02    -1.79e-02     -2.27e-02      2.54e-02         -8.55e-02   -1.02e-01    -1.29e-01        -1.04e-01  ...                  1.58e-02                  3.46e-02                  1.82e-02                2.60e-02                    5.95e-03                  -1.96e-03                    1.83e-03                  -6.35e-02                   5.52e-03                    1.12e-02\n",
       "HOUR_APPR_PROCESS_START         3.50e-04 -2.42e-02            3.59e-02     7.15e-03      1.44e-02     -7.29e-03          3.65e-02    5.27e-02     5.23e-02         6.23e-02  ...                 -5.91e-03                 -8.95e-03                 -8.93e-03               -1.49e-02                   -1.43e-02                   2.50e-03                   -1.71e-03                   3.65e-02                   1.45e-03                   -2.53e-02\n",
       "REG_REGION_NOT_LIVE_REGION     -2.83e-04  5.58e-03            1.86e-02     2.37e-02     -6.68e-04     -1.33e-02          3.12e-02    2.40e-02     4.13e-02         2.61e-02  ...                 -7.92e-03                 -2.05e-02                 -7.68e-03                3.79e-02                   -2.32e-03                  -1.60e-03                    8.13e-05                  -1.50e-03                  -3.66e-03                   -1.81e-02\n",
       "REG_REGION_NOT_WORK_REGION      1.10e-03  6.94e-03            1.58e-02     1.03e-01      3.89e-02      8.18e-03          6.23e-02    5.19e-02     7.94e-02         5.31e-02  ...                 -1.75e-02                 -2.90e-02                 -1.71e-02                3.64e-02                   -1.99e-03                  -1.95e-03                   -1.48e-03                   6.21e-03                  -6.17e-03                   -2.19e-02\n",
       "LIVE_REGION_NOT_WORK_REGION     2.90e-03  2.82e-03            7.94e-03     1.06e-01      4.64e-02      1.48e-02          5.81e-02    5.26e-02     7.45e-02         5.28e-02  ...                 -1.70e-02                 -2.34e-02                 -1.67e-02                2.14e-02                   -1.11e-03                  -1.07e-03                   -1.78e-03                   8.71e-03                  -6.00e-03                   -1.70e-02\n",
       "REG_CITY_NOT_LIVE_CITY         -1.88e-03  4.44e-02            1.36e-02     4.83e-02      3.12e-03      2.01e-02          3.57e-03   -2.69e-02    -6.22e-03        -2.72e-02  ...                  7.22e-03                 -1.26e-02                  7.60e-03                5.42e-02                   -3.30e-04                  -2.65e-03                   -3.21e-03                  -1.30e-02                  -2.77e-03                   -9.47e-03\n",
       "REG_CITY_NOT_WORK_CITY         -1.58e-03  5.10e-02            4.49e-03     1.38e-01      7.61e-02      7.06e-02          6.43e-03   -1.89e-02     8.94e-04        -2.03e-02  ...                  6.22e-04                 -4.57e-03                  1.99e-03                4.68e-02                   -3.43e-04                  -2.48e-03                   -4.27e-03                  -1.42e-02                  -8.21e-03                   -1.22e-02\n",
       "LIVE_CITY_NOT_WORK_CITY         6.72e-05  3.25e-02           -5.00e-03     1.33e-01      8.81e-02      7.00e-02          8.29e-03    8.08e-05     1.01e-02        -1.33e-03  ...                 -3.96e-03                  1.65e-04                 -3.25e-03                2.14e-02                   -1.28e-03                  -2.17e-03                   -4.00e-03                  -8.60e-03                  -8.09e-03                   -1.03e-02\n",
       "EXT_SOURCE_2                    2.34e-03 -1.60e-01            1.59e-02    -1.46e-02      5.38e-02     -1.80e-02          6.09e-02    1.31e-01     1.26e-01         1.39e-01  ...                 -3.05e-02                 -1.92e-02                 -3.24e-02               -1.96e-01                   -2.53e-03                   1.52e-03                    4.08e-03                   5.23e-02                   2.73e-03                   -1.23e-02\n",
       "EXT_SOURCE_3                    1.99e-04 -1.57e-01           -5.11e-03    -2.05e-02     -1.40e-02     -3.85e-02         -2.93e-02    3.92e-02     2.72e-02         4.30e-02  ...                 -3.26e-02                 -8.63e-04                 -3.06e-02               -6.79e-02                   -1.15e-03                  -6.91e-03                   -2.04e-02                  -7.71e-03                  -1.84e-02                   -6.74e-02\n",
       "YEARS_BEGINEXPLUATATION_AVG     1.07e-03 -4.66e-03           -2.00e-03     2.07e-03      6.62e-03      6.40e-03          3.09e-03    2.09e-03     6.94e-03         2.62e-03  ...                 -3.07e-03                  3.14e-04                 -2.83e-03                3.26e-03                    2.29e-04                  -1.64e-03                    2.33e-03                  -2.44e-03                   1.55e-03                   -4.99e-03\n",
       "FLOORSMAX_AVG                   3.55e-03 -3.94e-02            2.56e-02     1.22e-02      2.25e-02     -1.69e-02          6.84e-02    8.93e-02     1.12e-01         9.46e-02  ...                 -2.17e-02                 -3.05e-02                 -2.18e-02               -1.36e-02                    3.80e-03                   4.20e-03                    1.42e-03                   4.84e-02                   9.74e-04                   -1.27e-02\n",
       "YEARS_BEGINEXPLUATATION_MODE    1.31e-03 -4.06e-03           -1.62e-03     1.84e-03      6.17e-03      6.06e-03          2.56e-03    8.17e-04     6.15e-03         1.33e-03  ...                 -1.95e-03                  7.61e-04                 -1.83e-03                2.81e-03                    7.01e-05                  -1.93e-03                    1.81e-03                  -2.59e-03                   1.62e-03                   -5.03e-03\n",
       "FLOORSMAX_MODE                  3.23e-03 -3.84e-02            2.41e-02     1.18e-02      2.26e-02     -1.62e-02          6.56e-02    8.67e-02     1.08e-01         9.19e-02  ...                 -2.12e-02                 -2.92e-02                 -2.14e-02               -1.29e-02                    3.97e-03                   3.82e-03                    1.62e-03                   4.59e-02                   1.32e-03                   -1.23e-02\n",
       "YEARS_BEGINEXPLUATATION_MEDI    9.41e-04 -4.87e-03           -1.64e-03     2.10e-03      6.62e-03      6.04e-03          3.11e-03    1.77e-03     6.72e-03         2.36e-03  ...                 -3.10e-03                  4.61e-04                 -2.93e-03                3.45e-03                    2.53e-04                  -1.60e-03                    1.85e-03                  -2.15e-03                   1.60e-03                   -5.17e-03\n",
       "FLOORSMAX_MEDI                  3.37e-03 -3.92e-02            2.54e-02     1.20e-02      2.26e-02     -1.66e-02          6.79e-02    8.88e-02     1.11e-01         9.41e-02  ...                 -2.16e-02                 -3.02e-02                 -2.17e-02               -1.35e-02                    3.92e-03                   4.05e-03                    1.51e-03                   4.77e-02                   1.06e-03                   -1.28e-02\n",
       "TOTALAREA_MODE                  1.86e-03 -3.02e-02            1.82e-02     1.10e-02      1.97e-02     -1.35e-02          4.94e-02    6.56e-02     8.10e-02         7.03e-02  ...                 -1.43e-02                 -2.20e-02                 -1.54e-02               -1.26e-02                    4.81e-03                   9.47e-03                    6.83e-04                   3.75e-02                  -1.19e-03                   -1.23e-02\n",
       "OBS_30_CNT_SOCIAL_CIRCLE       -1.41e-03  9.45e-03           -2.47e-02    -7.33e-03      3.22e-03      1.57e-02         -1.35e-02    8.95e-04    -1.14e-02         7.88e-04  ...                  3.30e-01                  9.98e-01                  2.54e-01               -1.52e-02                    6.60e-04                  -1.95e-03                    8.52e-04                   2.58e-03                   5.23e-03                    3.21e-02\n",
       "DEF_30_CNT_SOCIAL_CIRCLE       -8.54e-05  3.24e-02           -1.18e-02    -1.80e-02     -1.52e-02     -1.20e-03         -1.35e-02   -2.08e-02    -2.24e-02        -2.19e-02  ...                  1.00e+00                  3.32e-01                  8.61e-01                1.88e-04                   -2.28e-04                  -1.14e-03                   -1.97e-03                   2.56e-04                  -1.20e-03                    1.70e-02\n",
       "OBS_60_CNT_SOCIAL_CIRCLE       -1.43e-03  9.34e-03           -2.49e-02    -7.24e-03      3.13e-03      1.53e-02         -1.34e-02    9.42e-04    -1.11e-02         8.06e-04  ...                  3.32e-01                  1.00e+00                  2.56e-01               -1.56e-02                    5.92e-04                  -2.04e-03                    9.63e-04                   2.66e-03                   5.05e-03                    3.25e-02\n",
       "DEF_60_CNT_SOCIAL_CIRCLE        1.18e-03  3.14e-02           -9.27e-03    -1.48e-02     -1.55e-02     -1.81e-03         -1.33e-02   -2.34e-02    -2.37e-02        -2.42e-02  ...                  8.61e-01                  2.56e-01                  1.00e+00                1.80e-03                   -1.48e-03                  -1.72e-03                   -2.47e-03                  -1.66e-03                  -5.85e-04                    1.53e-02\n",
       "DAYS_LAST_PHONE_CHANGE         -8.59e-04  5.52e-02            6.18e-02     2.53e-02     -3.91e-02     -5.87e-03         -1.86e-02   -7.37e-02    -6.37e-02        -7.63e-02  ...                  1.88e-04                 -1.56e-02                  1.80e-03                1.00e+00                   -2.80e-03                   5.38e-04                   -7.65e-03                  -4.60e-02                  -1.00e-02                   -1.16e-01\n",
       "AMT_REQ_CREDIT_BUREAU_HOUR     -2.52e-03 -7.36e-05            1.21e-04     2.30e-03      3.68e-03      1.59e-04          1.43e-03   -2.37e-03     3.89e-03        -1.74e-03  ...                 -2.28e-04                  5.92e-04                 -1.48e-03               -2.80e-03                    1.00e+00                   2.31e-01                    6.42e-03                   2.97e-03                   7.25e-04                    3.61e-04\n",
       "AMT_REQ_CREDIT_BUREAU_DAY      -2.07e-03  1.70e-03           -4.98e-03     5.23e-04      1.51e-03      1.07e-04          3.48e-03    5.03e-03     2.29e-03         5.44e-03  ...                 -1.14e-03                 -2.04e-03                 -1.72e-03                5.38e-04                    2.31e-01                   1.00e+00                    2.18e-01                  -2.75e-03                  -1.55e-03                    7.42e-04\n",
       "AMT_REQ_CREDIT_BUREAU_WEEK      1.88e-03 -1.31e-03           -1.48e-02    -2.86e-03      2.82e-03     -1.08e-03          3.95e-03    1.63e-03     1.35e-02         1.88e-03  ...                 -1.97e-03                  9.63e-04                 -2.47e-03               -7.65e-03                    6.42e-03                   2.18e-01                    1.00e+00                  -7.42e-03                  -7.47e-03                    2.93e-02\n",
       "AMT_REQ_CREDIT_BUREAU_MON       3.28e-04 -1.48e-02           -1.43e-02     5.77e-03      2.35e-02     -7.98e-03          2.67e-02    5.55e-02     3.72e-02         5.73e-02  ...                  2.56e-04                  2.66e-03                 -1.66e-03               -4.60e-02                    2.97e-03                  -2.75e-03                   -7.42e-03                   1.00e+00                   5.32e-03                    1.37e-02\n",
       "AMT_REQ_CREDIT_BUREAU_QRT       8.09e-04 -5.83e-03           -2.14e-02    -9.68e-03     -4.08e-03     -4.91e-03          7.92e-03    2.04e-02     1.07e-02         2.08e-02  ...                 -1.20e-03                  5.05e-03                 -5.85e-04               -1.00e-02                    7.25e-04                  -1.55e-03                   -7.47e-03                   5.32e-03                   1.00e+00                    9.57e-02\n",
       "AMT_REQ_CREDIT_BUREAU_YEAR      4.07e-03  1.22e-02           -4.96e-02    -2.07e-02     -2.61e-02     -3.49e-02          1.58e-02   -3.66e-02    -8.29e-03        -3.90e-02  ...                  1.70e-02                  3.25e-02                  1.53e-02               -1.16e-01                    3.61e-04                   7.42e-04                    2.93e-02                   1.37e-02                   9.57e-02                    1.00e+00\n",
       "\n",
       "[47 rows x 47 columns]"
      ]
     },
     "execution_count": 86,
     "metadata": {},
     "output_type": "execute_result"
    }
   ],
   "source": [
    "pd.set_option(\"display.precision\",2)\n",
    "data.corr()"
   ]
  },
  {
   "cell_type": "markdown",
   "id": "05e79cbf",
   "metadata": {},
   "source": [
    "Independent variables are not correlated."
   ]
  },
  {
   "cell_type": "markdown",
   "id": "828cc9a2",
   "metadata": {},
   "source": [
    "### 6. FEATURE ENGENIERING"
   ]
  },
  {
   "cell_type": "markdown",
   "id": "9fc38981",
   "metadata": {},
   "source": [
    "##### Creating Dependent And Independent Variables"
   ]
  },
  {
   "cell_type": "code",
   "execution_count": 87,
   "id": "25edbc6f",
   "metadata": {},
   "outputs": [
    {
     "name": "stdout",
     "output_type": "stream",
     "text": [
      "        CNT_CHILDREN  AMT_INCOME_TOTAL  AMT_CREDIT  AMT_ANNUITY  AMT_GOODS_PRICE  REGION_POPULATION_RELATIVE  DAYS_BIRTH  DAYS_EMPLOYED  DAYS_REGISTRATION  DAYS_ID_PUBLISH  ...  ORGANIZATION_TYPE_Trade: type 5  ORGANIZATION_TYPE_Trade: type 6  ORGANIZATION_TYPE_Trade: type 7  ORGANIZATION_TYPE_Transport: type 1  ORGANIZATION_TYPE_Transport: type 2  ORGANIZATION_TYPE_Transport: type 3  ORGANIZATION_TYPE_Transport: type 4  ORGANIZATION_TYPE_University  EMERGENCYSTATE_MODE_No  EMERGENCYSTATE_MODE_Yes\n",
      "0                  0          202500.0    4.07e+05      24700.5         3.51e+05                    1.88e-02       -9461           -637            -3648.0            -2120  ...                                0                                0                                0                                    0                                    0                                    0                                    0                             0                       1                        0\n",
      "1                  0          270000.0    1.29e+06      35698.5         1.13e+06                    3.54e-03      -16765          -1188            -1186.0             -291  ...                                0                                0                                0                                    0                                    0                                    0                                    0                             0                       1                        0\n",
      "2                  0           67500.0    1.35e+05       6750.0         1.35e+05                    1.00e-02      -19046           -225            -4260.0            -2531  ...                                0                                0                                0                                    0                                    0                                    0                                    0                             0                       1                        0\n",
      "3                  0          135000.0    3.13e+05      29686.5         2.97e+05                    8.02e-03      -19005          -3039            -9833.0            -2437  ...                                0                                0                                0                                    0                                    0                                    0                                    0                             0                       1                        0\n",
      "4                  0          121500.0    5.13e+05      21865.5         5.13e+05                    2.87e-02      -19932          -3038            -4311.0            -3458  ...                                0                                0                                0                                    0                                    0                                    0                                    0                             0                       1                        0\n",
      "...              ...               ...         ...          ...              ...                         ...         ...            ...                ...              ...  ...                              ...                              ...                              ...                                  ...                                  ...                                  ...                                  ...                           ...                     ...                      ...\n",
      "307506             0          157500.0    2.55e+05      27558.0         2.25e+05                    3.26e-02       -9327           -236            -8456.0            -1982  ...                                0                                0                                0                                    0                                    0                                    0                                    0                             0                       1                        0\n",
      "307507             0           72000.0    2.70e+05      12001.5         2.25e+05                    2.52e-02      -20775         365243            -4388.0            -4090  ...                                0                                0                                0                                    0                                    0                                    0                                    0                             0                       1                        0\n",
      "307508             0          153000.0    6.78e+05      29979.0         5.85e+05                    5.00e-03      -14966          -7921            -6737.0            -5150  ...                                0                                0                                0                                    0                                    0                                    0                                    0                             0                       1                        0\n",
      "307509             0          171000.0    3.70e+05      20205.0         3.20e+05                    5.31e-03      -11961          -4786            -2562.0             -931  ...                                0                                0                                0                                    0                                    0                                    0                                    0                             0                       1                        0\n",
      "307510             0          157500.0    6.75e+05      49117.5         6.75e+05                    4.62e-02      -16856          -1262            -5128.0             -410  ...                                0                                0                                0                                    0                                    0                                    0                                    0                             0                       1                        0\n",
      "\n",
      "[307511 rows x 165 columns]\n",
      "0         1\n",
      "1         0\n",
      "2         0\n",
      "3         0\n",
      "4         0\n",
      "         ..\n",
      "307506    0\n",
      "307507    0\n",
      "307508    0\n",
      "307509    1\n",
      "307510    0\n",
      "Name: TARGET, Length: 307511, dtype: int64\n"
     ]
    }
   ],
   "source": [
    "X = Z.drop(columns={'SK_ID_CURR','TARGET'}, axis=1) #axis=1 for removing columns and axis=1 for rows\n",
    "y = Z['TARGET']\n",
    "print(X)\n",
    "print(y)"
   ]
  },
  {
   "cell_type": "code",
   "execution_count": 88,
   "id": "13fe96d5",
   "metadata": {
    "scrolled": true
   },
   "outputs": [
    {
     "data": {
      "text/html": [
       "<div>\n",
       "<style scoped>\n",
       "    .dataframe tbody tr th:only-of-type {\n",
       "        vertical-align: middle;\n",
       "    }\n",
       "\n",
       "    .dataframe tbody tr th {\n",
       "        vertical-align: top;\n",
       "    }\n",
       "\n",
       "    .dataframe thead th {\n",
       "        text-align: right;\n",
       "    }\n",
       "</style>\n",
       "<table border=\"1\" class=\"dataframe\">\n",
       "  <thead>\n",
       "    <tr style=\"text-align: right;\">\n",
       "      <th></th>\n",
       "      <th>CNT_CHILDREN</th>\n",
       "      <th>AMT_INCOME_TOTAL</th>\n",
       "      <th>AMT_CREDIT</th>\n",
       "      <th>AMT_ANNUITY</th>\n",
       "      <th>AMT_GOODS_PRICE</th>\n",
       "      <th>REGION_POPULATION_RELATIVE</th>\n",
       "      <th>DAYS_BIRTH</th>\n",
       "      <th>DAYS_EMPLOYED</th>\n",
       "      <th>DAYS_REGISTRATION</th>\n",
       "      <th>DAYS_ID_PUBLISH</th>\n",
       "      <th>...</th>\n",
       "      <th>ORGANIZATION_TYPE_Trade: type 5</th>\n",
       "      <th>ORGANIZATION_TYPE_Trade: type 6</th>\n",
       "      <th>ORGANIZATION_TYPE_Trade: type 7</th>\n",
       "      <th>ORGANIZATION_TYPE_Transport: type 1</th>\n",
       "      <th>ORGANIZATION_TYPE_Transport: type 2</th>\n",
       "      <th>ORGANIZATION_TYPE_Transport: type 3</th>\n",
       "      <th>ORGANIZATION_TYPE_Transport: type 4</th>\n",
       "      <th>ORGANIZATION_TYPE_University</th>\n",
       "      <th>EMERGENCYSTATE_MODE_No</th>\n",
       "      <th>EMERGENCYSTATE_MODE_Yes</th>\n",
       "    </tr>\n",
       "  </thead>\n",
       "  <tbody>\n",
       "    <tr>\n",
       "      <th>0</th>\n",
       "      <td>0</td>\n",
       "      <td>202500.0</td>\n",
       "      <td>4.07e+05</td>\n",
       "      <td>24700.5</td>\n",
       "      <td>3.51e+05</td>\n",
       "      <td>1.88e-02</td>\n",
       "      <td>-9461</td>\n",
       "      <td>-637</td>\n",
       "      <td>-3648.0</td>\n",
       "      <td>-2120</td>\n",
       "      <td>...</td>\n",
       "      <td>0</td>\n",
       "      <td>0</td>\n",
       "      <td>0</td>\n",
       "      <td>0</td>\n",
       "      <td>0</td>\n",
       "      <td>0</td>\n",
       "      <td>0</td>\n",
       "      <td>0</td>\n",
       "      <td>1</td>\n",
       "      <td>0</td>\n",
       "    </tr>\n",
       "    <tr>\n",
       "      <th>1</th>\n",
       "      <td>0</td>\n",
       "      <td>270000.0</td>\n",
       "      <td>1.29e+06</td>\n",
       "      <td>35698.5</td>\n",
       "      <td>1.13e+06</td>\n",
       "      <td>3.54e-03</td>\n",
       "      <td>-16765</td>\n",
       "      <td>-1188</td>\n",
       "      <td>-1186.0</td>\n",
       "      <td>-291</td>\n",
       "      <td>...</td>\n",
       "      <td>0</td>\n",
       "      <td>0</td>\n",
       "      <td>0</td>\n",
       "      <td>0</td>\n",
       "      <td>0</td>\n",
       "      <td>0</td>\n",
       "      <td>0</td>\n",
       "      <td>0</td>\n",
       "      <td>1</td>\n",
       "      <td>0</td>\n",
       "    </tr>\n",
       "    <tr>\n",
       "      <th>2</th>\n",
       "      <td>0</td>\n",
       "      <td>67500.0</td>\n",
       "      <td>1.35e+05</td>\n",
       "      <td>6750.0</td>\n",
       "      <td>1.35e+05</td>\n",
       "      <td>1.00e-02</td>\n",
       "      <td>-19046</td>\n",
       "      <td>-225</td>\n",
       "      <td>-4260.0</td>\n",
       "      <td>-2531</td>\n",
       "      <td>...</td>\n",
       "      <td>0</td>\n",
       "      <td>0</td>\n",
       "      <td>0</td>\n",
       "      <td>0</td>\n",
       "      <td>0</td>\n",
       "      <td>0</td>\n",
       "      <td>0</td>\n",
       "      <td>0</td>\n",
       "      <td>1</td>\n",
       "      <td>0</td>\n",
       "    </tr>\n",
       "    <tr>\n",
       "      <th>3</th>\n",
       "      <td>0</td>\n",
       "      <td>135000.0</td>\n",
       "      <td>3.13e+05</td>\n",
       "      <td>29686.5</td>\n",
       "      <td>2.97e+05</td>\n",
       "      <td>8.02e-03</td>\n",
       "      <td>-19005</td>\n",
       "      <td>-3039</td>\n",
       "      <td>-9833.0</td>\n",
       "      <td>-2437</td>\n",
       "      <td>...</td>\n",
       "      <td>0</td>\n",
       "      <td>0</td>\n",
       "      <td>0</td>\n",
       "      <td>0</td>\n",
       "      <td>0</td>\n",
       "      <td>0</td>\n",
       "      <td>0</td>\n",
       "      <td>0</td>\n",
       "      <td>1</td>\n",
       "      <td>0</td>\n",
       "    </tr>\n",
       "    <tr>\n",
       "      <th>4</th>\n",
       "      <td>0</td>\n",
       "      <td>121500.0</td>\n",
       "      <td>5.13e+05</td>\n",
       "      <td>21865.5</td>\n",
       "      <td>5.13e+05</td>\n",
       "      <td>2.87e-02</td>\n",
       "      <td>-19932</td>\n",
       "      <td>-3038</td>\n",
       "      <td>-4311.0</td>\n",
       "      <td>-3458</td>\n",
       "      <td>...</td>\n",
       "      <td>0</td>\n",
       "      <td>0</td>\n",
       "      <td>0</td>\n",
       "      <td>0</td>\n",
       "      <td>0</td>\n",
       "      <td>0</td>\n",
       "      <td>0</td>\n",
       "      <td>0</td>\n",
       "      <td>1</td>\n",
       "      <td>0</td>\n",
       "    </tr>\n",
       "  </tbody>\n",
       "</table>\n",
       "<p>5 rows × 165 columns</p>\n",
       "</div>"
      ],
      "text/plain": [
       "   CNT_CHILDREN  AMT_INCOME_TOTAL  AMT_CREDIT  AMT_ANNUITY  AMT_GOODS_PRICE  REGION_POPULATION_RELATIVE  DAYS_BIRTH  DAYS_EMPLOYED  DAYS_REGISTRATION  DAYS_ID_PUBLISH  ...  ORGANIZATION_TYPE_Trade: type 5  ORGANIZATION_TYPE_Trade: type 6  ORGANIZATION_TYPE_Trade: type 7  ORGANIZATION_TYPE_Transport: type 1  ORGANIZATION_TYPE_Transport: type 2  ORGANIZATION_TYPE_Transport: type 3  ORGANIZATION_TYPE_Transport: type 4  ORGANIZATION_TYPE_University  EMERGENCYSTATE_MODE_No  EMERGENCYSTATE_MODE_Yes\n",
       "0             0          202500.0    4.07e+05      24700.5         3.51e+05                    1.88e-02       -9461           -637            -3648.0            -2120  ...                                0                                0                                0                                    0                                    0                                    0                                    0                             0                       1                        0\n",
       "1             0          270000.0    1.29e+06      35698.5         1.13e+06                    3.54e-03      -16765          -1188            -1186.0             -291  ...                                0                                0                                0                                    0                                    0                                    0                                    0                             0                       1                        0\n",
       "2             0           67500.0    1.35e+05       6750.0         1.35e+05                    1.00e-02      -19046           -225            -4260.0            -2531  ...                                0                                0                                0                                    0                                    0                                    0                                    0                             0                       1                        0\n",
       "3             0          135000.0    3.13e+05      29686.5         2.97e+05                    8.02e-03      -19005          -3039            -9833.0            -2437  ...                                0                                0                                0                                    0                                    0                                    0                                    0                             0                       1                        0\n",
       "4             0          121500.0    5.13e+05      21865.5         5.13e+05                    2.87e-02      -19932          -3038            -4311.0            -3458  ...                                0                                0                                0                                    0                                    0                                    0                                    0                             0                       1                        0\n",
       "\n",
       "[5 rows x 165 columns]"
      ]
     },
     "execution_count": 88,
     "metadata": {},
     "output_type": "execute_result"
    }
   ],
   "source": [
    "X.head()"
   ]
  },
  {
   "cell_type": "markdown",
   "id": "2b0c06f5",
   "metadata": {},
   "source": [
    "##### Standardizing Data"
   ]
  },
  {
   "cell_type": "code",
   "execution_count": 89,
   "id": "8868dc18",
   "metadata": {},
   "outputs": [],
   "source": [
    "#using the function StandarScaler that we imported to  standardize the data in a common range  for a better prediction.\n",
    "from sklearn.preprocessing import StandardScaler \n",
    "scaler = StandardScaler()"
   ]
  },
  {
   "cell_type": "code",
   "execution_count": 90,
   "id": "3a05f46c",
   "metadata": {},
   "outputs": [],
   "source": [
    "X_standardized_data=scaler.fit_transform(X)"
   ]
  },
  {
   "cell_type": "code",
   "execution_count": 91,
   "id": "f359f9ca",
   "metadata": {},
   "outputs": [],
   "source": [
    "X = pd.DataFrame(X_standardized_data, columns=X.columns, index=X.index)\n"
   ]
  },
  {
   "cell_type": "markdown",
   "id": "fca26a68",
   "metadata": {},
   "source": [
    "### Split Dataset to Train and Test"
   ]
  },
  {
   "cell_type": "code",
   "execution_count": 92,
   "id": "e325a09b",
   "metadata": {},
   "outputs": [],
   "source": [
    "X_train, X_test, y_train, y_test = train_test_split(X,y,test_size=0.1, stratify=y, random_state=2)"
   ]
  },
  {
   "cell_type": "code",
   "execution_count": 93,
   "id": "c66af620",
   "metadata": {},
   "outputs": [
    {
     "name": "stdout",
     "output_type": "stream",
     "text": [
      "(307511, 165) (276759, 165) (30752, 165)\n"
     ]
    }
   ],
   "source": [
    "print(X.shape, X_train.shape, X_test.shape)"
   ]
  },
  {
   "cell_type": "markdown",
   "id": "d369d837",
   "metadata": {},
   "source": [
    "## 7. Building Models"
   ]
  },
  {
   "cell_type": "markdown",
   "id": "fa1938fd",
   "metadata": {},
   "source": [
    "#### 7.1 Logistic Regression"
   ]
  },
  {
   "cell_type": "code",
   "execution_count": 94,
   "id": "64fc4372",
   "metadata": {},
   "outputs": [
    {
     "name": "stdout",
     "output_type": "stream",
     "text": [
      "Training Accuracy    : 91.93 %\n",
      "Model Accuracy Score : 91.93 %\n",
      "\u001b[1m--------------------------------------------------------\u001b[0m\n"
     ]
    },
    {
     "data": {
      "image/png": "[encoded data removed]",
      "text/plain": [
       "<Figure size 432x288 with 2 Axes>"
      ]
     },
     "metadata": {
      "needs_background": "light"
     },
     "output_type": "display_data"
    }
   ],
   "source": [
    "# Logistic Regression\n",
    "from sklearn.metrics import plot_confusion_matrix\n",
    "from sklearn.linear_model import LogisticRegression\n",
    "logreg = LogisticRegression()  \n",
    "logreg.fit(X_train, y_train)\n",
    "y_pred_lr = logreg.predict(X_test)\n",
    "\n",
    "log_train = round(logreg.score(X_train, y_train) * 100, 2)\n",
    "log_accuracy = round(accuracy_score(y_pred_lr, y_test) * 100, 2)\n",
    "\n",
    "print(\"Training Accuracy    :\",log_train ,\"%\")\n",
    "print(\"Model Accuracy Score :\",log_accuracy ,\"%\")\n",
    "print(\"\\033[1m--------------------------------------------------------\\033[0m\")\n",
    "plot_confusion_matrix(logreg, X_test, y_test);\n",
    "plt.title('Confusion Matrix');"
   ]
  },
  {
   "cell_type": "markdown",
   "id": "395714da",
   "metadata": {},
   "source": [
    "#### 7.2 Decision Tree Classifier"
   ]
  },
  {
   "cell_type": "code",
   "execution_count": 95,
   "id": "fef6ff8c",
   "metadata": {},
   "outputs": [
    {
     "name": "stdout",
     "output_type": "stream",
     "text": [
      "Training Accuracy    : 100.0 %\n",
      "Model Accuracy Score : 84.92 %\n",
      "\u001b[1m--------------------------------------------------------\u001b[0m\n"
     ]
    },
    {
     "data": {
      "image/png": "[encoded data removed]",
      "text/plain": [
       "<Figure size 432x288 with 2 Axes>"
      ]
     },
     "metadata": {
      "needs_background": "light"
     },
     "output_type": "display_data"
    }
   ],
   "source": [
    "# Decision Tree\n",
    "from sklearn.tree import DecisionTreeClassifier\n",
    "decision = DecisionTreeClassifier()\n",
    "decision.fit(X_train, y_train)\n",
    "y_pred_dec = decision.predict(X_test)\n",
    "\n",
    "decision_train = round(decision.score(X_train, y_train) * 100, 2)\n",
    "decision_accuracy = round(accuracy_score(y_pred_dec, y_test) * 100, 2)\n",
    "\n",
    "print(\"Training Accuracy    :\",decision_train ,\"%\")\n",
    "print(\"Model Accuracy Score :\",decision_accuracy ,\"%\")\n",
    "print(\"\\033[1m--------------------------------------------------------\\033[0m\")\n",
    "plot_confusion_matrix(decision, X_test, y_test);\n",
    "plt.title('Confusion Matrix');"
   ]
  },
  {
   "cell_type": "markdown",
   "id": "614d4e02",
   "metadata": {},
   "source": [
    "#### 7.3 KNeighbors Classifier\n"
   ]
  },
  {
   "cell_type": "code",
   "execution_count": 96,
   "id": "f1d6c076",
   "metadata": {},
   "outputs": [
    {
     "name": "stdout",
     "output_type": "stream",
     "text": [
      "Training Accuracy    : 92.2 %\n",
      "Model Accuracy Score : 91.47 %\n",
      "\u001b[1m--------------------------------------------------------\u001b[0m\n"
     ]
    },
    {
     "data": {
      "image/png": "[encoded data removed]",
      "text/plain": [
       "<Figure size 432x288 with 2 Axes>"
      ]
     },
     "metadata": {
      "needs_background": "light"
     },
     "output_type": "display_data"
    }
   ],
   "source": [
    "from sklearn.neighbors import KNeighborsClassifier\n",
    "knn = KNeighborsClassifier()\n",
    "knn.fit(X_train, y_train)\n",
    "y_pred_knn = knn.predict(X_test)\n",
    "\n",
    "knn_train = round(knn.score(X_train, y_train) * 100, 2)\n",
    "knn_accuracy = round(accuracy_score(y_pred_knn, y_test) * 100, 2)\n",
    "\n",
    "print(\"Training Accuracy    :\",knn_train ,\"%\")\n",
    "print(\"Model Accuracy Score :\",knn_accuracy ,\"%\")\n",
    "print(\"\\033[1m--------------------------------------------------------\\033[0m\")\n",
    "plot_confusion_matrix(knn, X_test, y_test);\n",
    "plt.title('Confusion Matrix');"
   ]
  },
  {
   "cell_type": "markdown",
   "id": "2cc48ba4",
   "metadata": {},
   "source": [
    "#### 7.4 AdaBoost Classifier"
   ]
  },
  {
   "cell_type": "code",
   "execution_count": 97,
   "id": "3d634612",
   "metadata": {},
   "outputs": [
    {
     "name": "stdout",
     "output_type": "stream",
     "text": [
      "Training Accuracy    : 91.92 %\n",
      "Model Accuracy Score : 91.9 %\n",
      "\u001b[1m--------------------------------------------------------\u001b[0m\n"
     ]
    },
    {
     "data": {
      "image/png": "[encoded data removed]",
      "text/plain": [
       "<Figure size 432x288 with 2 Axes>"
      ]
     },
     "metadata": {
      "needs_background": "light"
     },
     "output_type": "display_data"
    }
   ],
   "source": [
    "from sklearn.ensemble import AdaBoostClassifier\n",
    "ada = AdaBoostClassifier()\n",
    "ada.fit(X_train,y_train)\n",
    "y_pred_ada = ada.predict(X_test)\n",
    "\n",
    "ada_train = round(ada.score(X_train, y_train) * 100, 2)\n",
    "ada_accuracy = round(accuracy_score(y_pred_ada, y_test) * 100, 2)\n",
    "\n",
    "print(\"Training Accuracy    :\",ada_train ,\"%\")\n",
    "print(\"Model Accuracy Score :\",ada_accuracy ,\"%\")\n",
    "print(\"\\033[1m--------------------------------------------------------\\033[0m\")\n",
    "plot_confusion_matrix(ada, X_test, y_test);\n",
    "plt.title('Confusion Matrix');"
   ]
  },
  {
   "cell_type": "markdown",
   "id": "091911e3",
   "metadata": {},
   "source": [
    "#### 7.5 Gradient Boosting Classifier"
   ]
  },
  {
   "cell_type": "code",
   "execution_count": 98,
   "id": "8bb5234e",
   "metadata": {},
   "outputs": [
    {
     "name": "stdout",
     "output_type": "stream",
     "text": [
      "Training Accuracy    : 91.97 %\n",
      "Model Accuracy Score : 91.95 %\n",
      "\u001b[1m--------------------------------------------------------\u001b[0m\n"
     ]
    },
    {
     "data": {
      "image/png": "[encoded data removed]",
      "text/plain": [
       "<Figure size 432x288 with 2 Axes>"
      ]
     },
     "metadata": {
      "needs_background": "light"
     },
     "output_type": "display_data"
    }
   ],
   "source": [
    "from sklearn.ensemble import GradientBoostingClassifier\n",
    "gbc = GradientBoostingClassifier()\n",
    "gbc.fit(X_train,y_train)\n",
    "y_pred_gbc = gbc.predict(X_test)\n",
    "\n",
    "\n",
    "gbc_train = round(gbc.score(X_train, y_train) * 100, 2)\n",
    "gbc_accuracy = round(accuracy_score(y_pred_gbc, y_test) * 100, 2)\n",
    "\n",
    "print(\"Training Accuracy    :\",gbc_train ,\"%\")\n",
    "print(\"Model Accuracy Score :\",gbc_accuracy ,\"%\")\n",
    "print(\"\\033[1m--------------------------------------------------------\\033[0m\")\n",
    "plot_confusion_matrix(gbc, X_test, y_test);\n",
    "plt.title('Confusion Matrix');"
   ]
  },
  {
   "cell_type": "markdown",
   "id": "1cb9dae2",
   "metadata": {},
   "source": [
    "#### 7.6 Bagging Classifier"
   ]
  },
  {
   "cell_type": "code",
   "execution_count": 99,
   "id": "1ff8d295",
   "metadata": {},
   "outputs": [
    {
     "name": "stdout",
     "output_type": "stream",
     "text": [
      "Training Accuracy    : 98.59 %\n",
      "Model Accuracy Score : 91.74 %\n",
      "\u001b[1m--------------------------------------------------------\u001b[0m\n"
     ]
    },
    {
     "data": {
      "image/png": "[encoded data removed]",
      "text/plain": [
       "<Figure size 432x288 with 2 Axes>"
      ]
     },
     "metadata": {
      "needs_background": "light"
     },
     "output_type": "display_data"
    }
   ],
   "source": [
    "from sklearn.ensemble import BaggingClassifier\n",
    "Bag = BaggingClassifier()\n",
    "Bag.fit(X_train,y_train)\n",
    "y_pred_Bag = Bag.predict(X_test)\n",
    "\n",
    "\n",
    "Bag_train = round(Bag.score(X_train, y_train) * 100, 2)\n",
    "Bag_accuracy = round(accuracy_score(y_pred_Bag, y_test) * 100, 2)\n",
    "\n",
    "print(\"Training Accuracy    :\",Bag_train ,\"%\")\n",
    "print(\"Model Accuracy Score :\",Bag_accuracy ,\"%\")\n",
    "print(\"\\033[1m--------------------------------------------------------\\033[0m\")\n",
    "plot_confusion_matrix(Bag, X_test, y_test);\n",
    "plt.title('Confusion Matrix');"
   ]
  },
  {
   "cell_type": "markdown",
   "id": "948f477d",
   "metadata": {},
   "source": [
    "#### 7.7 Random Forest classifier"
   ]
  },
  {
   "cell_type": "code",
   "execution_count": 100,
   "id": "1eee677e",
   "metadata": {},
   "outputs": [
    {
     "name": "stdout",
     "output_type": "stream",
     "text": [
      "Training Accuracy    : 100.0 %\n",
      "Model Accuracy Score : 91.94 %\n",
      "\u001b[1m--------------------------------------------------------\u001b[0m\n"
     ]
    },
    {
     "data": {
      "image/png": "[encoded data removed]",
      "text/plain": [
       "<Figure size 432x288 with 2 Axes>"
      ]
     },
     "metadata": {
      "needs_background": "light"
     },
     "output_type": "display_data"
    }
   ],
   "source": [
    "# Random Forest\n",
    "from sklearn.ensemble import RandomForestClassifier\n",
    "random_forest = RandomForestClassifier()\n",
    "random_forest.fit(X_train, y_train)\n",
    "y_pred_rf = random_forest.predict(X_test)\n",
    "random_forest.score(X_train, y_train)\n",
    "\n",
    "random_forest_train = round(random_forest.score(X_train, y_train) * 100, 2)\n",
    "random_forest_accuracy = round(accuracy_score(y_pred_rf, y_test) * 100, 2)\n",
    "\n",
    "print(\"Training Accuracy    :\",random_forest_train ,\"%\")\n",
    "print(\"Model Accuracy Score :\",random_forest_accuracy ,\"%\")\n",
    "print(\"\\033[1m--------------------------------------------------------\\033[0m\")\n",
    "plot_confusion_matrix(random_forest, X_test, y_test);\n",
    "plt.title('Confusion Matrix');"
   ]
  },
  {
   "cell_type": "markdown",
   "id": "823aa541",
   "metadata": {},
   "source": [
    "## 8. Model Comparison"
   ]
  },
  {
   "cell_type": "markdown",
   "id": "9e7a395c",
   "metadata": {},
   "source": [
    "#### Comparison Table"
   ]
  },
  {
   "cell_type": "code",
   "execution_count": 101,
   "id": "24d15423",
   "metadata": {},
   "outputs": [],
   "source": [
    "Models = pd.DataFrame({\n",
    "    'Model': [\n",
    "        'Logistic Regression','Decision Tree','KNN', 'AdaBoostClassifier', 'GradientBoostingClassifier',\n",
    "        'BaggingClassifier','RandomForestClassifier'\n",
    "        \n",
    "    ],\n",
    "    \n",
    "    'Model Accuracy Score (%)': [\n",
    "        log_accuracy, decision_accuracy, knn_accuracy,ada_accuracy,gbc_accuracy, \n",
    "       Bag_accuracy, random_forest_accuracy\n",
    "    ]\n",
    "})"
   ]
  },
  {
   "cell_type": "code",
   "execution_count": 102,
   "id": "319ee22e",
   "metadata": {},
   "outputs": [
    {
     "data": {
      "text/html": [
       "<style type=\"text/css\">\n",
       "#T_1ef0a_row0_col0, #T_1ef0a_row1_col0, #T_1ef0a_row2_col0, #T_1ef0a_row3_col0, #T_1ef0a_row4_col0, #T_1ef0a_row5_col0, #T_1ef0a_row6_col0 {\n",
       "  font-family: Lucida Calligraphy;\n",
       "  color: LigntGreen;\n",
       "  font-size: 15px;\n",
       "}\n",
       "#T_1ef0a_row0_col1, #T_1ef0a_row1_col1, #T_1ef0a_row2_col1 {\n",
       "  background-color: #b40426;\n",
       "  color: #f1f1f1;\n",
       "  font-family: Lucida Calligraphy;\n",
       "  color: LigntGreen;\n",
       "  font-size: 15px;\n",
       "}\n",
       "#T_1ef0a_row3_col1 {\n",
       "  background-color: #b50927;\n",
       "  color: #f1f1f1;\n",
       "  font-family: Lucida Calligraphy;\n",
       "  color: LigntGreen;\n",
       "  font-size: 15px;\n",
       "}\n",
       "#T_1ef0a_row4_col1 {\n",
       "  background-color: #be242e;\n",
       "  color: #f1f1f1;\n",
       "  font-family: Lucida Calligraphy;\n",
       "  color: LigntGreen;\n",
       "  font-size: 15px;\n",
       "}\n",
       "#T_1ef0a_row5_col1 {\n",
       "  background-color: #cc403a;\n",
       "  color: #f1f1f1;\n",
       "  font-family: Lucida Calligraphy;\n",
       "  color: LigntGreen;\n",
       "  font-size: 15px;\n",
       "}\n",
       "#T_1ef0a_row6_col1 {\n",
       "  background-color: #3b4cc0;\n",
       "  color: #f1f1f1;\n",
       "  font-family: Lucida Calligraphy;\n",
       "  color: LigntGreen;\n",
       "  font-size: 15px;\n",
       "}\n",
       "</style>\n",
       "<table id=\"T_1ef0a\">\n",
       "  <thead>\n",
       "    <tr>\n",
       "      <th id=\"T_1ef0a_level0_col0\" class=\"col_heading level0 col0\" >Model</th>\n",
       "      <th id=\"T_1ef0a_level0_col1\" class=\"col_heading level0 col1\" >Model Accuracy Score (%)</th>\n",
       "    </tr>\n",
       "  </thead>\n",
       "  <tbody>\n",
       "    <tr>\n",
       "      <td id=\"T_1ef0a_row0_col0\" class=\"data row0 col0\" >GradientBoostingClassifier</td>\n",
       "      <td id=\"T_1ef0a_row0_col1\" class=\"data row0 col1\" >91.950000</td>\n",
       "    </tr>\n",
       "    <tr>\n",
       "      <td id=\"T_1ef0a_row1_col0\" class=\"data row1 col0\" >RandomForestClassifier</td>\n",
       "      <td id=\"T_1ef0a_row1_col1\" class=\"data row1 col1\" >91.940000</td>\n",
       "    </tr>\n",
       "    <tr>\n",
       "      <td id=\"T_1ef0a_row2_col0\" class=\"data row2 col0\" >Logistic Regression</td>\n",
       "      <td id=\"T_1ef0a_row2_col1\" class=\"data row2 col1\" >91.930000</td>\n",
       "    </tr>\n",
       "    <tr>\n",
       "      <td id=\"T_1ef0a_row3_col0\" class=\"data row3 col0\" >AdaBoostClassifier</td>\n",
       "      <td id=\"T_1ef0a_row3_col1\" class=\"data row3 col1\" >91.900000</td>\n",
       "    </tr>\n",
       "    <tr>\n",
       "      <td id=\"T_1ef0a_row4_col0\" class=\"data row4 col0\" >BaggingClassifier</td>\n",
       "      <td id=\"T_1ef0a_row4_col1\" class=\"data row4 col1\" >91.740000</td>\n",
       "    </tr>\n",
       "    <tr>\n",
       "      <td id=\"T_1ef0a_row5_col0\" class=\"data row5 col0\" >KNN</td>\n",
       "      <td id=\"T_1ef0a_row5_col1\" class=\"data row5 col1\" >91.470000</td>\n",
       "    </tr>\n",
       "    <tr>\n",
       "      <td id=\"T_1ef0a_row6_col0\" class=\"data row6 col0\" >Decision Tree</td>\n",
       "      <td id=\"T_1ef0a_row6_col1\" class=\"data row6 col1\" >84.920000</td>\n",
       "    </tr>\n",
       "  </tbody>\n",
       "</table>\n"
      ],
      "text/plain": [
       "<pandas.io.formats.style.Styler at 0x7fc781e5ab50>"
      ]
     },
     "execution_count": 102,
     "metadata": {},
     "output_type": "execute_result"
    }
   ],
   "source": [
    "pd.set_option(\"display.precision\",2)\n",
    "\n",
    "Models.sort_values(by='Model Accuracy Score (%)', ascending=False).style.background_gradient(\n",
    "        cmap='coolwarm').hide_index().set_properties(**{\n",
    "            'font-family': 'Lucida Calligraphy',\n",
    "            'color': 'LigntGreen',\n",
    "            'font-size': '15px'\n",
    "        })"
   ]
  },
  {
   "cell_type": "markdown",
   "id": "05fd9e61",
   "metadata": {},
   "source": [
    "## 9. Using the Best Model for Predictions"
   ]
  },
  {
   "cell_type": "markdown",
   "id": "793533fd",
   "metadata": {},
   "source": [
    "The Gradient Boosting Classifier appears to be the best model. We will use it to make prediction."
   ]
  },
  {
   "cell_type": "code",
   "execution_count": 116,
   "id": "779b83e0",
   "metadata": {},
   "outputs": [
    {
     "name": "stdout",
     "output_type": "stream",
     "text": [
      "[[-1.37731859e+00 -7.11858181e-01 -1.48829270e+00 -1.87030456e+00\n",
      "  -1.45770491e+00  2.09470908e+01  3.67486425e+00 -4.51709732e-01\n",
      "   1.41548020e+00  1.98475381e+00 -5.53535839e+02 -1.30534577e+00\n",
      "  -4.23455296e+00 -3.79353810e+00 -1.13938127e+00 -1.28475088e+00\n",
      "  -1.24825055e+00 -1.37600990e+00 -1.84670223e+00 -1.68666423e+00\n",
      "  -1.21381501e+01  1.41427628e+00 -2.00447699e+01  1.01486745e+01\n",
      "  -1.84446048e+01  1.05938004e+01 -1.98586752e+01  1.01184637e+01\n",
      "  -1.48731412e+01 -8.37458805e-01 -1.03899519e+00 -8.37033403e-01\n",
      "  -1.03772347e+00  1.16324802e+00 -9.80919261e-01 -6.29104906e-01\n",
      "  -9.72905722e-01  7.77166048e-01 -7.23398660e-01 -1.57788851e+00\n",
      "  -1.97742620e+00 -1.42962764e+00  1.30757290e-01 -2.23930285e+00\n",
      "   1.22474465e-01 -2.23331340e+00 -2.10613337e+00 -6.32178297e-02\n",
      "  -1.11436286e+00 -1.53768130e+00 -1.03058132e+00 -1.05596649e+00\n",
      "  -1.08187610e+00 -1.23433742e+00 -8.49955525e-01 -1.00573517e+00\n",
      "   3.74282940e+00 -1.00404861e+00 -1.68813366e+00 -1.35149973e+00\n",
      "  -1.00770955e+00 -1.00853011e+00 -3.10067150e+00 -1.02363336e+00\n",
      "  -1.88904890e+00 -1.22052021e+00 -1.12466001e+00 -1.57340616e-01\n",
      "  -1.43462959e+00  2.35671555e-01 -1.33082901e+00 -1.58982654e+00\n",
      "  -1.00255677e+00 -1.29016237e+00 -1.06417657e+00 -1.67956386e+00\n",
      "  -1.23200281e+00 -1.10122947e+00 -1.14312705e+00 -1.27588399e+00\n",
      "  -1.21451991e+00 -1.13931377e+00 -1.16013488e+00 -1.41230830e+00\n",
      "   1.62764300e+01 -1.04466160e+00 -1.23446194e+00 -1.04310714e+00\n",
      "  -2.95798906e+00 -1.08963517e+00 -1.34797684e+00 -1.19753457e+00\n",
      "  -1.10196809e+00 -1.05192713e+00 -1.45797177e+00 -1.06954458e+00\n",
      "  -1.17182524e+00 -1.07075711e+00 -1.63815650e+00 -1.64188152e+00\n",
      "  -1.47541349e+00 -1.29121496e+00  5.63462433e+00 -1.67355017e+00\n",
      "  -1.65398333e+00 -1.03877376e+00 -1.09773497e+00 -1.09888138e+00\n",
      "  -1.16072025e+00 -1.22404964e+00 -1.81666243e+00 -1.02993597e+00\n",
      "  -1.17182524e+00 -1.03636229e+00 -1.05876660e+00 -1.04453734e+00\n",
      "   2.93698672e+01 -1.05928725e+00 -1.10826509e+00 -1.06161558e+00\n",
      "  -1.01918500e+00 -1.10305817e+00 -1.03586260e+00 -1.01498024e+00\n",
      "  -1.04011283e+00 -1.11457558e+00 -1.05633987e+00 -1.04612974e+00\n",
      "  -1.01945223e+00 -1.06960136e+00 -1.00891276e+00 -1.11630557e+00\n",
      "  -1.04604926e+00 -1.17416374e+00 -1.68825363e+00 -1.03250185e+00\n",
      "  -1.23212794e+00 -1.10158873e+00 -1.03315545e+00 -1.29687122e+00\n",
      "  -1.09525614e+00 -1.09111114e+00 -1.03719790e+00 -1.01690446e+00\n",
      "  -1.08289234e+00 -1.20235086e+00 -1.11397535e+00 -1.08683958e+00\n",
      "  -1.52055646e+00 -1.07689864e+00 -1.04523750e+00 -1.03479226e+00\n",
      "  -1.08506535e+00 -1.11865946e+00 -1.01463612e+00 -1.01278352e+00\n",
      "  -1.04740128e+00 -1.18778270e+00 -1.02622871e+00 -1.09218345e+00\n",
      "  -1.06612434e+00 -1.15153681e+00 -1.07016708e+00 -1.04419287e+01\n",
      "  -1.09496783e+00]]\n",
      "[0]\n",
      "CONCLUSION: The client will default\n"
     ]
    }
   ],
   "source": [
    "#Input data as a numpy array\n",
    "Input_data = X.sample(1)\n",
    "#changing to numpy array\n",
    "Input_data = np.asarray(Input_data)\n",
    "#reshape the array as we are predicting for one instance\n",
    "Input_data=Input_data.reshape(1,-1)\n",
    "#Standardize the input data\n",
    "std_data = scaler.transform(Input_data)\n",
    "print(std_data)\n",
    "prediction =gbc.predict(std_data)\n",
    "print(prediction)\n",
    "\n",
    "if (prediction[0] == 0):\n",
    "    print('CONCLUSION: The client will default')\n",
    "else:\n",
    "    print('CONCLUSION: The client will not default')"
   ]
  }
 ],
 "metadata": {
  "kernelspec": {
   "display_name": "Python 3 (ipykernel)",
   "language": "python",
   "name": "python3"
  },
  "language_info": {
   "codemirror_mode": {
    "name": "ipython",
    "version": 3
   },
   "file_extension": ".py",
   "mimetype": "text/x-python",
   "name": "python",
   "nbconvert_exporter": "python",
   "pygments_lexer": "ipython3",
   "version": "3.9.12"
  }
 },
 "nbformat": 4,
 "nbformat_minor": 5
}
